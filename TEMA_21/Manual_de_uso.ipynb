{
 "cells": [
  {
   "cell_type": "markdown",
   "id": "e2e6143d",
   "metadata": {},
   "source": [
    "<div id=\"titulo\"><h1><u>Manual de uso</u></h1><div>"
   ]
  },
  {
   "cell_type": "markdown",
   "id": "19415660",
   "metadata": {},
   "source": [
    "**ÍNDICE**"
   ]
  },
  {
   "cell_type": "markdown",
   "id": "682ca508",
   "metadata": {},
   "source": [
    "1.- [Introducción](#Introduccion)."
   ]
  },
  {
   "cell_type": "markdown",
   "id": "36981b29",
   "metadata": {},
   "source": [
    "2.- [Sobre Jupyter Notebook](#sobreJupyter)."
   ]
  },
  {
   "cell_type": "markdown",
   "id": "fe952cda",
   "metadata": {},
   "source": [
    "3.- [Barra de notificaciones](#BarraDeNotificaciones)."
   ]
  },
  {
   "cell_type": "markdown",
   "id": "e2ca946d",
   "metadata": {},
   "source": [
    "4.- [Guía de inicio rápido](#guiaInicio)."
   ]
  },
  {
   "cell_type": "markdown",
   "id": "77d675b3",
   "metadata": {},
   "source": [
    "5.- [Glosario](#Glosario)."
   ]
  },
  {
   "cell_type": "markdown",
   "id": "789be5e1",
   "metadata": {},
   "source": [
    "<div id=\"Introduccion\"><h2><u>1.- Introducción</u></h2></div>"
   ]
  },
  {
   "cell_type": "markdown",
   "id": "abf92620",
   "metadata": {},
   "source": [
    "Este proyecto contiene la teoria y los ejercicios del tema 21, Flujo en conductos abiertos. Canales, de la asignatura de Mecánica de fluidos. El objetivo del proyecto es proporcionar material extra para el alumnado y darle facilidades para el aprendizaje de la asignatura de Mecánica de fluidos. \n"
   ]
  },
  {
   "cell_type": "markdown",
   "id": "74aca6d1",
   "metadata": {},
   "source": [
    "<div id=\"sobreJupyter\"><h2><u>2.- Sobre Jupyter Notebook</u></h2></div>"
   ]
  },
  {
   "cell_type": "markdown",
   "id": "8e67a5af",
   "metadata": {},
   "source": [
    "[Jupyter](#Notebook) es una aplicación web de código abierto que permite crear y compartir código y documentos además de ser un entorno informático interactivo el cual soporta una gran cantidad de lenguajes de programación.\n",
    "\n",
    "[Jupyter](#Notebook) está basado en un sistema de celdas de entrada y salida, en las cuales cada una puede contener código de diversos lenguajes de programación, texto en formato markdown, texto en formato de programación o poder visualizar videos o imágenes, por lo que, es muy útil en enseñanza, ya que se puede mostrar con ejemplos como funciona un script, un lenguaje o pedir a los alumnos que propongan y validen su propio código. \n",
    "\n",
    "Proporciona un entorno donde se puede registrar código, ejecutar código, visualizar datos y ver resultados de salida del código creado. \n",
    "\n",
    "[Jupyter](#Notebook) es realmente útil, ya que su código se puede escribir en unidades separadas y se ejecuta por separado. Esto permite probar bloques de código específicos en el proyecto sin tener que ejecutar el código desde el principio del script.\n",
    "\n",
    "[Jupyter](#Notebook) es compatible con código en tiempo real, ecuaciones matemáticas, visualización y Markdown. Sus usos incluyen limpieza y conversión de datos, simulación numérica, modelado estadístico y máquinas. \n",
    "\n",
    "El único requisito para poder acceder a un cuaderno de [Jupyter](#Notebook) es ejecutar un servidor de [Jupyter](#Notebook). Este es instalable desde Anaconda o Python. Existen un servidor web como [MyBinder](#MyBinder), que crean una imagen virtual del servidor de [Jupyter](#Notebook), permitiendo al usuario visualizar los cuadernos sin necesidad de instalar Anaconda o Python.\n",
    "\n",
    "Los cuadernos [Jupyter](#Notebook) pueden ser exportados en Python, [HTML](#HTML) o Markdown para su edición sin tener que tener un servidor web como Jupyter.\n",
    "\n",
    "\n",
    "\n"
   ]
  },
  {
   "cell_type": "markdown",
   "id": "5ced70a2",
   "metadata": {},
   "source": [
    "<h4><u>2.1.- Interfaz de los cuadernos</u></h4>"
   ]
  },
  {
   "cell_type": "markdown",
   "id": "c6c7c140",
   "metadata": {},
   "source": [
    "Para el uso de los cuadernos solo serán necesarios los controles mostrados a continuación."
   ]
  },
  {
   "cell_type": "markdown",
   "id": "644ce97e",
   "metadata": {},
   "source": [
    "<div id=\"interfaz\"><img src=\"MEDIA/interfazJupyter.png\"style=\"width:90%;left:0;\"></div>"
   ]
  },
  {
   "cell_type": "markdown",
   "id": "ab0466a8",
   "metadata": {},
   "source": [
    "<div><img src=\"MEDIA/controlesJupyter.png\"style=\"width:50%;float:left\"><img src=\"MEDIA/barraJupyter.png\"style=\"width:50%;\"></div>"
   ]
  },
  {
   "cell_type": "markdown",
   "id": "202ac1ee",
   "metadata": {},
   "source": [
    "**NOTA: Aclaración de los mensajes de la barra de notificaciones en** [Barra de notificaciones](#BarraDeNotificaciones)"
   ]
  },
  {
   "cell_type": "markdown",
   "id": "34e0175a",
   "metadata": {},
   "source": [
    "<div id=\"iniciarCuaderno\"><h4><u>2.2.- Siempre hacer al iniciar cualquier cuaderno</u></h4></div>"
   ]
  },
  {
   "cell_type": "markdown",
   "id": "b02de086",
   "metadata": {},
   "source": [
    "Para que todas las funciones de JavaScript implementadas en el cuaderno funcionen, lo primero que se debe de hacer es iniciarlo de la siguiente manera. Consultar en [Trusted / Not Trusted](#trustNotTrust) para informarse sobre el estado de TRUSTED/NOT TRUSTED."
   ]
  },
  {
   "cell_type": "markdown",
   "id": "257ed7b0",
   "metadata": {},
   "source": [
    "<div><img src=\"MEDIA/aviso_trust.png\"style=\"width:60%;\"></div>"
   ]
  },
  {
   "cell_type": "markdown",
   "id": "2ce445f9",
   "metadata": {},
   "source": [
    "Ignorar el segundo paso si al clicar sobre \"Not trusted\" no aparece ninguna ventana como en la segunda imagen."
   ]
  },
  {
   "cell_type": "markdown",
   "id": "93ee7cc1",
   "metadata": {},
   "source": [
    "Para sincronizar con el [kernel](#Kernel) es necesario ejecutarlo con [Restart and run cells](#interfaz)."
   ]
  },
  {
   "cell_type": "markdown",
   "id": "5c7eb6ee",
   "metadata": {},
   "source": [
    "Por último, pulsar en [guardar](#interfaz) para guardar el estado \"Trust\" del cuaderno, por lo que cada vez que se inicie un cuaderno de nuevo el kernel ya estará sincronizado y aparecerá arriba ala derecha \"Trusted\". "
   ]
  },
  {
   "cell_type": "markdown",
   "id": "198a65f7",
   "metadata": {},
   "source": [
    "<h4><u>2.3.- Mostrar u ocultar código</u></h4>"
   ]
  },
  {
   "cell_type": "markdown",
   "id": "ee8899a0",
   "metadata": {},
   "source": [
    "El objetivo principal de estos cuadernos es el aprendizaje de la asignatura de Mecánica de fluidos, es por ello que se ha implementado una función para mostrar u ocultar el código, se encuentra siempre al principio de cada cuaderno. El aspecto es el siguiente:"
   ]
  },
  {
   "cell_type": "code",
   "execution_count": 2,
   "id": "29ed59b9",
   "metadata": {},
   "outputs": [
    {
     "data": {
      "text/html": [
       "<script>\n",
       "\n",
       "code_show=true; \n",
       "\n",
       "function code_toggle() {\n",
       " if (code_show){\n",
       " $('div.input').hide();\n",
       " } else {\n",
       " $('div.input').show();\n",
       " }\n",
       " code_show = !code_show\n",
       "} \n",
       "\n",
       "$( document ).ready(code_toggle);\n",
       "\n",
       "</script>\n",
       "<a href=\"javascript:code_toggle()\">Mostrar/ocultar celdas de código</a>."
      ],
      "text/plain": [
       "<IPython.core.display.HTML object>"
      ]
     },
     "execution_count": 2,
     "metadata": {},
     "output_type": "execute_result"
    }
   ],
   "source": [
    "from IPython.display import HTML\n",
    "HTML('''<script>\n",
    "\n",
    "code_show=true; \n",
    "\n",
    "function code_toggle() {\n",
    " if (code_show){\n",
    " $('div.input').hide();\n",
    " } else {\n",
    " $('div.input').show();\n",
    " }\n",
    " code_show = !code_show\n",
    "} \n",
    "\n",
    "$( document ).ready(code_toggle);\n",
    "\n",
    "</script>\n",
    "<a href=\"javascript:code_toggle()\">Mostrar/ocultar celdas de código</a>.''')"
   ]
  },
  {
   "cell_type": "markdown",
   "id": "00b7500b",
   "metadata": {},
   "source": [
    "Si se pulsa se puede observar como se muestra o se oculta el código."
   ]
  },
  {
   "cell_type": "markdown",
   "id": "87db5098",
   "metadata": {},
   "source": [
    "Mediante esta función se consigue que los cuadernos tengan un aspecto más \"limpio\" y que no se tan cargante con el código de por medio ya que podría desorientar al usuario del cuaderno."
   ]
  },
  {
   "cell_type": "markdown",
   "id": "461ec75a",
   "metadata": {},
   "source": [
    "<h4><u>2.4.- Widgets</u></h4>"
   ]
  },
  {
   "cell_type": "markdown",
   "id": "9be38322",
   "metadata": {},
   "source": [
    "Para que el usuario interactúe con los ejercicios, se disponen los [widgets](#Widgets). Son elementos que permiten la introducción de datos para el cálculo de parámetros en tiempo real. En el ejemplo siguiente, se muestra una calculadora creada con el fin de entender cómo funcionan los cuadernos interactivos del proyecto.\n",
    "\n",
    "Primeramente, se deberán escribir los valores de 'x' e 'y' en sus respectivos casilleros, también es posible aumentar el valor de las dos variables mediante dos flechas si ponemos el cursor encima de la esquina derecha de los casilleros. Una vez insertados los dos números se deberá elegir la operación pinchando en el desplegable donde nos dará las distintas operaciones que se pueden realizar, hacemos click izquierdo en una de las opciones y pulsamos 'calcular' para obtener el resultado.\n",
    "\n",
    "Si se  pulsa dos veces el botón 'Empezar ejercicio/Reiniciar datos' se reiniciará el ejercicio así como las variables."
   ]
  },
  {
   "cell_type": "code",
   "execution_count": 3,
   "id": "8741197c",
   "metadata": {},
   "outputs": [
    {
     "data": {
      "text/html": [
       "\n",
       "<button onclick=\"ejecutar(30,33)\">Empezar ejercicio/Reiniciar datos(dos clicks )</button>\n",
       "<script>function ejecutar(desde, hasta){\n",
       "    for(i = desde; i < hasta; i++)\n",
       "Jupyter.notebook.execute_cells([i])\n",
       "}</script>"
      ],
      "text/plain": [
       "<IPython.core.display.HTML object>"
      ]
     },
     "execution_count": 3,
     "metadata": {},
     "output_type": "execute_result"
    }
   ],
   "source": [
    "#casilla 30\n",
    "\n",
    "from IPython.display import HTML\n",
    "HTML('''\n",
    "<button onclick=\"ejecutar(30,33)\">Empezar ejercicio/Reiniciar datos(dos clicks )</button>\n",
    "<script>function ejecutar(desde, hasta){\n",
    "    for(i = desde; i < hasta; i++)\n",
    "Jupyter.notebook.execute_cells([i])\n",
    "}</script>''')"
   ]
  },
  {
   "cell_type": "code",
   "execution_count": 1,
   "id": "209eccf5",
   "metadata": {},
   "outputs": [
    {
     "name": "stdout",
     "output_type": "stream",
     "text": [
      "Ingrese el valor del primer dato\n"
     ]
    },
    {
     "data": {
      "application/vnd.jupyter.widget-view+json": {
       "model_id": "de196a2efbc8401a8081849cf141e11f",
       "version_major": 2,
       "version_minor": 0
      },
      "text/plain": [
       "interactive(children=(FloatText(value=0.0, description='x', step=0.1), Output()), _dom_classes=('widget-intera…"
      ]
     },
     "metadata": {},
     "output_type": "display_data"
    },
    {
     "name": "stdout",
     "output_type": "stream",
     "text": [
      "Ingrese el valor del segundo dato\n"
     ]
    },
    {
     "data": {
      "application/vnd.jupyter.widget-view+json": {
       "model_id": "29b56031566045228d1e812920645b68",
       "version_major": 2,
       "version_minor": 0
      },
      "text/plain": [
       "interactive(children=(FloatText(value=0.0, description='y', step=0.1), Output()), _dom_classes=('widget-intera…"
      ]
     },
     "metadata": {},
     "output_type": "display_data"
    },
    {
     "name": "stdout",
     "output_type": "stream",
     "text": [
      "Escoja la operación que desee hacer de la siguiente lista: \n"
     ]
    },
    {
     "data": {
      "application/vnd.jupyter.widget-view+json": {
       "model_id": "9ee4eb61311143e8ab6db5090831c20e",
       "version_major": 2,
       "version_minor": 0
      },
      "text/plain": [
       "interactive(children=(Dropdown(description='Operación:', options=(('---', 0), ('Sumar', 1), ('Restar', 2), ('M…"
      ]
     },
     "metadata": {},
     "output_type": "display_data"
    }
   ],
   "source": [
    "from ipywidgets import widgets, interactive\n",
    "from ipynb.fs.full.Funciones_variables import x,y,n\n",
    "\n",
    "print(\"Ingrese el valor del primer dato\")\n",
    "x= interactive(x, x=widgets.FloatText(min=0, max=10000000000, step=0.1, value=0));\n",
    "display(x)\n",
    "\n",
    "print(\"Ingrese el valor del segundo dato\")\n",
    "y= interactive(y, y=widgets.FloatText(min=1, max=10000000000, step=0.1, value=0));\n",
    "display(y)\n",
    "\n",
    "print(\"Escoja la operación que desee hacer de la siguiente lista: \")\n",
    "\n",
    "n= interactive(n, n=widgets.Dropdown(\n",
    "    options=[('---', 0),\n",
    "             ('Sumar', 1),\n",
    "             ('Restar',2),\n",
    "             ('Multiplicar',3),\n",
    "             ('Dividir',4)],\n",
    "    description='Operación:',\n",
    "));\n",
    "display(n)"
   ]
  },
  {
   "cell_type": "code",
   "execution_count": 5,
   "id": "aba36a70",
   "metadata": {
    "scrolled": true
   },
   "outputs": [
    {
     "data": {
      "text/html": [
       "\n",
       "<button onclick=\"ejecutar(32)\">Calcular</button>\n",
       "<script>function ejecutar(i){\n",
       "    Jupyter.notebook.execute_cells([i])\n",
       "}</script>"
      ],
      "text/plain": [
       "<IPython.core.display.HTML object>"
      ]
     },
     "execution_count": 5,
     "metadata": {},
     "output_type": "execute_result"
    }
   ],
   "source": [
    "from IPython.display import HTML\n",
    "HTML('''\n",
    "<button onclick=\"ejecutar(32)\">Calcular</button>\n",
    "<script>function ejecutar(i){\n",
    "    Jupyter.notebook.execute_cells([i])\n",
    "}</script>''')"
   ]
  },
  {
   "cell_type": "code",
   "execution_count": 23,
   "id": "c98e2a9a",
   "metadata": {},
   "outputs": [
    {
     "name": "stdout",
     "output_type": "stream",
     "text": [
      "Escoja la operación a realizar\n"
     ]
    }
   ],
   "source": [
    "if n.result==1:\n",
    "    print('El resultado de la suma es:')\n",
    "    print(x.result+y.result)\n",
    "elif n.result==2:\n",
    "    print('El resultado de la resta es:')\n",
    "    print(x.result-y.result)\n",
    "elif n.result==3:\n",
    "    print('El resultado de la multiplicación es:')\n",
    "    print(x.result*y.result)\n",
    "elif n.result==4:\n",
    "    print('El resultado de la división es:')\n",
    "    print(x.result/y.result)  \n",
    "else:\n",
    "    print('Escoja la operación a realizar')    "
   ]
  },
  {
   "cell_type": "code",
   "execution_count": 7,
   "id": "ef1ed2db",
   "metadata": {},
   "outputs": [
    {
     "data": {
      "text/html": [
       "\n",
       "<a href=\"javascript:code_toggle()\">Mostrar/ocultar celdas de código</a>."
      ],
      "text/plain": [
       "<IPython.core.display.HTML object>"
      ]
     },
     "execution_count": 7,
     "metadata": {},
     "output_type": "execute_result"
    }
   ],
   "source": [
    "from IPython.display import HTML\n",
    "HTML('''\n",
    "<a href=\"javascript:code_toggle()\">Mostrar/ocultar celdas de código</a>.''')"
   ]
  },
  {
   "cell_type": "markdown",
   "id": "bcbb8d8b",
   "metadata": {},
   "source": [
    "<div id=\"BarraDeNotificaciones\"><h2><u>3.- Barra de notificaciones</u></h2></div>"
   ]
  },
  {
   "cell_type": "markdown",
   "id": "edfa7196",
   "metadata": {},
   "source": [
    "A continuación, se mostrarán las notificaciones y los errores que suelen aparecer en los cuaderenos."
   ]
  },
  {
   "cell_type": "markdown",
   "id": "63ee1adc",
   "metadata": {},
   "source": [
    "<h4><u>3.1.- Inicialización del cuaderno y del kernel:</u></h4>"
   ]
  },
  {
   "cell_type": "markdown",
   "id": "97c588a9",
   "metadata": {},
   "source": [
    "Las cuatro siguientes notificaciones aparecen al iniciar el cuaderno y no ha habido ningún problema de por medio."
   ]
  },
  {
   "cell_type": "markdown",
   "id": "d0bbd390",
   "metadata": {},
   "source": [
    "<div><img src=\"MEDIA/loadingNotebook.png\"style=\"width:20%; float:left;text\"></div>"
   ]
  },
  {
   "cell_type": "markdown",
   "id": "170dfbed",
   "metadata": {},
   "source": [
    "<div><img src=\"MEDIA/kernelStarting.png\"style=\"width:20%; float:left;\"></div>"
   ]
  },
  {
   "cell_type": "markdown",
   "id": "a10dff4e",
   "metadata": {},
   "source": [
    "<div><img src=\"MEDIA/connected.png\"style=\"width:20%; float:left;\"></div>"
   ]
  },
  {
   "cell_type": "markdown",
   "id": "6e3646bf",
   "metadata": {},
   "source": [
    "<div><img src=\"MEDIA/kernelReady.png\"style=\"width:20%; float:left;\"></div>"
   ]
  },
  {
   "cell_type": "markdown",
   "id": "a3692c44",
   "metadata": {},
   "source": [
    "<h4><u>3.2.- En caso de existir un problema con el kernel en la inicialización:</u></h4>"
   ]
  },
  {
   "cell_type": "markdown",
   "id": "0d93d38c",
   "metadata": {},
   "source": [
    "<div><img src=\"MEDIA/kernelError.png\"style=\"width:20%; float:left;\"></div>"
   ]
  },
  {
   "cell_type": "markdown",
   "id": "0a1b658b",
   "metadata": {},
   "source": [
    "<div><img src=\"MEDIA/noKernel.png\"style=\"width:20%; float:left;\"></div>"
   ]
  },
  {
   "cell_type": "markdown",
   "id": "ce9e6a76",
   "metadata": {},
   "source": [
    "<div><img src=\"MEDIA/notConnected.png\"style=\"width:20%; float:left;\"></div>"
   ]
  },
  {
   "cell_type": "markdown",
   "id": "a5a5d00f",
   "metadata": {},
   "source": [
    "Estos tres errores pueden darse en caso de problemas en el inicio del cuaderno, debido a problemas del servidor, de la conexión a internet o de la base de datos no ha sido posible conectar con el [kernel](#Kernel)."
   ]
  },
  {
   "cell_type": "markdown",
   "id": "1500ff2b",
   "metadata": {},
   "source": [
    "Lo normal es que se deba a un problema de comunicación, para estos casos basta con resetear el [kernel](#Kernel) y reiniciar el cuaderno con [Restart and run cells](#interfaz). Si el problema persiste, se deberán de cerrar las pestañas de los cuadernos e iniciarlos de nuevo."
   ]
  },
  {
   "cell_type": "markdown",
   "id": "efd62114",
   "metadata": {},
   "source": [
    "<div id=\"trustNotTrust\"><h4><u>3.3.- Trusted / Not trusted:</u></h4></div>"
   ]
  },
  {
   "cell_type": "markdown",
   "id": "11d94e24",
   "metadata": {},
   "source": [
    "<div><img src=\"MEDIA/notTrusted.png\"style=\"width:20%; float:left;\"></div>"
   ]
  },
  {
   "cell_type": "markdown",
   "id": "03ec4a05",
   "metadata": {},
   "source": [
    "<div><img src=\"MEDIA/trusted.png\"style=\"width:20%; float:left;\"></div>"
   ]
  },
  {
   "cell_type": "markdown",
   "id": "8dc8bfbf",
   "metadata": {},
   "source": [
    "El mensaje **Not Trusted** (no es de confianza) aparece por defecto al ejecutar por primera vez cualquier cuaderno. Después de ejecutarlo detecta si hay código no deseado en el cuaderno y en caso de no haberlo este mensaje pasa a ser **Trusted** (de confianza)."
   ]
  },
  {
   "cell_type": "markdown",
   "id": "091b9c2a",
   "metadata": {},
   "source": [
    "<div id=\"guiaInicio\"><h2><u>4.- Guía de inicio rápido</u></h2></div>"
   ]
  },
  {
   "cell_type": "markdown",
   "id": "29875ba9",
   "metadata": {},
   "source": [
    "1 - Al iniciar el cuaderno, hacer clic en **Not trusted** para permitir que el cuaderno ejecute código [JavaScript](#JavaScript) y [HTML](#HTML)."
   ]
  },
  {
   "cell_type": "markdown",
   "id": "d0f5be7e",
   "metadata": {},
   "source": [
    "<div><img src=\"MEDIA/guia4.png\"style=\"width:90%; float:left;\"></div>"
   ]
  },
  {
   "cell_type": "markdown",
   "id": "f4680de1",
   "metadata": {},
   "source": [
    "**NOTA: SI HACER CLICK EN NOT TRUSTED NO OCURRE NADA, IGNORAR EL SIGUIENTE PASO**"
   ]
  },
  {
   "cell_type": "markdown",
   "id": "d041df5a",
   "metadata": {},
   "source": [
    "2 - Clic donde se indica."
   ]
  },
  {
   "cell_type": "markdown",
   "id": "cc4ee0bb",
   "metadata": {},
   "source": [
    "<div><img src=\"MEDIA/guia5.png\"style=\"width:90%; float:left;\"></div>"
   ]
  },
  {
   "cell_type": "markdown",
   "id": "c1c1ea54",
   "metadata": {},
   "source": [
    "3 - Después se ejecuta."
   ]
  },
  {
   "cell_type": "markdown",
   "id": "3ec7211f",
   "metadata": {},
   "source": [
    "<div><img src=\"MEDIA/guia3.png\"style=\"width:90%; float:left;\"></div>"
   ]
  },
  {
   "cell_type": "markdown",
   "id": "317eecbb",
   "metadata": {},
   "source": [
    "4 - Clic donde se indica."
   ]
  },
  {
   "cell_type": "markdown",
   "id": "67623477",
   "metadata": {},
   "source": [
    "<div><img src=\"MEDIA/runCells.png\"style=\"width:90%; float:left;\"></div>"
   ]
  },
  {
   "cell_type": "markdown",
   "id": "743f1bef",
   "metadata": {},
   "source": [
    "5 - Una vez se cargue el cuaderno, está listo para ser usado. Para introducir datos distintos a los del enunciado, escribirlos en el campo respectivo y pulsar **\"Empezar ejercicio/Reiniciar datos(dos clicks)\"** resetea tanto el estado del [widget](#Widgets) como los valores por defecto,para ello habrá que pulsar el boton haciendo dos clicks en el. "
   ]
  },
  {
   "cell_type": "markdown",
   "id": "5e628da2",
   "metadata": {},
   "source": [
    "<div><img src=\"MEDIA/guia6.png\"style=\"width:90%; float:left;\"></div>"
   ]
  },
  {
   "cell_type": "markdown",
   "id": "0b14a5ae",
   "metadata": {},
   "source": [
    "6 - Para que se guarde el estado \"Trust\" del cuaderno, guardar ahora o antes de salir."
   ]
  },
  {
   "cell_type": "markdown",
   "id": "22b75bd2",
   "metadata": {},
   "source": [
    "Para cualquier problema mirar el apartado [Posibles errores y avisos en el cuaderno de Jupyter](#errores)"
   ]
  },
  {
   "cell_type": "markdown",
   "id": "95f878b9",
   "metadata": {},
   "source": [
    "<div id=\"Glosario\"><h2><u>5.- Glosario</u></h2></div>"
   ]
  },
  {
   "cell_type": "markdown",
   "id": "0f1ba702",
   "metadata": {},
   "source": [
    "\n",
    "<div id=\"Notebook\"><strong>Jupyter Notebook:</strong> Es la aplicación web utilizada en estos cuadernos. Permite compartir código o aplicaciones de una manera sencilla. Es utilizado entre otros para el tratamiento de datos, gráficos 2D y 3D, análisis de modelos matemáticos y estadísticos. En este texto también se referirá como Notebook o simplemente cuaderno para la aplicación en uso.</div>"
   ]
  },
  {
   "cell_type": "markdown",
   "id": "0d1dafaf",
   "metadata": {},
   "source": [
    "<div id=\"Widgets\"><strong>Widgets:</strong> Aplicaciones integradas en los cuadernos para realizar ciertas funciones.</div>"
   ]
  },
  {
   "cell_type": "markdown",
   "id": "14819531",
   "metadata": {},
   "source": [
    "<div id=\"MyBinder\"><strong>MyBinder:</strong> Herramienta online que sirve para crear un servidor web de distintas plataformas, en este caso de Jupyter Notebook, partiendo de un repositorio, en este caso GitHub.</div>"
   ]
  },
  {
   "cell_type": "markdown",
   "id": "23a46672",
   "metadata": {},
   "source": [
    "<div id=\"GitHub\"><strong>GitHub:</strong> Plataforma online que sirve para almacenar y compartir código.</div>"
   ]
  },
  {
   "cell_type": "markdown",
   "id": "61275cd6",
   "metadata": {},
   "source": [
    "<div id=\"HTML\"><strong>HTML:</strong> (Lenguaje de Marcas de Hipertexto o HyperText Markup Language) Es el principal lenguaje de programación de páginas web, se encarga principalmente del posicionamiento de los elementos en la página y sus relaciones. Se suele utilizar en conjunto con JavaScript y CSS además de otros lenguajes.</div>"
   ]
  },
  {
   "cell_type": "markdown",
   "id": "ca825a91",
   "metadata": {},
   "source": [
    "<div id=\"JavaScript\"><strong>JavaScript:</strong> (Abreviado como JS) es un lenguaje de programación utilizado principalmente como conjunto de HTML en páginas webs para manejar el contenido dinámico de la página. Sirve para alterar las características del contenido de la página en tiempo real mediante funciones.</div>"
   ]
  },
  {
   "cell_type": "markdown",
   "id": "f14ee7dd",
   "metadata": {},
   "source": [
    "<div id=\"CSS\"><strong>CSS:</strong> (Hojas de Estilo en Cascada o Cascading Style Sheets) es un lenguaje de programación utilizado principalmente como conjunto de HTML en páginas webs para definir las propiedades de los elementos. Sirve para definir las características estáticas de los elementos presentes en la página web.</div>"
   ]
  },
  {
   "cell_type": "code",
   "execution_count": 8,
   "id": "8c52c69e",
   "metadata": {},
   "outputs": [
    {
     "data": {
      "text/html": [
       "\n",
       "<a href=\"javascript:code_toggle()\">Mostrar/ocultar celdas de código</a>."
      ],
      "text/plain": [
       "<IPython.core.display.HTML object>"
      ]
     },
     "execution_count": 8,
     "metadata": {},
     "output_type": "execute_result"
    }
   ],
   "source": [
    "from IPython.display import HTML\n",
    "HTML('''\n",
    "<a href=\"javascript:code_toggle()\">Mostrar/ocultar celdas de código</a>.''')"
   ]
  },
  {
   "cell_type": "markdown",
   "id": "28b935e6",
   "metadata": {},
   "source": [
    "[Volver al índice](#titulo)"
   ]
  },
  {
   "cell_type": "code",
   "execution_count": 9,
   "id": "e0fbda1e",
   "metadata": {
    "scrolled": true
   },
   "outputs": [
    {
     "data": {
      "text/html": [
       "\n",
       "<script>\n",
       "window.location=\"Manual_de_uso.ipynb#titulo\";\n",
       "</script>"
      ],
      "text/plain": [
       "<IPython.core.display.HTML object>"
      ]
     },
     "execution_count": 9,
     "metadata": {},
     "output_type": "execute_result"
    }
   ],
   "source": [
    "from IPython.display import HTML\n",
    "HTML('''\n",
    "<script>\n",
    "window.location=\"Manual_de_uso.ipynb#titulo\";\n",
    "</script>''')"
   ]
  }
 ],
 "metadata": {
  "kernelspec": {
   "display_name": "Python 3 (ipykernel)",
   "language": "python",
   "name": "python3"
  },
  "language_info": {
   "codemirror_mode": {
    "name": "ipython",
    "version": 3
   },
   "file_extension": ".py",
   "mimetype": "text/x-python",
   "name": "python",
   "nbconvert_exporter": "python",
   "pygments_lexer": "ipython3",
   "version": "3.9.7"
  },
  "widgets": {
   "application/vnd.jupyter.widget-state+json": {
    "state": {
     "08ba581e50284f27b588c38cd92fb0b4": {
      "model_module": "@jupyter-widgets/controls",
      "model_module_version": "1.5.0",
      "model_name": "VBoxModel",
      "state": {
       "_dom_classes": [
        "widget-interact"
       ],
       "children": [
        "IPY_MODEL_f76adf89c0f24ed8be2f1e9f8ad63e4f",
        "IPY_MODEL_93dadbb37aef420281229fa8e54a10a6"
       ],
       "layout": "IPY_MODEL_f9d6a3bb243d4320b0413a9133048d00"
      }
     },
     "0a381d0afef24042a3101f7bd0d38965": {
      "model_module": "@jupyter-widgets/controls",
      "model_module_version": "1.5.0",
      "model_name": "DescriptionStyleModel",
      "state": {
       "description_width": ""
      }
     },
     "192dff72369e45cb9cb57ca111da709e": {
      "model_module": "@jupyter-widgets/base",
      "model_module_version": "1.2.0",
      "model_name": "LayoutModel",
      "state": {}
     },
     "258ce17515114aa4aba88c22d7dc5203": {
      "model_module": "@jupyter-widgets/controls",
      "model_module_version": "1.5.0",
      "model_name": "VBoxModel",
      "state": {
       "_dom_classes": [
        "widget-interact"
       ],
       "children": [
        "IPY_MODEL_7435e6de960b4de7a6af42d5036c13cc",
        "IPY_MODEL_f11b5ccf02d74e1bb7cb8fb537ec7759"
       ],
       "layout": "IPY_MODEL_ff798a8b59ce4c5090b4e8b3d62c9b63"
      }
     },
     "32475a0df55d4c299c5f829271e4c336": {
      "model_module": "@jupyter-widgets/base",
      "model_module_version": "1.2.0",
      "model_name": "LayoutModel",
      "state": {}
     },
     "3804dad242c34c2f94a62a897e19df99": {
      "model_module": "@jupyter-widgets/controls",
      "model_module_version": "1.5.0",
      "model_name": "TextModel",
      "state": {
       "description": "Input",
       "layout": "IPY_MODEL_fdeeb2c6a16749a0bcf7421e5081efac",
       "style": "IPY_MODEL_0a381d0afef24042a3101f7bd0d38965",
       "value": "1"
      }
     },
     "3b4575f714c640338c30fb534c385f86": {
      "model_module": "@jupyter-widgets/controls",
      "model_module_version": "1.5.0",
      "model_name": "VBoxModel",
      "state": {
       "_dom_classes": [
        "widget-interact"
       ],
       "children": [
        "IPY_MODEL_661a8441230c48f2a2789906c745d0b5",
        "IPY_MODEL_a2761a0e9a5d45fb99f2bcf65ebadbe7"
       ],
       "layout": "IPY_MODEL_e7e121756b08401187cb302530bd1842"
      }
     },
     "5145ef60649c4135902f2429eacceef6": {
      "model_module": "@jupyter-widgets/base",
      "model_module_version": "1.2.0",
      "model_name": "LayoutModel",
      "state": {}
     },
     "5527f8b653b5494c95f33988f0e50c73": {
      "model_module": "@jupyter-widgets/controls",
      "model_module_version": "1.5.0",
      "model_name": "DescriptionStyleModel",
      "state": {
       "description_width": ""
      }
     },
     "57ba5978b10d420cbe1941caf6f5dc27": {
      "model_module": "@jupyter-widgets/base",
      "model_module_version": "1.2.0",
      "model_name": "LayoutModel",
      "state": {}
     },
     "59f5b309ab0840fcb7eafa80ba74d3a6": {
      "model_module": "@jupyter-widgets/controls",
      "model_module_version": "1.5.0",
      "model_name": "TextModel",
      "state": {
       "description": "Input",
       "layout": "IPY_MODEL_e075d67b25c4424e939e9ef9e40ce630",
       "style": "IPY_MODEL_5e6b2f9622ca4933a1d32fba6959b2b4",
       "value": "1"
      }
     },
     "5acd9d1878c84739be32ad453be60915": {
      "model_module": "@jupyter-widgets/base",
      "model_module_version": "1.2.0",
      "model_name": "LayoutModel",
      "state": {}
     },
     "5b267f307f9f4cc18f09d2b1acc407e9": {
      "model_module": "@jupyter-widgets/output",
      "model_module_version": "1.0.0",
      "model_name": "OutputModel",
      "state": {
       "layout": "IPY_MODEL_d63b5a5f43db4128aa01b5f6471da094",
       "outputs": [
        {
         "name": "stdout",
         "output_type": "stream",
         "text": "El valor introducido esinput\n"
        }
       ]
      }
     },
     "5e0b5658e65b43dcb71e12f639cd13e8": {
      "model_module": "@jupyter-widgets/controls",
      "model_module_version": "1.5.0",
      "model_name": "DescriptionStyleModel",
      "state": {
       "description_width": ""
      }
     },
     "5e6b2f9622ca4933a1d32fba6959b2b4": {
      "model_module": "@jupyter-widgets/controls",
      "model_module_version": "1.5.0",
      "model_name": "DescriptionStyleModel",
      "state": {
       "description_width": ""
      }
     },
     "618eb5d1dd4f4793a54e42534d1abe36": {
      "model_module": "@jupyter-widgets/controls",
      "model_module_version": "1.5.0",
      "model_name": "VBoxModel",
      "state": {
       "_dom_classes": [
        "widget-interact"
       ],
       "children": [
        "IPY_MODEL_3804dad242c34c2f94a62a897e19df99",
        "IPY_MODEL_6c8838190b464992b926c6677bdf8ca6"
       ],
       "layout": "IPY_MODEL_70ed85d0c68a4b88b0672be8d427b670"
      }
     },
     "661a8441230c48f2a2789906c745d0b5": {
      "model_module": "@jupyter-widgets/controls",
      "model_module_version": "1.5.0",
      "model_name": "TextModel",
      "state": {
       "description": "Input",
       "layout": "IPY_MODEL_77843b44ee1e48bba0dd98eaa4a8693a",
       "style": "IPY_MODEL_f9ebfa590c414f32804a74ef3191bdd2",
       "value": "455432534"
      }
     },
     "6c8838190b464992b926c6677bdf8ca6": {
      "model_module": "@jupyter-widgets/output",
      "model_module_version": "1.0.0",
      "model_name": "OutputModel",
      "state": {
       "layout": "IPY_MODEL_f0628946fb5a4a1080f58e5c129423e4",
       "outputs": [
        {
         "ename": "TypeError",
         "evalue": "can only concatenate str (not \"method\") to str",
         "output_type": "error",
         "traceback": [
          "\u001b[1;31m---------------------------------------------------------------------------\u001b[0m",
          "\u001b[1;31mTypeError\u001b[0m                                 Traceback (most recent call last)",
          "\u001b[1;32m~\\anaconda3\\lib\\site-packages\\ipywidgets\\widgets\\interaction.py\u001b[0m in \u001b[0;36mupdate\u001b[1;34m(self, *args)\u001b[0m\n\u001b[0;32m    254\u001b[0m                     \u001b[0mvalue\u001b[0m \u001b[1;33m=\u001b[0m \u001b[0mwidget\u001b[0m\u001b[1;33m.\u001b[0m\u001b[0mget_interact_value\u001b[0m\u001b[1;33m(\u001b[0m\u001b[1;33m)\u001b[0m\u001b[1;33m\u001b[0m\u001b[1;33m\u001b[0m\u001b[0m\n\u001b[0;32m    255\u001b[0m                     \u001b[0mself\u001b[0m\u001b[1;33m.\u001b[0m\u001b[0mkwargs\u001b[0m\u001b[1;33m[\u001b[0m\u001b[0mwidget\u001b[0m\u001b[1;33m.\u001b[0m\u001b[0m_kwarg\u001b[0m\u001b[1;33m]\u001b[0m \u001b[1;33m=\u001b[0m \u001b[0mvalue\u001b[0m\u001b[1;33m\u001b[0m\u001b[1;33m\u001b[0m\u001b[0m\n\u001b[1;32m--> 256\u001b[1;33m                 \u001b[0mself\u001b[0m\u001b[1;33m.\u001b[0m\u001b[0mresult\u001b[0m \u001b[1;33m=\u001b[0m \u001b[0mself\u001b[0m\u001b[1;33m.\u001b[0m\u001b[0mf\u001b[0m\u001b[1;33m(\u001b[0m\u001b[1;33m**\u001b[0m\u001b[0mself\u001b[0m\u001b[1;33m.\u001b[0m\u001b[0mkwargs\u001b[0m\u001b[1;33m)\u001b[0m\u001b[1;33m\u001b[0m\u001b[1;33m\u001b[0m\u001b[0m\n\u001b[0m\u001b[0;32m    257\u001b[0m                 \u001b[0mshow_inline_matplotlib_plots\u001b[0m\u001b[1;33m(\u001b[0m\u001b[1;33m)\u001b[0m\u001b[1;33m\u001b[0m\u001b[1;33m\u001b[0m\u001b[0m\n\u001b[0;32m    258\u001b[0m                 \u001b[1;32mif\u001b[0m \u001b[0mself\u001b[0m\u001b[1;33m.\u001b[0m\u001b[0mauto_display\u001b[0m \u001b[1;32mand\u001b[0m \u001b[0mself\u001b[0m\u001b[1;33m.\u001b[0m\u001b[0mresult\u001b[0m \u001b[1;32mis\u001b[0m \u001b[1;32mnot\u001b[0m \u001b[1;32mNone\u001b[0m\u001b[1;33m:\u001b[0m\u001b[1;33m\u001b[0m\u001b[1;33m\u001b[0m\u001b[0m\n",
          "\u001b[1;32m<ipython-input-4-fd23efa9770d>\u001b[0m in \u001b[0;36mf\u001b[1;34m(Input)\u001b[0m\n\u001b[0;32m      9\u001b[0m         \u001b[0mprint\u001b[0m\u001b[1;33m(\u001b[0m\u001b[1;34m\"Introduce un valor numerico\"\u001b[0m\u001b[1;33m)\u001b[0m\u001b[1;33m\u001b[0m\u001b[1;33m\u001b[0m\u001b[0m\n\u001b[0;32m     10\u001b[0m     \u001b[1;32melse\u001b[0m\u001b[1;33m:\u001b[0m\u001b[1;33m\u001b[0m\u001b[1;33m\u001b[0m\u001b[0m\n\u001b[1;32m---> 11\u001b[1;33m         \u001b[0mprint\u001b[0m\u001b[1;33m(\u001b[0m\u001b[1;34m\"El valor introducido es \"\u001b[0m\u001b[1;33m+\u001b[0m\u001b[0minput\u001b[0m\u001b[1;33m)\u001b[0m\u001b[1;33m\u001b[0m\u001b[1;33m\u001b[0m\u001b[0m\n\u001b[0m\u001b[0;32m     12\u001b[0m \u001b[1;33m\u001b[0m\u001b[0m\n\u001b[0;32m     13\u001b[0m \u001b[1;33m\u001b[0m\u001b[0m\n",
          "\u001b[1;31mTypeError\u001b[0m: can only concatenate str (not \"method\") to str"
         ]
        }
       ]
      }
     },
     "6e29c803ccd949f2914fd60dd6001ed7": {
      "model_module": "@jupyter-widgets/controls",
      "model_module_version": "1.5.0",
      "model_name": "TextModel",
      "state": {
       "description": "Input",
       "layout": "IPY_MODEL_57ba5978b10d420cbe1941caf6f5dc27",
       "style": "IPY_MODEL_b2f77bf6cf0b4620ae8b62c72f9dbed9",
       "value": "1"
      }
     },
     "70ed85d0c68a4b88b0672be8d427b670": {
      "model_module": "@jupyter-widgets/base",
      "model_module_version": "1.2.0",
      "model_name": "LayoutModel",
      "state": {}
     },
     "7435e6de960b4de7a6af42d5036c13cc": {
      "model_module": "@jupyter-widgets/controls",
      "model_module_version": "1.5.0",
      "model_name": "TextModel",
      "state": {
       "description": "Input",
       "layout": "IPY_MODEL_e354c05a1baf4d8d89000c32ef78b7f0",
       "style": "IPY_MODEL_5e0b5658e65b43dcb71e12f639cd13e8",
       "value": "1"
      }
     },
     "77843b44ee1e48bba0dd98eaa4a8693a": {
      "model_module": "@jupyter-widgets/base",
      "model_module_version": "1.2.0",
      "model_name": "LayoutModel",
      "state": {}
     },
     "7e81d6ba9384421db33d9ffa2ea6c9a9": {
      "model_module": "@jupyter-widgets/controls",
      "model_module_version": "1.5.0",
      "model_name": "VBoxModel",
      "state": {
       "_dom_classes": [
        "widget-interact"
       ],
       "children": [
        "IPY_MODEL_6e29c803ccd949f2914fd60dd6001ed7",
        "IPY_MODEL_a74f02a710754fd59bf48957144b68dc"
       ],
       "layout": "IPY_MODEL_32475a0df55d4c299c5f829271e4c336"
      }
     },
     "82a372e4fa4d44a1ae5bb57448f4595b": {
      "model_module": "@jupyter-widgets/base",
      "model_module_version": "1.2.0",
      "model_name": "LayoutModel",
      "state": {}
     },
     "8406e8fcbe1f4379be3006d1fb559805": {
      "model_module": "@jupyter-widgets/controls",
      "model_module_version": "1.5.0",
      "model_name": "DescriptionStyleModel",
      "state": {
       "description_width": ""
      }
     },
     "8e646129da0b46fca0574b839810bd2d": {
      "model_module": "@jupyter-widgets/base",
      "model_module_version": "1.2.0",
      "model_name": "LayoutModel",
      "state": {}
     },
     "8f668e18d67147baaa9a73228fa37693": {
      "model_module": "@jupyter-widgets/base",
      "model_module_version": "1.2.0",
      "model_name": "LayoutModel",
      "state": {}
     },
     "920375074da043bdbe29a40d257b4e01": {
      "model_module": "@jupyter-widgets/controls",
      "model_module_version": "1.5.0",
      "model_name": "VBoxModel",
      "state": {
       "_dom_classes": [
        "widget-interact"
       ],
       "children": [
        "IPY_MODEL_cb57bdb301be4e4fb4c694851d7c82ef",
        "IPY_MODEL_99ee7ff6d7cc4eac865330285c148209"
       ],
       "layout": "IPY_MODEL_192dff72369e45cb9cb57ca111da709e"
      }
     },
     "93dadbb37aef420281229fa8e54a10a6": {
      "model_module": "@jupyter-widgets/output",
      "model_module_version": "1.0.0",
      "model_name": "OutputModel",
      "state": {
       "layout": "IPY_MODEL_8e646129da0b46fca0574b839810bd2d",
       "outputs": [
        {
         "name": "stdout",
         "output_type": "stream",
         "text": "El valor introducido es <bound method Kernel.raw_input of <ipykernel.ipkernel.IPythonKernel object at 0x000001B53B6781C0>>\n"
        }
       ]
      }
     },
     "941c05131f8246d2ae4f3b75c40b7208": {
      "model_module": "@jupyter-widgets/base",
      "model_module_version": "1.2.0",
      "model_name": "LayoutModel",
      "state": {}
     },
     "99ee7ff6d7cc4eac865330285c148209": {
      "model_module": "@jupyter-widgets/output",
      "model_module_version": "1.0.0",
      "model_name": "OutputModel",
      "state": {
       "layout": "IPY_MODEL_5145ef60649c4135902f2429eacceef6",
       "outputs": [
        {
         "ename": "AttributeError",
         "evalue": "'function' object has no attribute 'value'",
         "output_type": "error",
         "traceback": [
          "\u001b[1;31m---------------------------------------------------------------------------\u001b[0m",
          "\u001b[1;31mAttributeError\u001b[0m                            Traceback (most recent call last)",
          "\u001b[1;32m~\\anaconda3\\lib\\site-packages\\ipywidgets\\widgets\\interaction.py\u001b[0m in \u001b[0;36mupdate\u001b[1;34m(self, *args)\u001b[0m\n\u001b[0;32m    254\u001b[0m                     \u001b[0mvalue\u001b[0m \u001b[1;33m=\u001b[0m \u001b[0mwidget\u001b[0m\u001b[1;33m.\u001b[0m\u001b[0mget_interact_value\u001b[0m\u001b[1;33m(\u001b[0m\u001b[1;33m)\u001b[0m\u001b[1;33m\u001b[0m\u001b[1;33m\u001b[0m\u001b[0m\n\u001b[0;32m    255\u001b[0m                     \u001b[0mself\u001b[0m\u001b[1;33m.\u001b[0m\u001b[0mkwargs\u001b[0m\u001b[1;33m[\u001b[0m\u001b[0mwidget\u001b[0m\u001b[1;33m.\u001b[0m\u001b[0m_kwarg\u001b[0m\u001b[1;33m]\u001b[0m \u001b[1;33m=\u001b[0m \u001b[0mvalue\u001b[0m\u001b[1;33m\u001b[0m\u001b[1;33m\u001b[0m\u001b[0m\n\u001b[1;32m--> 256\u001b[1;33m                 \u001b[0mself\u001b[0m\u001b[1;33m.\u001b[0m\u001b[0mresult\u001b[0m \u001b[1;33m=\u001b[0m \u001b[0mself\u001b[0m\u001b[1;33m.\u001b[0m\u001b[0mf\u001b[0m\u001b[1;33m(\u001b[0m\u001b[1;33m**\u001b[0m\u001b[0mself\u001b[0m\u001b[1;33m.\u001b[0m\u001b[0mkwargs\u001b[0m\u001b[1;33m)\u001b[0m\u001b[1;33m\u001b[0m\u001b[1;33m\u001b[0m\u001b[0m\n\u001b[0m\u001b[0;32m    257\u001b[0m                 \u001b[0mshow_inline_matplotlib_plots\u001b[0m\u001b[1;33m(\u001b[0m\u001b[1;33m)\u001b[0m\u001b[1;33m\u001b[0m\u001b[1;33m\u001b[0m\u001b[0m\n\u001b[0;32m    258\u001b[0m                 \u001b[1;32mif\u001b[0m \u001b[0mself\u001b[0m\u001b[1;33m.\u001b[0m\u001b[0mauto_display\u001b[0m \u001b[1;32mand\u001b[0m \u001b[0mself\u001b[0m\u001b[1;33m.\u001b[0m\u001b[0mresult\u001b[0m \u001b[1;32mis\u001b[0m \u001b[1;32mnot\u001b[0m \u001b[1;32mNone\u001b[0m\u001b[1;33m:\u001b[0m\u001b[1;33m\u001b[0m\u001b[1;33m\u001b[0m\u001b[0m\n",
          "\u001b[1;32m<ipython-input-6-59be3d4bc4eb>\u001b[0m in \u001b[0;36mf\u001b[1;34m(Input)\u001b[0m\n\u001b[0;32m      9\u001b[0m         \u001b[0mprint\u001b[0m\u001b[1;33m(\u001b[0m\u001b[1;34m\"Introduce un valor numerico\"\u001b[0m\u001b[1;33m)\u001b[0m\u001b[1;33m\u001b[0m\u001b[1;33m\u001b[0m\u001b[0m\n\u001b[0;32m     10\u001b[0m     \u001b[1;32melse\u001b[0m\u001b[1;33m:\u001b[0m\u001b[1;33m\u001b[0m\u001b[1;33m\u001b[0m\u001b[0m\n\u001b[1;32m---> 11\u001b[1;33m         \u001b[0mprint\u001b[0m\u001b[1;33m(\u001b[0m\u001b[1;34m\"El valor introducido es \"\u001b[0m\u001b[1;33m+\u001b[0m\u001b[0mstr\u001b[0m\u001b[1;33m(\u001b[0m\u001b[0minput\u001b[0m\u001b[1;33m.\u001b[0m\u001b[0mvalue\u001b[0m\u001b[1;33m)\u001b[0m\u001b[1;33m)\u001b[0m\u001b[1;33m\u001b[0m\u001b[1;33m\u001b[0m\u001b[0m\n\u001b[0m\u001b[0;32m     12\u001b[0m \u001b[1;33m\u001b[0m\u001b[0m\n\u001b[0;32m     13\u001b[0m \u001b[1;33m\u001b[0m\u001b[0m\n",
          "\u001b[1;31mAttributeError\u001b[0m: 'function' object has no attribute 'value'"
         ]
        }
       ]
      }
     },
     "a0393f52b10343e2b709248b16d8b641": {
      "model_module": "@jupyter-widgets/base",
      "model_module_version": "1.2.0",
      "model_name": "LayoutModel",
      "state": {}
     },
     "a2761a0e9a5d45fb99f2bcf65ebadbe7": {
      "model_module": "@jupyter-widgets/output",
      "model_module_version": "1.0.0",
      "model_name": "OutputModel",
      "state": {
       "layout": "IPY_MODEL_a4e5bcf201d94a95a4210ca603590932",
       "outputs": [
        {
         "name": "stdout",
         "output_type": "stream",
         "text": "El valor introducido es 455432534\n"
        }
       ]
      }
     },
     "a4e5bcf201d94a95a4210ca603590932": {
      "model_module": "@jupyter-widgets/base",
      "model_module_version": "1.2.0",
      "model_name": "LayoutModel",
      "state": {}
     },
     "a74f02a710754fd59bf48957144b68dc": {
      "model_module": "@jupyter-widgets/output",
      "model_module_version": "1.0.0",
      "model_name": "OutputModel",
      "state": {
       "layout": "IPY_MODEL_82a372e4fa4d44a1ae5bb57448f4595b",
       "outputs": [
        {
         "name": "stdout",
         "output_type": "stream",
         "text": "El valor introducido es 1\n"
        }
       ]
      }
     },
     "b2f77bf6cf0b4620ae8b62c72f9dbed9": {
      "model_module": "@jupyter-widgets/controls",
      "model_module_version": "1.5.0",
      "model_name": "DescriptionStyleModel",
      "state": {
       "description_width": ""
      }
     },
     "cb57bdb301be4e4fb4c694851d7c82ef": {
      "model_module": "@jupyter-widgets/controls",
      "model_module_version": "1.5.0",
      "model_name": "TextModel",
      "state": {
       "description": "Input",
       "layout": "IPY_MODEL_5acd9d1878c84739be32ad453be60915",
       "style": "IPY_MODEL_8406e8fcbe1f4379be3006d1fb559805",
       "value": "1"
      }
     },
     "d63b5a5f43db4128aa01b5f6471da094": {
      "model_module": "@jupyter-widgets/base",
      "model_module_version": "1.2.0",
      "model_name": "LayoutModel",
      "state": {}
     },
     "e075d67b25c4424e939e9ef9e40ce630": {
      "model_module": "@jupyter-widgets/base",
      "model_module_version": "1.2.0",
      "model_name": "LayoutModel",
      "state": {}
     },
     "e354c05a1baf4d8d89000c32ef78b7f0": {
      "model_module": "@jupyter-widgets/base",
      "model_module_version": "1.2.0",
      "model_name": "LayoutModel",
      "state": {}
     },
     "e7e121756b08401187cb302530bd1842": {
      "model_module": "@jupyter-widgets/base",
      "model_module_version": "1.2.0",
      "model_name": "LayoutModel",
      "state": {}
     },
     "f0628946fb5a4a1080f58e5c129423e4": {
      "model_module": "@jupyter-widgets/base",
      "model_module_version": "1.2.0",
      "model_name": "LayoutModel",
      "state": {}
     },
     "f11b5ccf02d74e1bb7cb8fb537ec7759": {
      "model_module": "@jupyter-widgets/output",
      "model_module_version": "1.0.0",
      "model_name": "OutputModel",
      "state": {
       "layout": "IPY_MODEL_a0393f52b10343e2b709248b16d8b641",
       "outputs": [
        {
         "name": "stdout",
         "output_type": "stream",
         "text": "El valor introducido es 1\n"
        }
       ]
      }
     },
     "f76adf89c0f24ed8be2f1e9f8ad63e4f": {
      "model_module": "@jupyter-widgets/controls",
      "model_module_version": "1.5.0",
      "model_name": "TextModel",
      "state": {
       "description": "Input",
       "layout": "IPY_MODEL_8f668e18d67147baaa9a73228fa37693",
       "style": "IPY_MODEL_5527f8b653b5494c95f33988f0e50c73",
       "value": "1"
      }
     },
     "f7b3e9e0b0624593b75f0d879784c4be": {
      "model_module": "@jupyter-widgets/controls",
      "model_module_version": "1.5.0",
      "model_name": "VBoxModel",
      "state": {
       "_dom_classes": [
        "widget-interact"
       ],
       "children": [
        "IPY_MODEL_59f5b309ab0840fcb7eafa80ba74d3a6",
        "IPY_MODEL_5b267f307f9f4cc18f09d2b1acc407e9"
       ],
       "layout": "IPY_MODEL_941c05131f8246d2ae4f3b75c40b7208"
      }
     },
     "f9d6a3bb243d4320b0413a9133048d00": {
      "model_module": "@jupyter-widgets/base",
      "model_module_version": "1.2.0",
      "model_name": "LayoutModel",
      "state": {}
     },
     "f9ebfa590c414f32804a74ef3191bdd2": {
      "model_module": "@jupyter-widgets/controls",
      "model_module_version": "1.5.0",
      "model_name": "DescriptionStyleModel",
      "state": {
       "description_width": ""
      }
     },
     "fdeeb2c6a16749a0bcf7421e5081efac": {
      "model_module": "@jupyter-widgets/base",
      "model_module_version": "1.2.0",
      "model_name": "LayoutModel",
      "state": {}
     },
     "ff798a8b59ce4c5090b4e8b3d62c9b63": {
      "model_module": "@jupyter-widgets/base",
      "model_module_version": "1.2.0",
      "model_name": "LayoutModel",
      "state": {}
     }
    },
    "version_major": 2,
    "version_minor": 0
   }
  }
 },
 "nbformat": 4,
 "nbformat_minor": 5
}
