{
 "cells": [
  {
   "cell_type": "markdown",
   "id": "6fc0e7e7",
   "metadata": {},
   "source": [
    "<div style=\"background-color:#EAEAE9;padding:10px 40px;text-align:center; vertical-align: middle;font-family:didot;\" id=\"enunciado\">  \n",
    " <p style=\"font-size: 15px;text-align: justify;\">Un canal rectangular de hormigón acabado tiene una pendiente de $2\\text{ milésimas}$, lleva un caudal de $5 \\frac{m^3}{s}$ y siendo $b=2h$. Se pide:</p>\n",
    "    <br>\n",
    "    <div><center><img src=\"Imagenes/Ejercicio7_examen.png\" width=\"400\" height=\"400\" ></center></div>\n",
    "</div>"
   ]
  },
  {
   "cell_type": "markdown",
   "id": "d7efbe9c",
   "metadata": {},
   "source": [
    "<p></p>"
   ]
  },
  {
   "cell_type": "markdown",
   "id": "4e507adf",
   "metadata": {},
   "source": [
    "<div style=\"background-color:#EAEAE9;padding:10px 40px;text-align:center; vertical-align: middle;font-family:didot;\" id=\"enunciado\">  \n",
    " <p style=\"font-size: 15px;text-align: justify;\">a) Calcular la altura de calado si la sección es la hidráulicamente óptima.\n",
    "</p>\n",
    "</div>"
   ]
  },
  {
   "cell_type": "markdown",
   "id": "0bfd3173",
   "metadata": {},
   "source": [
    "<div class=\"texto\">\n",
    "    <p>Se calculará la altura del agua despejando $h$ de la formula de Manning para el caudal:</p>\n",
    "<div>"
   ]
  },
  {
   "cell_type": "markdown",
   "id": "7f86f8cf",
   "metadata": {},
   "source": [
    "<div class=\"formulas\">\n",
    " $$    \n",
    "   5 = \\frac{1}{0,012} \\cdot (2h \\cdot h) \\cdot \\left(\\frac{h}{2} \\right)^{\\frac{2}{3}} \\cdot \n",
    "   0,002^{\\frac{1}{2}} \\to h = 1,024\\text{ m}  \n",
    " $$\n",
    "</div>"
   ]
  },
  {
   "cell_type": "markdown",
   "id": "038528fb",
   "metadata": {},
   "source": [
    "<div style=\"background-color:#EAEAE9;padding:10px 40px;text-align:center; vertical-align: middle;font-family:didot;\" id=\"enunciado\">  \n",
    " <p style=\"font-size: 15px;text-align: justify;\">b) Si la sección del canal fuese <b>semicircular</b> y fuese a sección llena, calcular el diámetro.</p>\n",
    "</div>"
   ]
  },
  {
   "cell_type": "markdown",
   "id": "981c106c",
   "metadata": {},
   "source": [
    "<div class=\"texto\">\n",
    "    <p>Se calculará el diámetro despejando $D$ de la formula de Manning para el caudal:</p>\n",
    "<div>"
   ]
  },
  {
   "cell_type": "markdown",
   "id": "6eb39b69",
   "metadata": {},
   "source": [
    "<div class=\"formulas\">\n",
    " $$    \n",
    "   5 = \\frac{1}{0,012} \\cdot \\frac{\\pi \\cdot D^2}{8} \\cdot \\left(\\frac{D}{4} \\right)^{\\frac{2}{3}} \\cdot \n",
    "   0,002^{\\frac{1}{2}} \\to D = 2,24\\text{ m}\n",
    " $$\n",
    "</div>"
   ]
  },
  {
   "cell_type": "markdown",
   "id": "1bcad88b",
   "metadata": {},
   "source": [
    "<div style=\"background-color:#EAEAE9;padding:10px 40px;text-align:center; vertical-align: middle;font-family:didot;\" id=\"enunciado\">  \n",
    " <p style=\"font-size: 15px;text-align: justify;\">c) ¿Cuál de las dos opciones es mejor? ¿Por qué?</p>\n",
    "</div>"
   ]
  },
  {
   "cell_type": "markdown",
   "id": "9829440b",
   "metadata": {},
   "source": [
    "<div>\n",
    "    <p>La sección semicircular es mejor dado que su perímetro mojado (y su área) son mínimos.</p>\n",
    "</div>"
   ]
  },
  {
   "cell_type": "markdown",
   "id": "97faac43",
   "metadata": {},
   "source": [
    "<a href=\"Teoria_Tema_21.ipynb\">Ver en la teoría en apartado: Comparación entre familias o secciones diferentes</a>"
   ]
  },
  {
   "cell_type": "markdown",
   "id": "359b48df",
   "metadata": {},
   "source": [
    "<div style=\"background-color:#EAEAE9;padding:10px 40px;text-align:center; vertical-align: middle;font-family:didot;\" id=\"enunciado\">  \n",
    " <p style=\"font-size: 15px;text-align: justify;\">d) Suponiendo un diámetro $D= 2,5\\text{ m}$ para la sección semicircular, y si el caudal se reduce a $3 \\frac{m3}{s}$, calcula el calado $h_c$ y la velocidad del flujo $V_c$.</p>\n",
    "</div>"
   ]
  },
  {
   "cell_type": "markdown",
   "id": "e45dae75",
   "metadata": {},
   "source": [
    "<div class=\"texto\">\n",
    "    <p>Se calculará $Q_{ll}$ mediante la formula de Manning:</p>\n",
    "<div>"
   ]
  },
  {
   "cell_type": "markdown",
   "id": "375c9e16",
   "metadata": {},
   "source": [
    "<div class=\"formulas\">\n",
    " $$    \n",
    "   Q_{ll} = \\frac{1}{0,012} \\cdot \\frac{\\pi \\cdot 2,5^2}{4} \\cdot \\left(\\frac{2,5}{4} \\right)^{\\frac{2}{3}} \\cdot \n",
    "   0,002^{\\frac{1}{2}} = 13,37 \\frac{m^3}{s}\n",
    " $$\n",
    "</div>"
   ]
  },
  {
   "cell_type": "markdown",
   "id": "76e08af3",
   "metadata": {},
   "source": [
    "<div class=\"formulas\">\n",
    " $$    \n",
    "   \\frac{Q_c}{Q_{ll}} = \\frac{3}{13,37} = 0,224 \n",
    " $$\n",
    "</div>"
   ]
  },
  {
   "cell_type": "markdown",
   "id": "fd403544",
   "metadata": {},
   "source": [
    "<div class=\"texto\">\n",
    "  <p>Ahora se podrá calcular la velocidad $V_{ll}$:</p>\n",
    "</div>"
   ]
  },
  {
   "cell_type": "markdown",
   "id": "94c0c514",
   "metadata": {},
   "source": [
    "<div class=\"formulas\"> \n",
    "   $$\n",
    "    V_{ll} = \\frac{Q_{ll}}{A} = \\frac {13,37}{\\frac{\\pi \\cdot 2,5^2}{4}} = 2,723 \\frac{m}{s}\n",
    "   $$\n",
    "</div>"
   ]
  },
  {
   "cell_type": "markdown",
   "id": "93bde964",
   "metadata": {},
   "source": [
    "<div class=\"texto\">\n",
    "  <p>Se deberá buscar $\\frac{Q_c}{Q_{ll}}=0,224$ en la tabla $Nº27$, donde se obtendrá:</p>\n",
    "</div>"
   ]
  },
  {
   "cell_type": "markdown",
   "id": "ce5924e6",
   "metadata": {},
   "source": [
    "<div class=\"formulas\">\n",
    " $$    \n",
    "  \\frac{V_c}{V_{ll}} = 0,319\n",
    " $$\n",
    "</div>\n",
    "<p></p>\n",
    "<div class=\"formulas\">\n",
    " $$    \n",
    "  \\frac{h_c}{h_{ll}} = 0,802 \n",
    " $$\n",
    "</div>"
   ]
  },
  {
   "cell_type": "markdown",
   "id": "9078c0c9",
   "metadata": {},
   "source": [
    "<div class=\"texto\">\n",
    "  <p>Por último, se procederá a calcular $V_c$ y $h_c$:</p>\n",
    "</div>"
   ]
  },
  {
   "cell_type": "markdown",
   "id": "9302199e",
   "metadata": {},
   "source": [
    "<div class=\"formulas\">\n",
    " $$    \n",
    "  V_c = 0,319 \\cdot 2,723 =2,184 \\frac {m}{s} \n",
    " $$\n",
    "</div>\n",
    "<p></p>\n",
    "<div class=\"formulas\">\n",
    " $$    \n",
    "  h_c = 0,802 \\cdot 2,5 = 0,798 \\text { m} \n",
    " $$\n",
    "</div>"
   ]
  }
 ],
 "metadata": {
  "kernelspec": {
   "display_name": "Python 3 (ipykernel)",
   "language": "python",
   "name": "python3"
  },
  "language_info": {
   "codemirror_mode": {
    "name": "ipython",
    "version": 3
   },
   "file_extension": ".py",
   "mimetype": "text/x-python",
   "name": "python",
   "nbconvert_exporter": "python",
   "pygments_lexer": "ipython3",
   "version": "3.9.7"
  }
 },
 "nbformat": 4,
 "nbformat_minor": 5
}
