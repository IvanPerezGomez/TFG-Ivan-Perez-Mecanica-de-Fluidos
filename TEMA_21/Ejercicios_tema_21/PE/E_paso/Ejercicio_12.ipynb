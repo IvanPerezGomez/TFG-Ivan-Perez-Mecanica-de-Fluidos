{
 "cells": [
  {
   "cell_type": "markdown",
   "id": "6fc0e7e7",
   "metadata": {},
   "source": [
    "<div style=\"background-color:#EAEAE9;padding:10px 40px;text-align:center; vertical-align: middle;font-family:didot;\" id=\"enunciado\">  \n",
    " <p style=\"font-size: 15px;text-align: justify;\">Mediante un canal semicircular de madera cepillada, cuya\n",
    "pendiente es $5$ milésimas, se desea suministrar un caudal de $6 \\frac{m^3}{s}$ de agua al foso\n",
    "que rodea un castillo. Calcular el diámetro exacto del canal para que el calado sea\n",
    "como máximo el $70$% del radio.</p>\n",
    "    <br>\n",
    "    <div><center><img src=\"Imagenes/Ejercicio12_examen.png\" width=\"600\" height=\"600\" ></center></div>\n",
    "</div>"
   ]
  },
  {
   "cell_type": "markdown",
   "id": "50def486",
   "metadata": {},
   "source": [
    "   <p></p>"
   ]
  },
  {
   "cell_type": "markdown",
   "id": "68e0f6d2",
   "metadata": {},
   "source": [
    "<div class=\"texto\">\n",
    "  <p>Primeramente, se hallará la relación $h_c/h_{ll}$:</p>\n",
    "</div> "
   ]
  },
  {
   "cell_type": "markdown",
   "id": "ceb20554",
   "metadata": {},
   "source": [
    "<div class=\"formulas\">\n",
    " $$    \n",
    "  D = h_{ll} \n",
    " $$\n",
    "</div>\n",
    "<p></p>\n",
    "<div class=\"formulas\">\n",
    " $$    \n",
    "  h_c \\le 0,7\\frac{D}{2}\n",
    " $$\n",
    "</div>\n",
    "<p></p>\n",
    "<div class=\"formulas\">\n",
    " $$    \n",
    "   \\frac{h_c}{h_{ll}} = \\frac{0,7\\frac{D}{2}}{D} = \\frac {0,7}{2} = 0,35\n",
    " $$\n",
    "</div>"
   ]
  },
  {
   "cell_type": "markdown",
   "id": "36a14270",
   "metadata": {},
   "source": [
    "<div class=\"texto\">\n",
    "  <p>Se deberá buscar $\\frac{h_c}{h_{ll}}=0,35$ en la tabla $Nº27$, donde se obtendrá:</p>\n",
    "</div>"
   ]
  },
  {
   "cell_type": "markdown",
   "id": "3b6ce7c0",
   "metadata": {},
   "source": [
    "\n",
    "<div class=\"formulas\">\n",
    " $$    \n",
    "  \\frac{Q_c}{Q_{ll}} = 0,26\n",
    " $$\n",
    "</div>"
   ]
  },
  {
   "cell_type": "markdown",
   "id": "4711c0d9",
   "metadata": {},
   "source": [
    "<div class=\"formulas\">\n",
    " $$    \n",
    "   \\frac{Q_c}{Q_{ll}} = 0,26 \\to Q_{ll} = \\frac{6}{0,26} = 23,07 \\frac{m^3}{s}\n",
    " $$\n",
    "</div>"
   ]
  },
  {
   "cell_type": "markdown",
   "id": "5e8b40eb",
   "metadata": {},
   "source": [
    "<div class=\"formulas\">\n",
    " $$    \n",
    "   23,07 = \\frac{1}{0,012} \\cdot \\frac{\\pi \\cdot D^2}{4} \\cdot \\left(\\frac{D}{4} \\right)^{\\frac{2}{3}} \\cdot \n",
    "   0,005^{\\frac{1}{2}} \\to D = 2,58\\text{ m} \n",
    " $$\n",
    "</div>"
   ]
  }
 ],
 "metadata": {
  "kernelspec": {
   "display_name": "Python 3 (ipykernel)",
   "language": "python",
   "name": "python3"
  },
  "language_info": {
   "codemirror_mode": {
    "name": "ipython",
    "version": 3
   },
   "file_extension": ".py",
   "mimetype": "text/x-python",
   "name": "python",
   "nbconvert_exporter": "python",
   "pygments_lexer": "ipython3",
   "version": "3.9.7"
  }
 },
 "nbformat": 4,
 "nbformat_minor": 5
}
