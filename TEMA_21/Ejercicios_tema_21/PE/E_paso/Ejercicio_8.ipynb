{
 "cells": [
  {
   "cell_type": "markdown",
   "id": "6fc0e7e7",
   "metadata": {},
   "source": [
    "<div style=\"background-color:#EAEAE9;padding:10px 40px;text-align:center; vertical-align: middle;font-family:didot;\" id=\"enunciado\">  \n",
    " <p style=\"font-size: 15px;text-align: justify;\">Se desea diseñar un canal o colector de aguas fluviales y de aguas\n",
    "fecales domésticas para la ciudad de Vitoria-Gasteiz. La pendiente del colector es de\n",
    "$3,2 \\text{ milésimas}$ y el coeficiente de Manning es de $0,015$ (Hormigón en bruto). La sección transversal es la\n",
    "representada en la figura. Se pide:\n",
    "</p>\n",
    "    <br>\n",
    "    <div><center><img src=\"Imagenes/Ejercicio8_examen.png\" width=\"500\" height=\"500\" ></center></div>\n",
    "</div>"
   ]
  },
  {
   "cell_type": "markdown",
   "id": "78635b09",
   "metadata": {},
   "source": [
    "<p></p>"
   ]
  },
  {
   "cell_type": "markdown",
   "id": "4e507adf",
   "metadata": {},
   "source": [
    "<div style=\"background-color:#EAEAE9;padding:10px 40px;text-align:center; vertical-align: middle;font-family:didot;\" id=\"enunciado\">  \n",
    " <p style=\"font-size: 15px;text-align: justify;\">a) Calcular la altura H con un margen de seguridad del $30$%, si se desea\n",
    "transportar un caudal de diseño máximo de pluviales + domésticas de  $1100 \\frac{l}{s}$.</p>\n",
    "</div>"
   ]
  },
  {
   "cell_type": "markdown",
   "id": "fe9512dd",
   "metadata": {},
   "source": [
    "<div class=\"texto\">\n",
    "    <p>Primeramente, se empezara por calcular tanto el área($A$) y el perimetro($P$) para obtener el radio hidraulico($R_h$) sabiendo que $Y=0,7H$:</p>\n",
    "<div>"
   ]
  },
  {
   "cell_type": "markdown",
   "id": "bb8ef053",
   "metadata": {},
   "source": [
    "<div class=\"formulas\">\n",
    " $$    \n",
    "  A = A_{Rectangulo Grande} + A_{Rectangulo Pequeño}\n",
    " $$\n",
    "</div>\n",
    "<p></p>\n",
    "<div class=\"formulas\">\n",
    " $$    \n",
    "  P = P_{Rectangulo Grande} + P_{Rectangulo Pequeño}\n",
    " $$\n",
    "</div>"
   ]
  },
  {
   "cell_type": "markdown",
   "id": "4c0ac052",
   "metadata": {},
   "source": [
    "<div class=\"formulas\">\n",
    " $$    \n",
    "  A = (1,8 \\cdot 0,7H) + (0,6 \\cdot 0,3) = 1,26H + 0,18 \\text{ $m^2$}\n",
    " $$\n",
    "</div>\n",
    "<p></p>\n",
    "<div class=\"formulas\">\n",
    " $$    \n",
    "  P = 0,7H + 0,6 + 0,3 + 0,6 + 0,3 + 0,6 + 0,7H = 1,4H + 2,4 \\text{ $m$}\n",
    " $$\n",
    "</div>"
   ]
  },
  {
   "cell_type": "markdown",
   "id": "0e08174e",
   "metadata": {},
   "source": [
    "<div class=\"texto\">\n",
    "  <p>A continuación, se procederá a calcular el radio hidráulico($R_h$):</p>\n",
    "</div>"
   ]
  },
  {
   "cell_type": "markdown",
   "id": "c56b263f",
   "metadata": {},
   "source": [
    "<div class=\"formulas\">\n",
    " $$    \n",
    "  R_h = \\frac{1,26H + 0,18 \\text{ $m^2$}}{1,4H + 2,4 \\text{ $m$}} \n",
    " $$\n",
    "</div>"
   ]
  },
  {
   "cell_type": "markdown",
   "id": "7e63c635",
   "metadata": {},
   "source": [
    "<div class=\"texto\">\n",
    "  <p>Finalmente, se sustituirán los resultados obtenidos en la fórmula de Manning para hallar la $H$:</p>\n",
    "</div>"
   ]
  },
  {
   "cell_type": "markdown",
   "id": "5c5a3f50",
   "metadata": {},
   "source": [
    "<div class=\"formulas\">\n",
    " $$    \n",
    "   1,1 = \\frac{1}{0,015} \\cdot (1,26H + 0,18) \\cdot \\left(\\frac{1,26H + 0,18}{1,4H + 2,4}  \\right)^{\\frac{2}{3}} \\cdot 0,0032^{\\frac{1}{2}} \\to H = 0,44725\\text{ m}\n",
    " $$\n",
    "</div>"
   ]
  },
  {
   "cell_type": "markdown",
   "id": "038528fb",
   "metadata": {},
   "source": [
    "<div style=\"background-color:#EAEAE9;padding:10px 40px;text-align:center; vertical-align: middle;font-family:didot;\" id=\"enunciado\">  \n",
    " <p style=\"font-size: 15px;text-align: justify;\">b) En caso de No lluvia, se desea conocer el máximo caudal de aguas\n",
    "fecales a transportar, sabiendo que solamente se llena la sección central\n",
    "inferior $(Y = 0)$.\n",
    "</p>\n",
    "</div>"
   ]
  },
  {
   "cell_type": "markdown",
   "id": "15031a45",
   "metadata": {},
   "source": [
    "<div class=\"texto\">\n",
    "    <p>Primeramente, se empezara por calcular tanto el área($A$) y el perimetro($P$) para obtener el radio hidraulico($R_h$):</p>\n",
    "<div>"
   ]
  },
  {
   "cell_type": "markdown",
   "id": "8378a083",
   "metadata": {},
   "source": [
    "<div class=\"formulas\">\n",
    " $$    \n",
    "  A = 0,6 \\cdot 0,3 = 0,18 \\text{ $m^2$}\n",
    " $$\n",
    "</div>\n",
    "<p></p>\n",
    "<div class=\"formulas\">\n",
    " $$    \n",
    "  P = 0,3 + 0,6 + 0,3 = 1,2 \\text{ $m$}\n",
    " $$\n",
    "</div>"
   ]
  },
  {
   "cell_type": "markdown",
   "id": "1e7dc2b6",
   "metadata": {},
   "source": [
    "<div class=\"texto\">\n",
    "  <p>A continuación, se procederá a calcular el radio hidráulico($R_h$):</p>\n",
    "</div>"
   ]
  },
  {
   "cell_type": "markdown",
   "id": "6807b50d",
   "metadata": {},
   "source": [
    "<div class=\"formulas\">\n",
    " $$    \n",
    "  R_h = \\frac{0,18 \\text{ $m^2$}}{1,2 \\text{ $m$}} = 0,15\\text { m} \n",
    " $$\n",
    "</div>"
   ]
  },
  {
   "cell_type": "markdown",
   "id": "ee1fdff7",
   "metadata": {},
   "source": [
    "<div class=\"texto\">\n",
    "  <p>Finalmente, se sustituirán los resultados obtenidos en la fórmula de Manning para hallar el caudal:</p>\n",
    "</div>"
   ]
  },
  {
   "cell_type": "markdown",
   "id": "d1ff7251",
   "metadata": {},
   "source": [
    "<div class=\"formulas\">\n",
    " $$    \n",
    "   Q_{ll} = \\frac{1}{0,015} \\cdot 0,18 \\cdot 0,15^{\\frac{2}{3}} \\cdot 0,0032^{\\frac{1}{2}} = 0,19164 \\frac{m^3}{s} = 191,64 \\frac{l}{s}\n",
    " $$\n",
    "</div>"
   ]
  }
 ],
 "metadata": {
  "kernelspec": {
   "display_name": "Python 3 (ipykernel)",
   "language": "python",
   "name": "python3"
  },
  "language_info": {
   "codemirror_mode": {
    "name": "ipython",
    "version": 3
   },
   "file_extension": ".py",
   "mimetype": "text/x-python",
   "name": "python",
   "nbconvert_exporter": "python",
   "pygments_lexer": "ipython3",
   "version": "3.9.7"
  }
 },
 "nbformat": 4,
 "nbformat_minor": 5
}
