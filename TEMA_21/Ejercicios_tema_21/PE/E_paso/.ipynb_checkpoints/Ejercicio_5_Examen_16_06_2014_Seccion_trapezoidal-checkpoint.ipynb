{
 "cells": [
  {
   "cell_type": "markdown",
   "id": "6fc0e7e7",
   "metadata": {},
   "source": [
    "<div style=\"background-color:#EAEAE9;padding:10px 40px;text-align:center; vertical-align: middle;font-family:didot;\" id=\"enunciado\">  \n",
    " <p style=\"font-size: 15px;text-align: justify;\"> Se desea diseñar un colector de aguas para una ciudad del medio oeste\n",
    "americano. La pendiente del colector es de $2$ milésimas y el coeficiente de Manning es de $0,017$.La sección transversal es la sección trapezoidalrepresentada en la figura. Se pide:</p>\n",
    "     <br>\n",
    "    <div><center><img src=\"Imagenes/Seccion_trapezoidal.png\" width=\"300\" height=\"300\" ></center></div>\n",
    "</div>"
   ]
  },
  {
   "cell_type": "markdown",
   "id": "50def486",
   "metadata": {},
   "source": [
    "   <p></p>"
   ]
  },
  {
   "cell_type": "markdown",
   "id": "45552a7b",
   "metadata": {},
   "source": [
    "<div style=\"background-color:#EAEAE9;padding:10px 40px;text-align:center; vertical-align: middle;font-family:didot;\" id=\"enunciado\">  \n",
    " <p style=\"font-size: 15px;text-align: justify;\">a) Calcular la altura H con un margen de seguridad del $30$%, si se desea transportar un caudal de diseño máximo de $1800 \\frac{l}{s}$.  </p>\n",
    "</div>"
   ]
  },
  {
   "cell_type": "markdown",
   "id": "3ea3ac64",
   "metadata": {},
   "source": [
    "<div><center><img src=\"Imagenes/Seccion_trapezoidal_2.png\" width=\"150\" height=\"150\" ></center></div>"
   ]
  },
  {
   "cell_type": "markdown",
   "id": "4f520d58",
   "metadata": {},
   "source": [
    "<div class=\"formulas\">\n",
    " $$    \n",
    "  x = b \\cdot cos(60)  \n",
    " $$\n",
    "</div>\n",
    "<p></p>\n",
    "<div class=\"formulas\">\n",
    " $$    \n",
    "  y = b \\cdot sen(60)  \n",
    " $$\n",
    "</div>"
   ]
  },
  {
   "cell_type": "markdown",
   "id": "66220e63",
   "metadata": {},
   "source": [
    "<div class=\"texto\">\n",
    "  <p>Primeramente, se hallará el área($A$), el perímetro($P$) y el radio hidráulico($R_h$) :</p>\n",
    "</div> "
   ]
  },
  {
   "cell_type": "markdown",
   "id": "295ec7d7",
   "metadata": {},
   "source": [
    "<div class=\"formulas\">\n",
    " <div class=\"formulas\"> \n",
    "   $$\n",
    "    A = \\frac{3 + (3 + 2x)}{2}  \\cdot y = \\frac{6 + 2b \\cdot \\cos(60)}{2}  \\cdot b \\cdot \\sin(60) = 2,6b + 0,43b^{^2}\n",
    "   $$\n",
    "</div>\n",
    "<p></p>\n",
    "<div class=\"formulas\">\n",
    " $$    \n",
    "  P = 2b + 3\n",
    " $$\n",
    "</div>"
   ]
  },
  {
   "cell_type": "markdown",
   "id": "0c18a8ca",
   "metadata": {},
   "source": [
    "<div class=\"formulas\">\n",
    " $$    \n",
    "  R_h = \\frac{2,6b + 0,43b^{^2}}{2b + 3} \n",
    " $$\n",
    "</div>"
   ]
  },
  {
   "cell_type": "markdown",
   "id": "2df74a9d",
   "metadata": {},
   "source": [
    "<div class=\"texto\">\n",
    "  <p>Finalmente, se sustituirán los datos en la ecuación de Manning para hallar la altura:</p>\n",
    "</div>"
   ]
  },
  {
   "cell_type": "markdown",
   "id": "eb6f0b41",
   "metadata": {},
   "source": [
    "<div class=\"formulas\">\n",
    " $$    \n",
    "   1,8 = \\frac{1}{0,017} \\cdot (2,6b + 0,43b^{^2}) \\cdot \\left(\\frac{2,6b + 0,43b^{^2}}{2b + 3}  \\right)^{\\frac{2}{3}} \\cdot \n",
    "   0,002^{\\frac{1}{2}} \\to b = 0,49 \\text{ m}\n",
    " $$\n",
    "</div>"
   ]
  },
  {
   "cell_type": "markdown",
   "id": "64609a9a",
   "metadata": {},
   "source": [
    "<div class=\"formulas\">\n",
    " $$    \n",
    "  h = y = b \\cdot sen(60) = 0,49 \\cdot sen(60) = 0,426\\text{ m} \n",
    " $$\n",
    "</div>\n",
    "<p></p>\n",
    "<div class=\"formulas\">\n",
    " $$    \n",
    "  h = 0,7H \\to H = \\frac{0,426}{0,7} = 0,6086 \\text{ mm}\n",
    " $$\n",
    "</div>"
   ]
  }
 ],
 "metadata": {
  "kernelspec": {
   "display_name": "Python 3 (ipykernel)",
   "language": "python",
   "name": "python3"
  },
  "language_info": {
   "codemirror_mode": {
    "name": "ipython",
    "version": 3
   },
   "file_extension": ".py",
   "mimetype": "text/x-python",
   "name": "python",
   "nbconvert_exporter": "python",
   "pygments_lexer": "ipython3",
   "version": "3.9.7"
  }
 },
 "nbformat": 4,
 "nbformat_minor": 5
}
