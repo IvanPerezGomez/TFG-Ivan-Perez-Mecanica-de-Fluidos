{
 "cells": [
  {
   "cell_type": "markdown",
   "id": "6fc0e7e7",
   "metadata": {},
   "source": [
    "<div style=\"background-color:#EAEAE9;padding:10px 40px;text-align:center; vertical-align: middle;font-family:didot;\" id=\"enunciado\">  \n",
    " <p style=\"font-size: 15px;text-align: justify;\">Se desea conocer el funcionamiento del colector de la figura de Madera sin cepillar, que recoge las aguas negras y de lluvia del barrio de Gros. La pendiente del colector J es\n",
    "de $3,5 \\text { milésimas}$. Se pide:</p>\n",
    "    <br>\n",
    "    <div><center><img src=\"Imagenes/Ejercicio1_examen.png\" width=\"300\" height=\"300\" ></center></div>\n",
    "</div>"
   ]
  },
  {
   "cell_type": "markdown",
   "id": "50def486",
   "metadata": {},
   "source": [
    "   <p></p>"
   ]
  },
  {
   "cell_type": "markdown",
   "id": "6803b11a",
   "metadata": {},
   "source": [
    "<div style=\"background-color:#EAEAE9;padding:10px 40px;text-align:center; vertical-align: middle;font-family:didot;\" id=\"enunciado\">  \n",
    " <p style=\"font-size: 15px;text-align: justify;\">a) Caudal máximo total (l/s) que puede transportar el colector sin entrar en\n",
    "carga. </p>\n",
    "</div>"
   ]
  },
  {
   "cell_type": "markdown",
   "id": "9b9074d8",
   "metadata": {},
   "source": [
    "<div class=\"texto\">\n",
    "  <p>Se calculará el caudal mediante la fórmula de Manning:</p>\n",
    "</div> "
   ]
  },
  {
   "cell_type": "markdown",
   "id": "db379297",
   "metadata": {},
   "source": [
    "<div class=\"formulas\">\n",
    " $$    \n",
    "  Q=\\frac{1}{n}AR_{_h}^{^{\\frac{2}{3}}}J^{^{\\frac{1}{2}}}\n",
    " $$\n",
    "</div>"
   ]
  },
  {
   "cell_type": "markdown",
   "id": "c72606d6",
   "metadata": {},
   "source": [
    "<div class=\"texto\">\n",
    "  <p>Primeramente, se empezara por calcular tanto el área(A) y el perimetro(P) para obtener el radio hidraulico($R_h$):</p>\n",
    "</div>"
   ]
  },
  {
   "cell_type": "markdown",
   "id": "e53acaf5",
   "metadata": {},
   "source": [
    "<div class=\"formulas\">\n",
    " $$    \n",
    "  A = A_{rectangulo} + A_{semicirculo}\n",
    " $$\n",
    "</div>\n",
    "<p></p>\n",
    "<div class=\"formulas\">\n",
    " $$    \n",
    "  P = P_{rectangulo} + P_{semicirculo}\n",
    " $$\n",
    "</div>"
   ]
  },
  {
   "cell_type": "markdown",
   "id": "66220e63",
   "metadata": {},
   "source": [
    "<div class=\"formulas\">\n",
    " $$    \n",
    "  A = \\left(0,6 \\cdot (0,2 + 0,3) \\right) + \\left( \\frac{\\frac{\\pi \\cdot 0,2^2}{4}}{2} \\right) = 0,3157 \\text{ $m^2$}\n",
    " $$\n",
    "</div>\n",
    "<p></p>\n",
    "<div class=\"formulas\">\n",
    " $$    \n",
    "  P = \\left(0,6 + 0,6 + 0,3 \\right) + \\left(\\frac{\\pi \\cdot 0,2}{2} \\right) = 1,814 \\text{ $m$}\n",
    " $$\n",
    "</div>"
   ]
  },
  {
   "cell_type": "markdown",
   "id": "393c8128",
   "metadata": {},
   "source": [
    "<div class=\"texto\">\n",
    "  <p>A continuación, se procederá a calcular el radio hidráulico($R_h$):</p>\n",
    "</div>"
   ]
  },
  {
   "cell_type": "markdown",
   "id": "8324ec66",
   "metadata": {},
   "source": [
    "<div class=\"formulas\">\n",
    " $$    \n",
    "  R_h = \\frac{0,3157 \\text{ $m^2$}}{1,814 \\text{ $m$}} = 0,174 \\text{ $m$}\n",
    " $$\n",
    "</div>"
   ]
  },
  {
   "cell_type": "markdown",
   "id": "7de23dca",
   "metadata": {},
   "source": [
    "<div class=\"texto\">\n",
    "  <p>Finalmente, se sustituirán los resultados obtenidos en la fórmula de Manning para hallar el caudal:</p>\n",
    "</div>"
   ]
  },
  {
   "cell_type": "markdown",
   "id": "295ec7d7",
   "metadata": {},
   "source": [
    "<div class=\"formulas\">\n",
    " $$    \n",
    "  Q=\\frac{1}{0,013} \\cdot 0,3157 \\cdot 0,174^{^{\\frac{2}{3}}}\\cdot 0,0035^{^{\\frac{1}{2}}} = 0,4478 \\frac{m^3}{s} = \n",
    "  447,8 \\frac{l}{s}\n",
    " $$\n",
    "</div>"
   ]
  },
  {
   "cell_type": "markdown",
   "id": "0c18a8ca",
   "metadata": {},
   "source": [
    "<div style=\"background-color:#EAEAE9;padding:10px 40px;text-align:center; vertical-align: middle;font-family:didot;\" id=\"enunciado\">  \n",
    " <p style=\"font-size: 15px;text-align: justify;\">b) Caudal máximo (l/s) que puede transportar la sección semicircular.</p>\n",
    "</div>"
   ]
  },
  {
   "cell_type": "markdown",
   "id": "2df74a9d",
   "metadata": {},
   "source": [
    "<div class=\"texto\">\n",
    "  <p>Primeramente, se empezara por calcular tanto el área(A) y el perimetro(P) para obtener el radio hidraulico($R_h$):</p>\n",
    "</div>"
   ]
  },
  {
   "cell_type": "markdown",
   "id": "96b9092e",
   "metadata": {},
   "source": [
    "<div class=\"formulas\">\n",
    " $$    \n",
    "  A =  \\frac{\\frac{\\pi \\cdot 0,2^2}{4}}{2} = 0,0157 \\text{ $m^2$}\n",
    " $$\n",
    "</div>\n",
    "<p></p>\n",
    "<div class=\"formulas\">\n",
    " $$    \n",
    "  P = \\frac{\\pi \\cdot 0,2}{2} = 0,3145 \\text{ $m$}\n",
    " $$\n",
    "</div>"
   ]
  },
  {
   "cell_type": "markdown",
   "id": "4f73a1b8",
   "metadata": {},
   "source": [
    "<div class=\"texto\">\n",
    "  <p>A continuación, se procederá a calcular el radio hidraulico($R_h$):</p>\n",
    "</div>"
   ]
  },
  {
   "cell_type": "markdown",
   "id": "eb6f0b41",
   "metadata": {},
   "source": [
    "<div class=\"formulas\">\n",
    " $$    \n",
    "  R_h = \\frac{0,3157 \\text{ $m^2$}}{1,814 \\text{ $m$}} = 0,05 \\text{ $m$}\n",
    " $$\n",
    "</div>"
   ]
  },
  {
   "cell_type": "markdown",
   "id": "8ef26040",
   "metadata": {},
   "source": [
    "<div class=\"texto\">\n",
    "  <p>Finalmente, se sustituirán los resultados obtenidos en la formula de Manning para hallar el caudal:</p>\n",
    "</div>"
   ]
  },
  {
   "cell_type": "markdown",
   "id": "72fc1634",
   "metadata": {},
   "source": [
    "<div class=\"formulas\">\n",
    " $$    \n",
    "  Q=\\frac{1}{0,013} \\cdot 0,0157 \\cdot 0,05^{^{\\frac{2}{3}}}\\cdot 0,0035^{^{\\frac{1}{2}}} = 0,00969\\frac{m^3}{s} = \n",
    "  9,69 \\frac{l}{s}\n",
    " $$\n",
    "</div>"
   ]
  },
  {
   "cell_type": "markdown",
   "id": "dff5148e",
   "metadata": {},
   "source": [
    "<div style=\"background-color:#EAEAE9;padding:10px 40px;text-align:center; vertical-align: middle;font-family:didot;\" id=\"enunciado\">  \n",
    " <p style=\"font-size: 15px;text-align: justify;\">c) En hora punta (14 horas), en un momento en que no llueve, se sabe\n",
    "  que el colector transporta $8 \\frac{l}{s}$ de aguas negras (residuales). Calcular el calado $hc$ y la velocidad del flujo $V$. </p>\n",
    "</div>"
   ]
  },
  {
   "cell_type": "markdown",
   "id": "8929e68d",
   "metadata": {},
   "source": [
    "<div class=\"texto\">\n",
    "  <p>Primeramente, se empezara por calcular el caudal a sección llena mediante la fórmula de Manning :</p>\n",
    "</div>"
   ]
  },
  {
   "cell_type": "markdown",
   "id": "2ead18fe",
   "metadata": {},
   "source": [
    "<div class=\"formulas\">\n",
    " $$    \n",
    "  Q_{ll}=\\frac{1}{0,013} \\cdot \\frac{\\pi \\cdot 0,2^2}{4} \\cdot 0,05^{^{\\frac{2}{3}}}\\cdot 0,0035^{^{\\frac{1}{2}}} = 0,0194\\frac{m^3}{s} = 19,44 \\frac{l}{s}\n",
    " $$\n",
    "</div>"
   ]
  },
  {
   "cell_type": "markdown",
   "id": "c2c824c1",
   "metadata": {},
   "source": [
    "<div class=\"texto\"> \n",
    "   <p>La relación entre el caudal de cálculo y el de sección llena vale:</p>\n",
    "</div>"
   ]
  },
  {
   "cell_type": "markdown",
   "id": "5c7da632",
   "metadata": {},
   "source": [
    "<div class=\"formulas\"> \n",
    "   $$\n",
    "    \\frac {Q_{c}}{Q_{ll}} =  \\frac {8}{19,44} = 0,411 \n",
    "   $$\n",
    "</div>"
   ]
  },
  {
   "cell_type": "markdown",
   "id": "6d9c62f9",
   "metadata": {},
   "source": [
    "<div class=\"texto\"> \n",
    "   <p>A continuación, se calculará la velocidad a sección llena:</p>\n",
    "</div>"
   ]
  },
  {
   "cell_type": "markdown",
   "id": "6bc07e71",
   "metadata": {},
   "source": [
    "<div class=\"formulas\"> \n",
    "   $$\n",
    "    V_{ll} = \\frac{Q_{ll}}{A} = \\frac {0,0194}{\\frac{\\pi \\cdot 0,2^2}{4}} = 0,617 \\frac{m}{s}\n",
    "   $$\n",
    "</div>"
   ]
  },
  {
   "cell_type": "markdown",
   "id": "90273d28",
   "metadata": {},
   "source": [
    "<div class=\"texto\"> \n",
    "   <p>Del cuadro nº 27 se obtiene:</p>\n",
    "</div>"
   ]
  },
  {
   "cell_type": "markdown",
   "id": "a9f60819",
   "metadata": {},
   "source": [
    "<div class=\"formulas\"> \n",
    "   $$\n",
    "    \\frac {V_{c}}{V_{ll}} =  0,95\n",
    "   $$\n",
    "   $$\n",
    "   $$\n",
    "   $$\n",
    "    \\frac {h_{c}}{h_{ll}} = 0,446\n",
    "   $$\n",
    "</div>"
   ]
  },
  {
   "cell_type": "markdown",
   "id": "b6cedc26",
   "metadata": {},
   "source": [
    "<div class=\"texto\"> \n",
    "   <p>Con lo cual, se obtiene finalmente:</p>\n",
    "</div>"
   ]
  },
  {
   "cell_type": "markdown",
   "id": "4cb1772f",
   "metadata": {},
   "source": [
    "<div class=\"formulas\"> \n",
    "   $$\n",
    "    V_{c} = 0,95 \\cdot 0,617 = 0,586 \\frac {m}{s}\n",
    "   $$\n",
    "   $$\n",
    "   $$\n",
    "   $$\n",
    "    h_{c} = 0,446 \\cdot 0,2 = 0,892 \\text{ $m$}\n",
    "   $$\n",
    "</div>"
   ]
  }
 ],
 "metadata": {
  "kernelspec": {
   "display_name": "Python 3 (ipykernel)",
   "language": "python",
   "name": "python3"
  },
  "language_info": {
   "codemirror_mode": {
    "name": "ipython",
    "version": 3
   },
   "file_extension": ".py",
   "mimetype": "text/x-python",
   "name": "python",
   "nbconvert_exporter": "python",
   "pygments_lexer": "ipython3",
   "version": "3.9.7"
  }
 },
 "nbformat": 4,
 "nbformat_minor": 5
}
