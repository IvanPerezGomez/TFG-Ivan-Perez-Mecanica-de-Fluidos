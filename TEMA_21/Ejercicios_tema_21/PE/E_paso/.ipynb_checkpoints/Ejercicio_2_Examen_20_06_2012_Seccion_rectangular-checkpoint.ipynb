{
 "cells": [
  {
   "cell_type": "markdown",
   "id": "6fc0e7e7",
   "metadata": {},
   "source": [
    "<div style=\"background-color:#EAEAE9;padding:10px 40px;text-align:center; vertical-align: middle;font-family:didot;\" id=\"enunciado\">  \n",
    " <p style=\"font-size: 15px;text-align: justify;\">El canal rectangular que se muestra en la figura cambia a una tubería circular\n",
    "   de diámetro D a medida que atraviesa un túnel en una montaña. Determinar el diámetro $D$ si el material y la pendiente\n",
    "     permanecen iguales y el flujo debe llenar completamente la tubería.</p>\n",
    "    <br>\n",
    "    <div><center><img src=\"Imagenes/Ejercicio2_examen.png\" width=\"300\" height=\"300\" ></center></div>\n",
    "</div>"
   ]
  },
  {
   "cell_type": "markdown",
   "id": "50def486",
   "metadata": {},
   "source": [
    "   <p></p>"
   ]
  },
  {
   "cell_type": "markdown",
   "id": "9b9074d8",
   "metadata": {},
   "source": [
    "<div class=\"texto\">\n",
    "  <p>Primeramente, se presentarán las ecuaciones de Manning para las dos secciones:</p>\n",
    "</div> "
   ]
  },
  {
   "cell_type": "markdown",
   "id": "db379297",
   "metadata": {},
   "source": [
    "<div class=\"formulas\">\n",
    " $$    \n",
    "  Q=\\frac{1}{n}A_{rectangular}R_h{_\\text { rectangular}}^{^{\\frac{2}{3}}}J^{^{\\frac{1}{2}}}\n",
    " $$\n",
    "</div>\n",
    "<p></p>\n",
    "<div class=\"formulas\">\n",
    " $$    \n",
    "  Q=\\frac{1}{n}A_{circular}R_h{_\\text { circular}}^{^{\\frac{2}{3}}}J^{^{\\frac{1}{2}}}\n",
    " $$\n",
    "</div>"
   ]
  },
  {
   "cell_type": "markdown",
   "id": "c72606d6",
   "metadata": {},
   "source": [
    "<div class=\"texto\">\n",
    "  <p>Como se puede observar, los caudales en las dos secciones es el mismo por lo que se procederá a igualar las dos ecuaciones:</p>\n",
    "</div>"
   ]
  },
  {
   "cell_type": "markdown",
   "id": "e53acaf5",
   "metadata": {},
   "source": [
    "<div class=\"formulas\">\n",
    " $$    \n",
    "  A_{\\text { rectangular}}R_h{_\\text { rectangular}}^{^{\\frac{2}{3}}} = A_{\\text { circular}}R_h{_\\text { circular}}^{^{\\frac{2}{3}}} (1)\n",
    " $$\n",
    "</div>"
   ]
  },
  {
   "cell_type": "markdown",
   "id": "66220e63",
   "metadata": {},
   "source": [
    "<div class=\"texto\">\n",
    "    <p><b>~</b>Rectangulo:</p>\n",
    "</div>"
   ]
  },
  {
   "cell_type": "markdown",
   "id": "393c8128",
   "metadata": {},
   "source": [
    "<div class=\"formulas\">\n",
    " $$    \n",
    "  A = b \\cdot \\frac{b}{2} = \\frac{b^2}{2}\n",
    " $$\n",
    "</div>\n",
    "<p></p>\n",
    "<div class=\"formulas\">\n",
    " $$    \n",
    "  P = \\frac{b}{2} + b + \\frac{b}{2} + 2b\n",
    " $$\n",
    "</div>"
   ]
  },
  {
   "cell_type": "markdown",
   "id": "8324ec66",
   "metadata": {},
   "source": [
    "<div class=\"formulas\">\n",
    " $$    \n",
    "  R_h = \\frac{\\frac{b^2}{2}}{2b} = \\frac{b}{4}\n",
    " $$\n",
    "</div>"
   ]
  },
  {
   "cell_type": "markdown",
   "id": "7de23dca",
   "metadata": {},
   "source": [
    "<div class=\"texto\">\n",
    "    <p><b>~</b>Circulo:</p>\n",
    "</div>"
   ]
  },
  {
   "cell_type": "markdown",
   "id": "295ec7d7",
   "metadata": {},
   "source": [
    "<div class=\"formulas\">\n",
    " $$    \n",
    "  A = \\frac{\\pi \\cdot D^2}{4}\n",
    " $$\n",
    "</div>\n",
    "<p></p>\n",
    "<div class=\"formulas\">\n",
    " $$    \n",
    "  P = \\pi \\cdot D\n",
    " $$\n",
    "</div>"
   ]
  },
  {
   "cell_type": "markdown",
   "id": "0c18a8ca",
   "metadata": {},
   "source": [
    "<div class=\"formulas\">\n",
    " $$    \n",
    "  R_h = \\frac{\\frac{\\pi \\cdot D^2}{4}}{\\pi \\cdot D} = \\frac{D}{4}\n",
    " $$\n",
    "</div>"
   ]
  },
  {
   "cell_type": "markdown",
   "id": "2df74a9d",
   "metadata": {},
   "source": [
    "<div class=\"texto\">\n",
    "  <p>A continuación, se sustituirán los valores de los radios hidráulicos en la primera ecuación (1):</p>\n",
    "</div>"
   ]
  },
  {
   "cell_type": "markdown",
   "id": "eb6f0b41",
   "metadata": {},
   "source": [
    "<div class=\"formulas\">\n",
    " $$    \n",
    "  \\frac {b^2}{2} \\cdot \\left(\\frac{b}{4} \\right)^{\\frac{2}{3}} = \\frac{\\pi \\cdot D^2}{4} \\cdot \n",
    "  \\left(\\frac{D}{4} \\right)^{\\frac{2}{3}} \\to\n",
    " $$\n",
    "</div>"
   ]
  },
  {
   "cell_type": "markdown",
   "id": "8ef26040",
   "metadata": {},
   "source": [
    "<div class=\"formulas\">\n",
    " $$    \n",
    "  \\to \\frac {b^2}{2} \\cdot b^{\\frac{2}{3}} = \\frac{\\pi \\cdot D^2}{4} \\cdot D^{\\frac{2}{3}} \\to\n",
    " $$\n",
    "</div>"
   ]
  },
  {
   "cell_type": "markdown",
   "id": "72fc1634",
   "metadata": {},
   "source": [
    "<div class=\"formulas\">\n",
    " $$    \n",
    "  \\to \\frac{b^\\frac{8}{3}}{2} = \\frac{\\pi \\cdot D^\\frac{8}{3}}{4} \\to\n",
    " $$\n",
    "</div>"
   ]
  },
  {
   "cell_type": "markdown",
   "id": "cd4072a2",
   "metadata": {},
   "source": [
    "<div class=\"formulas\">\n",
    " $$    \n",
    "  \\to D^\\frac{8}{3} =  b^\\frac{8}{3} \\cdot \\frac {2}{\\pi} \\to\n",
    " $$\n",
    "</div>"
   ]
  },
  {
   "cell_type": "markdown",
   "id": "46f5d708",
   "metadata": {},
   "source": [
    "<div class=\"formulas\">\n",
    " $$    \n",
    "  \\to D =  b \\cdot \\frac {2}{\\pi} \\to\n",
    " $$\n",
    "</div>"
   ]
  },
  {
   "cell_type": "markdown",
   "id": "6014cf2f",
   "metadata": {},
   "source": [
    "<div class=\"formulas\">\n",
    " $$    \n",
    "   D = 0,844b\n",
    " $$\n",
    "</div>"
   ]
  }
 ],
 "metadata": {
  "kernelspec": {
   "display_name": "Python 3 (ipykernel)",
   "language": "python",
   "name": "python3"
  },
  "language_info": {
   "codemirror_mode": {
    "name": "ipython",
    "version": 3
   },
   "file_extension": ".py",
   "mimetype": "text/x-python",
   "name": "python",
   "nbconvert_exporter": "python",
   "pygments_lexer": "ipython3",
   "version": "3.9.7"
  }
 },
 "nbformat": 4,
 "nbformat_minor": 5
}
