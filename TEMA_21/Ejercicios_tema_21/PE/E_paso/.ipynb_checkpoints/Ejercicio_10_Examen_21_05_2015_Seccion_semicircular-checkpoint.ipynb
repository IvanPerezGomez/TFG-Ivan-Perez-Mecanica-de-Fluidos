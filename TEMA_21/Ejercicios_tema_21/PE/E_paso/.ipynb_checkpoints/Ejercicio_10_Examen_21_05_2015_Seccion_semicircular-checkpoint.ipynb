{
 "cells": [
  {
   "cell_type": "markdown",
   "id": "6fc0e7e7",
   "metadata": {},
   "source": [
    "<div style=\"background-color:#EAEAE9;padding:10px 40px;text-align:center; vertical-align: middle;font-family:didot;\" id=\"enunciado\">  \n",
    " <p style=\"font-size: 15px;text-align: justify;\">Diseñar un canal semi-circular, de madera sin cepillar, con una\n",
    "pendiente de $10$ milésimas, para que pueda transportar un caudal de $400 \\frac{l}{s}$. El nivel\n",
    "de agua no debe superar el $38$% del diámetro. Calcular el nivel de agua $h$ y la\n",
    "velocidad del flujo $V_c$. Diámetros comerciales: $70, 80, 90, 100, 110, 120$ cm.\n",
    " \n",
    "</p>\n",
    "    <br>\n",
    "    <div><center><img src=\"Imagenes/Ejercicio10_examen.png\" width=\"600\" height=\"600\" ></center></div>\n",
    "</div>"
   ]
  },
  {
   "cell_type": "markdown",
   "id": "50def486",
   "metadata": {},
   "source": [
    "   <p></p>"
   ]
  },
  {
   "cell_type": "markdown",
   "id": "68e0f6d2",
   "metadata": {},
   "source": [
    "<div class=\"texto\">\n",
    "  <p>Primeramente, se hallará la relación $h_c/h_{ll}$:</p>\n",
    "</div> "
   ]
  },
  {
   "cell_type": "markdown",
   "id": "ceb20554",
   "metadata": {},
   "source": [
    "<div class=\"formulas\">\n",
    " $$    \n",
    "  D = h_{ll} \n",
    " $$\n",
    "</div>\n",
    "<p></p>\n",
    "<div class=\"formulas\">\n",
    " $$    \n",
    "  h_c \\le 0,38h_{ll} \n",
    " $$\n",
    "</div>\n",
    "<p></p>\n",
    "<div class=\"formulas\">\n",
    " $$    \n",
    "   \\frac{h_c}{h_{ll}} = 0,38\n",
    " $$\n",
    "</div>"
   ]
  },
  {
   "cell_type": "markdown",
   "id": "36a14270",
   "metadata": {},
   "source": [
    "<div class=\"texto\">\n",
    "  <p>Se deberá buscar $\\frac{h_c}{h_{ll}}=0,38$ en la tabla $Nº27$, donde se obtendrá:</p>\n",
    "</div>"
   ]
  },
  {
   "cell_type": "markdown",
   "id": "3b6ce7c0",
   "metadata": {},
   "source": [
    "<div class=\"formulas\">\n",
    " $$    \n",
    "  \\frac{V_c}{V_{ll}} = 0,879 \n",
    " $$\n",
    "</div>\n",
    "<p></p>\n",
    "<div class=\"formulas\">\n",
    " $$    \n",
    "  \\frac{Q_c}{Q_{ll}} = 0,307 \n",
    " $$\n",
    "</div>"
   ]
  },
  {
   "cell_type": "markdown",
   "id": "4711c0d9",
   "metadata": {},
   "source": [
    "<div class=\"formulas\">\n",
    " $$    \n",
    "   \\frac{Q_c}{Q_{ll}} = 0,307 \\to Q_{ll} = \\frac{400}{0,307} = 1302,93 \\frac{l}{s}\n",
    " $$\n",
    "</div>"
   ]
  },
  {
   "cell_type": "markdown",
   "id": "5e8b40eb",
   "metadata": {},
   "source": [
    "<div class=\"formulas\">\n",
    " $$    \n",
    "   1,302 = \\frac{1}{0,013} \\cdot \\frac{\\pi \\cdot D^2}{4} \\cdot \\left(\\frac{D}{4} \\right)^{\\frac{2}{3}} \\cdot \n",
    "   0,01^{\\frac{1}{2}} \\to D = 0,795\\text{ m} \\to D = 80\\text{ cm} \n",
    " $$\n",
    "</div>"
   ]
  },
  {
   "cell_type": "markdown",
   "id": "015c3dc1",
   "metadata": {},
   "source": [
    "<div class=\"texto\">\n",
    "  <p>Ahora se podrá calcular la velocidad $V_{ll}$:</p>\n",
    "</div>"
   ]
  },
  {
   "cell_type": "markdown",
   "id": "01e3585d",
   "metadata": {},
   "source": [
    "<div class=\"formulas\"> \n",
    "   $$\n",
    "    V_{ll} = \\frac{Q_{ll}}{A} = \\frac {1,302}{\\frac{\\pi \\cdot 0,8^2}{4}} = 2,58 \\frac{m}{s}\n",
    "   $$\n",
    "</div>"
   ]
  },
  {
   "cell_type": "markdown",
   "id": "d46524c0",
   "metadata": {},
   "source": [
    "<div class=\"texto\">\n",
    "  <p>Por último, se procederá a calcular $V_c$ y $h_c$:</p>\n",
    "</div>"
   ]
  },
  {
   "cell_type": "markdown",
   "id": "d4166b0c",
   "metadata": {},
   "source": [
    "<div class=\"formulas\">\n",
    " $$    \n",
    "  V_c = 0,879 \\cdot 2,58 = 2,267 \\frac {m}{s} \n",
    " $$\n",
    "</div>\n",
    "<p></p>\n",
    "<div class=\"formulas\">\n",
    " $$    \n",
    "  h_c = 0,38 \\cdot 0,8 =0,3 \\text { m} \n",
    " $$\n",
    "</div>"
   ]
  }
 ],
 "metadata": {
  "kernelspec": {
   "display_name": "Python 3 (ipykernel)",
   "language": "python",
   "name": "python3"
  },
  "language_info": {
   "codemirror_mode": {
    "name": "ipython",
    "version": 3
   },
   "file_extension": ".py",
   "mimetype": "text/x-python",
   "name": "python",
   "nbconvert_exporter": "python",
   "pygments_lexer": "ipython3",
   "version": "3.9.7"
  }
 },
 "nbformat": 4,
 "nbformat_minor": 5
}
