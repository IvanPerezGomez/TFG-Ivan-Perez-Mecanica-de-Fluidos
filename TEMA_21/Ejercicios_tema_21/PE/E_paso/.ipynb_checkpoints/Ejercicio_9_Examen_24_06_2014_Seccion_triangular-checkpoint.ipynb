{
 "cells": [
  {
   "cell_type": "markdown",
   "id": "6fc0e7e7",
   "metadata": {},
   "source": [
    "<div style=\"background-color:#EAEAE9;padding:10px 40px;text-align:center; vertical-align: middle;font-family:didot;\" id=\"enunciado\">  \n",
    " <p style=\"font-size: 15px;text-align: justify;\">Un canal de madera sin cepillar abierto en forma de V siendo el ángulo \n",
    "     $90^{\\circ}$, transporta $45 \\frac {l}{s}$ cuando la profundidad es de h = 230 mm. Calcular la pendiente del canal en\n",
    "     milésimas.</p>\n",
    "    <br>\n",
    "    <div><center><img src=\"Imagenes/Ejercicio9_examen.png\" width=\"300\" height=\"300\" ></center></div>\n",
    "</div>"
   ]
  },
  {
   "cell_type": "markdown",
   "id": "10c6ec5a",
   "metadata": {},
   "source": [
    "<p></p>"
   ]
  },
  {
   "cell_type": "markdown",
   "id": "c3e092d1",
   "metadata": {},
   "source": [
    "<div><center><img src=\"Imagenes/Seccion_en_V_2.png\" width=\"150\" height=\"150\" ></center></div>"
   ]
  },
  {
   "cell_type": "markdown",
   "id": "11773411",
   "metadata": {},
   "source": [
    "<div class=\"formulas\">\n",
    " $$    \n",
    "  tan(45) = \\frac{x}{0,23} \\to x = 0,23 \\text{ m}  \n",
    " $$\n",
    "</div>"
   ]
  },
  {
   "cell_type": "markdown",
   "id": "ac0bb77e",
   "metadata": {},
   "source": [
    "<div class=\"formulas\">\n",
    " $$    \n",
    "  A = \\frac{(2 \\cdot 0,23) \\cdot 0,23}{2} = 0,0529 \\text{ m^2}  \n",
    " $$\n",
    "</div>"
   ]
  },
  {
   "cell_type": "markdown",
   "id": "6d12e422",
   "metadata": {},
   "source": [
    "<div class=\"formulas\">\n",
    " $$    \n",
    "  b = \\sqrt{0,23^2 + 0,23^2} = 0,325 \\text{ m}  \n",
    " $$\n",
    "</div>"
   ]
  },
  {
   "cell_type": "markdown",
   "id": "8283b77c",
   "metadata": {},
   "source": [
    "<div class=\"texto\">\n",
    "    <p>Se calculará la pendiente despejando $J$ de la formula de Manning para el caudal:</p>\n",
    "<div>"
   ]
  },
  {
   "cell_type": "markdown",
   "id": "47520aeb",
   "metadata": {},
   "source": [
    "<div class=\"formulas\">\n",
    " $$    \n",
    "   0,045 = \\frac{1}{0,013} \\cdot 0,0529 \\cdot \\left(\\frac{0,0529}{0,65} \\right)^{\\frac{2}{3}} \\cdot \n",
    "   J^{\\frac{1}{2}} \\to J = 3,4674\\cdot10^{-3} \\text{ m} = 3,47 \\text{ milesimas} \n",
    " $$\n",
    "</div>"
   ]
  }
 ],
 "metadata": {
  "kernelspec": {
   "display_name": "Python 3 (ipykernel)",
   "language": "python",
   "name": "python3"
  },
  "language_info": {
   "codemirror_mode": {
    "name": "ipython",
    "version": 3
   },
   "file_extension": ".py",
   "mimetype": "text/x-python",
   "name": "python",
   "nbconvert_exporter": "python",
   "pygments_lexer": "ipython3",
   "version": "3.9.7"
  }
 },
 "nbformat": 4,
 "nbformat_minor": 5
}
