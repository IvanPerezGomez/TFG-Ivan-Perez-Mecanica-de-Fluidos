{
 "cells": [
  {
   "cell_type": "markdown",
   "id": "6fc0e7e7",
   "metadata": {},
   "source": [
    "<div style=\"background-color:#EAEAE9;padding:10px 40px;text-align:center; vertical-align: middle;font-family:didot;\" id=\"enunciado\">  \n",
    " <p style=\"font-size: 15px;text-align: justify;\">Diseñar una acequia semicircular de PVC, que con una pendiente de\n",
    "     $16 \\text{ milésimas}$ tenga una capacidad hidráulica de $230 \\frac{l}{s}$. Es necesaria una berma mínima del $15$% del diámetro. La velocidad de circulación no puede ser superior a $3,5 \\frac{m}{s}$. Diámetros comertciales: $25, 30, 35, 40, 45, 50, 60, 70,80 \\text{ cm}$.\n",
    "</p>\n",
    "    <br>\n",
    "    <div><center><img src=\"Imagenes/Ejercicio3_examen.png\" width=\"600\" height=\"600\" ></center></div>\n",
    "</div>"
   ]
  },
  {
   "cell_type": "markdown",
   "id": "50def486",
   "metadata": {},
   "source": [
    "   <p></p>"
   ]
  },
  {
   "cell_type": "markdown",
   "id": "9b9074d8",
   "metadata": {},
   "source": [
    "<div class=\"texto\">\n",
    "  <p>Primeramente, se calculará la diferencia de alturas ${h_c}$ y ${h_{ll}}$ cuando la sección esta llena o semillena:</p>\n",
    "</div> "
   ]
  },
  {
   "cell_type": "markdown",
   "id": "66220e63",
   "metadata": {},
   "source": [
    "<div class=\"texto\">\n",
    "    <p><b>~</b>Lleno:</p>\n",
    "</div>"
   ]
  },
  {
   "cell_type": "markdown",
   "id": "393c8128",
   "metadata": {},
   "source": [
    "<div class=\"formulas\">\n",
    " $$    \n",
    "  \\frac{h_c}{h_{ll}} = \\frac{h_c}{D} = \\frac{D - 0,15D}{D} = 0,85\n",
    " $$\n",
    "</div>"
   ]
  },
  {
   "cell_type": "markdown",
   "id": "7de23dca",
   "metadata": {},
   "source": [
    "<div class=\"texto\">\n",
    "    <p><b>~</b>Semilleno:</p>\n",
    "</div>"
   ]
  },
  {
   "cell_type": "markdown",
   "id": "295ec7d7",
   "metadata": {},
   "source": [
    "<div class=\"formulas\">\n",
    " $$    \n",
    "  \\frac{h_c}{h_{ll}} = \\frac{h_c}{D} = \\frac{0,5D - 0,15D}{D} = 0,35\n",
    " $$\n",
    "</div>"
   ]
  },
  {
   "cell_type": "markdown",
   "id": "2df74a9d",
   "metadata": {},
   "source": [
    "<div class=\"texto\">\n",
    "  <p>Se deberá buscar $0,35$ en la tabla $Nº27$ y se observará que no se encuentra dicho número, por lo que habrá que interpolar:</p>\n",
    "</div>"
   ]
  },
  {
   "cell_type": "markdown",
   "id": "eb6f0b41",
   "metadata": {},
   "source": [
    "<div class=\"formulas\">\n",
    " $$    \n",
    "  \\frac{h_c}{h_{ll}} = 0,348 ; \\frac{Q_c}{Q_{ll}} = 0,26 ; \\frac{V_c}{V_{ll}} = 0,840\n",
    " $$\n",
    "</div>\n",
    "<p></p>\n",
    " $$    \n",
    "  \\frac{h_c}{h_{ll}} = 0,355 ; \\frac{Q_c}{Q_{ll}} = 0,27 ; \\frac{V_c}{V_{ll}} = 0,849\n",
    " $$\n",
    "</div>"
   ]
  },
  {
   "cell_type": "markdown",
   "id": "8ef26040",
   "metadata": {},
   "source": [
    "<div class=\"formulas\">\n",
    " $$    \n",
    "  \\frac{0,35 - 0,348}{0,355 - 0,348} = \\frac{x - 0,26}{0,27 - 0,26} \\to  \\frac{Q_c}{Q_{ll}} = 0,2628\n",
    " $$\n",
    "</div>"
   ]
  },
  {
   "cell_type": "markdown",
   "id": "72fc1634",
   "metadata": {},
   "source": [
    "<div class=\"texto\">\n",
    "  <p>Por lo que ahora se procederá a calcular $Q_{ll}$:</p>\n",
    "</div>"
   ]
  },
  {
   "cell_type": "markdown",
   "id": "cd4072a2",
   "metadata": {},
   "source": [
    "<div class=\"formulas\">\n",
    " $$    \n",
    "  Q_{ll} = \\frac{Q_c}{0,2628} = \\frac{0,23}{0,2628} = 0,8752 \\frac {m^3}{s} \n",
    " $$\n",
    "</div>"
   ]
  },
  {
   "cell_type": "markdown",
   "id": "46f5d708",
   "metadata": {},
   "source": [
    "<div class=\"texto\">\n",
    "  <p>Ahora se puede obtener el diametro $D$ mediante la formula de Manning:</p>\n",
    "</div>"
   ]
  },
  {
   "cell_type": "markdown",
   "id": "6014cf2f",
   "metadata": {},
   "source": [
    "<div class=\"formulas\">\n",
    " $$    \n",
    "   0,8752 = \\frac{1}{0,009} \\cdot \\frac{\\pi \\cdot D^2}{4} \\cdot \\left(\\frac{D}{4} \\right)^{\\frac{2}{3}} \\cdot \n",
    "   0,016^{\\frac{1}{2}} \\to D = 0,54665\\text{ m} \n",
    " $$\n",
    "</div>"
   ]
  },
  {
   "cell_type": "markdown",
   "id": "46095d33",
   "metadata": {},
   "source": [
    "\n",
    "<div class=\"texto\">\n",
    "  <p> Como no existe un diametro comercial de 55 cm se debrá de coger la siguiente que es el de 60 cm, si cogiera un diametro menor que el de 55 cm se tendrían mayores pérdidas de carga</p>\n",
    "</div>"
   ]
  },
  {
   "cell_type": "markdown",
   "id": "2d2eb923",
   "metadata": {},
   "source": [
    "<div class=\"formulas\">\n",
    " $$    \n",
    "   D = 60 \\text{ cm} \n",
    " $$\n",
    "</div>"
   ]
  },
  {
   "cell_type": "markdown",
   "id": "d3a58f1c",
   "metadata": {},
   "source": [
    "<div class=\"texto\">\n",
    "  <p>Por último, se procederá a calcular $V_c$ y $\\frac{h_c}{D}$ con el nuevo diametro comercial que se ha elegido:</p>\n",
    "</div>"
   ]
  },
  {
   "cell_type": "markdown",
   "id": "e38dc671",
   "metadata": {},
   "source": [
    "<div class=\"formulas\">\n",
    " $$    \n",
    "   Q_{ll} = \\frac{1}{0,009} \\cdot \\frac{\\pi \\cdot 0,6^2}{4} \\cdot \\left(\\frac{0,6}{4} \\right)^{\\frac{2}{3}} \\cdot \n",
    "   0,016^{\\frac{1}{2}} = 1,12 \\frac{m^3}{s}\n",
    " $$\n",
    "</div>"
   ]
  },
  {
   "cell_type": "markdown",
   "id": "09db69b8",
   "metadata": {},
   "source": [
    "<div class=\"formulas\">\n",
    " $$    \n",
    "   \\frac{Q_c}{Q_{ll}} = \\frac{0,23}{1,12} = 0,205 \n",
    " $$\n",
    "</div>"
   ]
  },
  {
   "cell_type": "markdown",
   "id": "0fcbcb38",
   "metadata": {},
   "source": [
    "<div class=\"texto\">\n",
    "  <p>Se deberá buscar $\\frac{Q_c}{Q_{ll}}=0,205$ en la tabla $Nº27$ y se observará que no se encuentra dicho número, por lo que habrá que interpolar, pero esta vez se interporará para hallar la velocidad:</p>\n",
    "</div>"
   ]
  },
  {
   "cell_type": "markdown",
   "id": "d19a6211",
   "metadata": {},
   "source": [
    "<div class=\"formulas\">\n",
    " $$    \n",
    "  \\frac{0,205 - 0,2}{0,22 - 0,2} = \\frac{x - 0,78}{0,802 - 0,78} \\to  \\frac{V_c}{V_{ll}} = 0,7855\n",
    " $$\n",
    "</div>"
   ]
  },
  {
   "cell_type": "markdown",
   "id": "5658d7e0",
   "metadata": {},
   "source": [
    "<div class=\"texto\">\n",
    "  <p>Usando la fórmula del caudal se obtendra la V:</p>\n",
    "</div>"
   ]
  },
  {
   "cell_type": "markdown",
   "id": "e2e4b7cc",
   "metadata": {},
   "source": [
    "<div class=\"formulas\"> \n",
    "   $$\n",
    "    V_{ll} = \\frac{Q_{ll}}{A} = \\frac {1,12}{\\frac{\\pi \\cdot 0,6^2}{4}} = 3,961 \\frac{m}{s}\n",
    "   $$\n",
    "</div>"
   ]
  },
  {
   "cell_type": "markdown",
   "id": "087fca95",
   "metadata": {},
   "source": [
    "<div class=\"formulas\"> \n",
    "   $$\n",
    "    \\frac{V_c}{V_{ll}} = 0,7855\\to V_c = 3,961 \\cdot 0,7855 = 3,11 \\frac{m}{s}\n",
    "   $$\n",
    "</div>"
   ]
  },
  {
   "cell_type": "markdown",
   "id": "f4d3fb15",
   "metadata": {},
   "source": [
    "<div class=\"texto\">\n",
    "  <p>Para calcular $\\frac{h_c}{D}$ Se deberá buscar $\\frac{V_c}{V_{ll}} = 0,7855$ en la tabla $Nº28$ y se observará que no se encuentra dicho número, por lo que habrá que interpolar, pero esta vez se interporará para hallar $\\frac{h_c}{D}$:</p>\n",
    "</div>"
   ]
  },
  {
   "cell_type": "markdown",
   "id": "dbcc29d1",
   "metadata": {},
   "source": [
    "<div class=\"formulas\">\n",
    " $$    \n",
    "  \\frac{0,78 - 0,776}{0,79 - 0,776} = \\frac{x - 0,3}{0,31 - 0,3} \\to  \\frac{h_c}{D} = 0,3028\n",
    " $$\n",
    "</div>"
   ]
  }
 ],
 "metadata": {
  "kernelspec": {
   "display_name": "Python 3 (ipykernel)",
   "language": "python",
   "name": "python3"
  },
  "language_info": {
   "codemirror_mode": {
    "name": "ipython",
    "version": 3
   },
   "file_extension": ".py",
   "mimetype": "text/x-python",
   "name": "python",
   "nbconvert_exporter": "python",
   "pygments_lexer": "ipython3",
   "version": "3.9.7"
  }
 },
 "nbformat": 4,
 "nbformat_minor": 5
}
