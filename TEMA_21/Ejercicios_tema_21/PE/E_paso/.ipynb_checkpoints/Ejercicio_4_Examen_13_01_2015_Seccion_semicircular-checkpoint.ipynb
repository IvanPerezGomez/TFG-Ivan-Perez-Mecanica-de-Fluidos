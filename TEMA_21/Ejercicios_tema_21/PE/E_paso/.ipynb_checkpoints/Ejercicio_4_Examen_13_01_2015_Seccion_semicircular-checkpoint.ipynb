{
 "cells": [
  {
   "cell_type": "markdown",
   "id": "6fc0e7e7",
   "metadata": {},
   "source": [
    "<div style=\"background-color:#EAEAE9;padding:10px 40px;text-align:center; vertical-align: middle;font-family:didot;\" id=\"enunciado\">  \n",
    " <p style=\"font-size: 15px;text-align: justify;\">Determinar el diámetro de un canal semicircular, de hormigón\n",
    "en bruto (coeficiente de Manning $n = 0.015$). El caudal $Q = 2 \\frac{m^3}{s}$. La pendiente del\n",
    "canal es $J = 8$ milésimas. Los diámetros comerciales van de $100$ en $100$ mm. Una vez\n",
    "seleccionado el diámetro, calcular el calado y la velocidad del flujo. \n",
    "</p>\n",
    "    <br>\n",
    "    <div><center><img src=\"Imagenes/Ejercicio4_examen.png\" width=\"400\" height=\"400\" ></center></div>\n",
    "</div>"
   ]
  },
  {
   "cell_type": "markdown",
   "id": "50def486",
   "metadata": {},
   "source": [
    "   <p></p>"
   ]
  },
  {
   "cell_type": "markdown",
   "id": "9b9074d8",
   "metadata": {},
   "source": [
    "<div class=\"texto\">\n",
    "  <p>Primeramente, se calculará el diámetro mediante la fórmula del caudal de Manning:</p>\n",
    "</div> "
   ]
  },
  {
   "cell_type": "markdown",
   "id": "66220e63",
   "metadata": {},
   "source": [
    "<div class=\"formulas\">\n",
    " $$    \n",
    "  Q=\\frac{1}{n}AR_{_h}^{^{\\frac{2}{3}}}J^{^{\\frac{1}{2}}}\n",
    " $$\n",
    "</div>"
   ]
  },
  {
   "cell_type": "markdown",
   "id": "393c8128",
   "metadata": {},
   "source": [
    "<div class=\"formulas\">\n",
    " $$    \n",
    "   0,8752 = \\frac{1}{0,015} \\cdot \\frac{\\pi \\cdot D^2}{8} \\cdot \\left(\\frac{D}{4} \\right)^{\\frac{2}{3}} \\cdot \n",
    "   0,008^{\\frac{1}{2}} \\to D = 1,33\\text{ m} \\to D = 1,4\\text{ m} \n",
    " $$\n",
    "</div>"
   ]
  },
  {
   "cell_type": "markdown",
   "id": "7de23dca",
   "metadata": {},
   "source": [
    "<div class=\"texto\">\n",
    "    <p>Se escogerá el diámetro 1,4 m en vez de 1,33 m ya que van de 100 en 100 mm y si se escogiera uno anterior como por ejemplo 1,3 m tendriamos mayores pérdidas de carga.</p>\n",
    "</div>"
   ]
  },
  {
   "cell_type": "markdown",
   "id": "295ec7d7",
   "metadata": {},
   "source": [
    "<div class=\"formulas\">\n",
    " $$    \n",
    "   Q_{ll} = \\frac{1}{0,015} \\cdot \\frac{\\pi \\cdot 1,4^2}{8} \\cdot \\left(\\frac{1,4}{4} \\right)^{\\frac{2}{3}} \\cdot \n",
    "   0,008^{\\frac{1}{2}} = 4,558 \\frac{m^3}{s}\n",
    " $$\n",
    "</div>"
   ]
  },
  {
   "cell_type": "markdown",
   "id": "2df74a9d",
   "metadata": {},
   "source": [
    "<div class=\"formulas\">\n",
    " $$    \n",
    "   \\frac{Q_c}{Q_{ll}} = \\frac{2}{4,558} = 0,4387 \n",
    " $$\n",
    "</div>"
   ]
  },
  {
   "cell_type": "markdown",
   "id": "f9b6201c",
   "metadata": {},
   "source": [
    "<div class=\"texto\">\n",
    "  <p>Ahora se podrá calcular la velocidad $V_{ll}$:</p>\n",
    "</div>"
   ]
  },
  {
   "cell_type": "markdown",
   "id": "29f7cc03",
   "metadata": {},
   "source": [
    "<div class=\"formulas\"> \n",
    "   $$\n",
    "    V_{ll} = \\frac{Q_{ll}}{A} = \\frac {4,558}{\\frac{\\pi \\cdot 1,4^2}{4}} = 2,961 \\frac{m}{s}\n",
    "   $$\n",
    "</div>"
   ]
  },
  {
   "cell_type": "markdown",
   "id": "eb6f0b41",
   "metadata": {},
   "source": [
    "<div class=\"texto\">\n",
    "  <p>Se deberá buscar $\\frac{Q_c}{Q_{ll}}=0,4387$ en la tabla $Nº27$, donde se obtendrá:</p>\n",
    "</div>"
   ]
  },
  {
   "cell_type": "markdown",
   "id": "8ef26040",
   "metadata": {},
   "source": [
    "<div class=\"formulas\">\n",
    " $$    \n",
    "  \\frac{V_c}{V_{ll}} = 0,968 \n",
    " $$\n",
    "</div>\n",
    "<p></p>\n",
    "<div class=\"formulas\">\n",
    " $$    \n",
    "  \\frac{h_c}{h_{ll}} = 0,464 \n",
    " $$\n",
    "</div>"
   ]
  },
  {
   "cell_type": "markdown",
   "id": "72fc1634",
   "metadata": {},
   "source": [
    "<div class=\"texto\">\n",
    "  <p>Por último, se procederá a calcular $V_c$ y $h_c$:</p>\n",
    "</div>"
   ]
  },
  {
   "cell_type": "markdown",
   "id": "cd4072a2",
   "metadata": {},
   "source": [
    "<div class=\"formulas\">\n",
    " $$    \n",
    "  V_c = 0,968 \\cdot 2,961 = 2,866 \\frac {m}{s} \n",
    " $$\n",
    "</div>\n",
    "<p></p>\n",
    "<div class=\"formulas\">\n",
    " $$    \n",
    "  h_c = 0,464 \\cdot 1,4 =0,649 \\text { m} \n",
    " $$\n",
    "</div>"
   ]
  }
 ],
 "metadata": {
  "kernelspec": {
   "display_name": "Python 3 (ipykernel)",
   "language": "python",
   "name": "python3"
  },
  "language_info": {
   "codemirror_mode": {
    "name": "ipython",
    "version": 3
   },
   "file_extension": ".py",
   "mimetype": "text/x-python",
   "name": "python",
   "nbconvert_exporter": "python",
   "pygments_lexer": "ipython3",
   "version": "3.9.7"
  }
 },
 "nbformat": 4,
 "nbformat_minor": 5
}
