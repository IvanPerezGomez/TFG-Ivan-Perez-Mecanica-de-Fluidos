{
 "cells": [
  {
   "cell_type": "markdown",
   "id": "6fc0e7e7",
   "metadata": {},
   "source": [
    "<div style=\"background-color:#EAEAE9;padding:10px 40px;text-align:center; vertical-align: middle;font-family:didot;\" id=\"enunciado\">  \n",
    " <p style=\"font-size: 15px;text-align: justify;\">Un canal rectangular de cemento sin acabado ($n = 0,014$) tiene $2,5 \\text{ m}$ de ancho. La pendiente de la solera es de $1,5 \\text{ milésimas}$. Se pide:\n",
    "</p>\n",
    "    <br>\n",
    "    <div><center><img src=\"Imagenes/Ejercicio6_examen.png\" width=\"400\" height=\"400\" ></center></div>\n",
    "</div>"
   ]
  },
  {
   "cell_type": "markdown",
   "id": "50cb2f24",
   "metadata": {},
   "source": [
    "<p></p>"
   ]
  },
  {
   "cell_type": "markdown",
   "id": "4e507adf",
   "metadata": {},
   "source": [
    "<div style=\"background-color:#EAEAE9;padding:10px 40px;text-align:center; vertical-align: middle;font-family:didot;\" id=\"enunciado\">  \n",
    " <p style=\"font-size: 15px;text-align: justify;\">a) Calado ó altura del agua para un caudal de $6 \\frac{m^3}{s}$.</p>\n",
    "</div>"
   ]
  },
  {
   "cell_type": "markdown",
   "id": "ff7f6dc9",
   "metadata": {},
   "source": [
    "<div class=\"texto\">\n",
    "    <p>Se calculará la altura del agua despejando $h$ de la formula de Manning para el caudal:</p>\n",
    "<div>"
   ]
  },
  {
   "cell_type": "markdown",
   "id": "00a1115c",
   "metadata": {},
   "source": [
    "<div class=\"formulas\">\n",
    " $$    \n",
    "   6 = \\frac{1}{0,014} \\cdot 2,5h \\cdot \\left(\\frac{2,5h}{2,5 + 2h} \\right)^{\\frac{2}{3}} \\cdot \n",
    "   0,0015^{\\frac{1}{2}} \\to h = 1,2\\text{ m}  \n",
    " $$\n",
    "</div>"
   ]
  },
  {
   "cell_type": "markdown",
   "id": "038528fb",
   "metadata": {},
   "source": [
    "<div style=\"background-color:#EAEAE9;padding:10px 40px;text-align:center; vertical-align: middle;font-family:didot;\" id=\"enunciado\">  \n",
    " <p style=\"font-size: 15px;text-align: justify;\">b) Si la sección del canal fuese <b>semicircular</b> y fuese a sección llena, calcular el diámetro.</p>\n",
    "</div>"
   ]
  },
  {
   "cell_type": "markdown",
   "id": "1813a936",
   "metadata": {},
   "source": [
    "<div class=\"texto\">\n",
    "    <p>Se calculará el diámetro despejando $D$ de la formula de Manning para el caudal:</p>\n",
    "<div>"
   ]
  },
  {
   "cell_type": "markdown",
   "id": "d2448425",
   "metadata": {},
   "source": [
    "<div class=\"formulas\">\n",
    " $$    \n",
    "   6 = \\frac{1}{0,014} \\cdot \\frac{\\pi \\cdot D^2}{8} \\cdot \\left(\\frac{D}{4} \\right)^{\\frac{2}{3}} \\cdot \n",
    "   0,0015^{\\frac{1}{2}} \\to D = 2,68\\text{ m}\n",
    " $$\n",
    "</div>"
   ]
  },
  {
   "cell_type": "markdown",
   "id": "1bcad88b",
   "metadata": {},
   "source": [
    "<div style=\"background-color:#EAEAE9;padding:10px 40px;text-align:center; vertical-align: middle;font-family:didot;\" id=\"enunciado\">  \n",
    " <p style=\"font-size: 15px;text-align: justify;\">c) ¿Cuál de las dos opciones es mejor? ¿Por qué?</p>\n",
    "</div>"
   ]
  },
  {
   "cell_type": "markdown",
   "id": "9829440b",
   "metadata": {},
   "source": [
    "<div>\n",
    "    <p>La sección semicircular es mejor dado que su perímetro mojado (y su área) son mínimos.</p>\n",
    "</div>"
   ]
  },
  {
   "cell_type": "markdown",
   "id": "97faac43",
   "metadata": {},
   "source": [
    "<a href=\"Teoria_Tema_21.ipynb\">Ver en la teoría en apartado: Comparación entre familias o secciones diferentes</a>"
   ]
  }
 ],
 "metadata": {
  "kernelspec": {
   "display_name": "Python 3 (ipykernel)",
   "language": "python",
   "name": "python3"
  },
  "language_info": {
   "codemirror_mode": {
    "name": "ipython",
    "version": 3
   },
   "file_extension": ".py",
   "mimetype": "text/x-python",
   "name": "python",
   "nbconvert_exporter": "python",
   "pygments_lexer": "ipython3",
   "version": "3.9.7"
  }
 },
 "nbformat": 4,
 "nbformat_minor": 5
}
