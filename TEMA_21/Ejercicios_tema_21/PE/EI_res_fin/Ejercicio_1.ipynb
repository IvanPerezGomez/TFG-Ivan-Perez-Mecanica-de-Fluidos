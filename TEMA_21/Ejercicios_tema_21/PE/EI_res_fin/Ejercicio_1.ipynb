{
 "cells": [
  {
   "cell_type": "markdown",
   "id": "6fc0e7e7",
   "metadata": {},
   "source": [
    "<div style=\"background-color:#EAEAE9;padding:10px 40px;text-align:center; vertical-align: middle;font-family:didot;\" id=\"enunciado\">  \n",
    " <p style=\"font-size: 15px;text-align: justify;\">Se desea conocer el funcionamiento del colector de la figura de Madera sin cepillar, que recoge las aguas negras y de lluvia del barrio de Gros. La pendiente del colector J es\n",
    "de $3,5 \\text { milésimas}$. Se pide:</p>\n",
    "    <br>\n",
    "    <div><center><img src=\"Imagenes/Ejercicio1_examen.png\" width=\"300\" height=\"300\" ></center></div>\n",
    "</div>"
   ]
  },
  {
   "cell_type": "code",
   "execution_count": 1,
   "id": "6d187a86",
   "metadata": {},
   "outputs": [
    {
     "data": {
      "text/html": [
       "\n",
       "<script>\n",
       "code_show=true; \n",
       "function code_toggle() {\n",
       " if (code_show){\n",
       " $('div.input').hide();\n",
       " } else {\n",
       " $('div.input').show();\n",
       " }\n",
       " code_show = !code_show\n",
       "} \n",
       "$( document ).ready(code_toggle);\n",
       "</script>\n",
       "<a href=\"javascript:code_toggle()\">Mostrar/ocultar celdas de código</a>."
      ],
      "text/plain": [
       "<IPython.core.display.HTML object>"
      ]
     },
     "execution_count": 1,
     "metadata": {},
     "output_type": "execute_result"
    }
   ],
   "source": [
    "from IPython.display import HTML\n",
    "HTML('''\n",
    "<script>\n",
    "code_show=true; \n",
    "function code_toggle() {\n",
    " if (code_show){\n",
    " $('div.input').hide();\n",
    " } else {\n",
    " $('div.input').show();\n",
    " }\n",
    " code_show = !code_show\n",
    "} \n",
    "$( document ).ready(code_toggle);\n",
    "</script>\n",
    "<a href=\"javascript:code_toggle()\">Mostrar/ocultar celdas de código</a>.''')"
   ]
  },
  {
   "cell_type": "code",
   "execution_count": 2,
   "id": "e6896f80",
   "metadata": {
    "scrolled": true
   },
   "outputs": [
    {
     "data": {
      "text/html": [
       "\n",
       "<button onclick=\"ejecutar(2,20)\">Empezar ejercicio/Reiniciar datos(dos clicks )</button>\n",
       "<script>function ejecutar(desde, hasta){\n",
       "    for(i = desde; i < hasta; i++)\n",
       "Jupyter.notebook.execute_cells([i])\n",
       "}</script>"
      ],
      "text/plain": [
       "<IPython.core.display.HTML object>"
      ]
     },
     "execution_count": 2,
     "metadata": {},
     "output_type": "execute_result"
    }
   ],
   "source": [
    "from IPython.display import HTML\n",
    "HTML('''\n",
    "<button onclick=\"ejecutar(2,20)\">Empezar ejercicio/Reiniciar datos(dos clicks )</button>\n",
    "<script>function ejecutar(desde, hasta){\n",
    "    for(i = desde; i < hasta; i++)\n",
    "Jupyter.notebook.execute_cells([i])\n",
    "}</script>''')"
   ]
  },
  {
   "cell_type": "code",
   "execution_count": 3,
   "id": "5f1e457d",
   "metadata": {},
   "outputs": [],
   "source": [
    "#Antes que nada, se deben importar los módulos necesarios para usarlos al resolver los problemas. \n",
    "#Son unos ficheros que guardan definiciones y declaraciones de Python.\n",
    "from sympy import Symbol, Eq, solve\n",
    "from math import pi, sqrt\n",
    "from ipywidgets import widgets, interactive\n",
    "from ipynb.fs.full.Funciones_variables import J, Q, b, h, D, A, P, Rh, n, x, y ,z, Qll, Vll, Vc\n",
    "#Crea una lista de los módulos instalados --> help(\"modules\")\n",
    "#Esta función crea una lista de las funciones o variables del módulo --> dir(math)"
   ]
  },
  {
   "cell_type": "code",
   "execution_count": 4,
   "id": "b2f43ca0",
   "metadata": {
    "scrolled": false
   },
   "outputs": [
    {
     "name": "stdout",
     "output_type": "stream",
     "text": [
      "Ingrese el valor de y en m\n"
     ]
    },
    {
     "data": {
      "application/vnd.jupyter.widget-view+json": {
       "model_id": "89dfc10c6d9d4d4aac3baf15f44ca3ea",
       "version_major": 2,
       "version_minor": 0
      },
      "text/plain": [
       "interactive(children=(FloatText(value=0.0, description='y', step=0.01), Output()), _dom_classes=('widget-inter…"
      ]
     },
     "metadata": {},
     "output_type": "display_data"
    },
    {
     "name": "stdout",
     "output_type": "stream",
     "text": [
      "Ingrese el valor de x en m \n"
     ]
    },
    {
     "data": {
      "application/vnd.jupyter.widget-view+json": {
       "model_id": "fdb5dc6dbb5349b79f750e90c3450a1b",
       "version_major": 2,
       "version_minor": 0
      },
      "text/plain": [
       "interactive(children=(FloatText(value=0.0, description='x', step=0.01), Output()), _dom_classes=('widget-inter…"
      ]
     },
     "metadata": {},
     "output_type": "display_data"
    },
    {
     "name": "stdout",
     "output_type": "stream",
     "text": [
      "Ingrese el valor de z en m \n"
     ]
    },
    {
     "data": {
      "application/vnd.jupyter.widget-view+json": {
       "model_id": "dff3146e2f5b410c99b3e300f65ad48c",
       "version_major": 2,
       "version_minor": 0
      },
      "text/plain": [
       "interactive(children=(FloatText(value=0.0, description='z', step=0.01), Output()), _dom_classes=('widget-inter…"
      ]
     },
     "metadata": {},
     "output_type": "display_data"
    },
    {
     "name": "stdout",
     "output_type": "stream",
     "text": [
      "Ingrese el valor de la pendiente en m\n"
     ]
    },
    {
     "data": {
      "application/vnd.jupyter.widget-view+json": {
       "model_id": "dc078054e24e4a22bd02ff7686feee75",
       "version_major": 2,
       "version_minor": 0
      },
      "text/plain": [
       "interactive(children=(FloatText(value=0.0, description='J', step=0.0001), Output()), _dom_classes=('widget-int…"
      ]
     },
     "metadata": {},
     "output_type": "display_data"
    },
    {
     "name": "stdout",
     "output_type": "stream",
     "text": [
      "Escoja el coeficiente de rugosidad medido según Manning de la siguiente lista: \n"
     ]
    },
    {
     "data": {
      "application/vnd.jupyter.widget-view+json": {
       "model_id": "e172e90b463f44f994c24f48f5952ae6",
       "version_major": 2,
       "version_minor": 0
      },
      "text/plain": [
       "interactive(children=(Dropdown(description='Material del canal:', options=(('---', 1e-10), ('Madera cepillada'…"
      ]
     },
     "metadata": {},
     "output_type": "display_data"
    }
   ],
   "source": [
    "#Pedimos al usuario que ingrese los datos del problema\n",
    "\n",
    "print(\"Ingrese el valor de y en m\")\n",
    "y= interactive(y, y=widgets.FloatText(min=0, max=100, step=0.01, value=0));\n",
    "display(y)\n",
    "\n",
    "print(\"Ingrese el valor de x en m \")\n",
    "x= interactive(x, x=widgets.FloatText(min=1, max=100, step=0.01, value=0));\n",
    "display(x)\n",
    "\n",
    "print(\"Ingrese el valor de z en m \")\n",
    "z= interactive(z, z=widgets.FloatText(min=1, max=100, step=0.01, value=0));\n",
    "display(z)\n",
    "\n",
    "print(\"Ingrese el valor de la pendiente en m\")\n",
    "J= interactive(J, J=widgets.FloatText(min=0, max=1000, step=0.0001, value=0));\n",
    "display(J)\n",
    "\n",
    "print(\"Escoja el coeficiente de rugosidad medido según Manning de la siguiente lista: \")\n",
    "\n",
    "n= interactive(n, n=widgets.Dropdown(\n",
    "    options=[('---', 0.0000000001),\n",
    "             ('Madera cepillada', 0.012), \n",
    "             ('Madera sin cepillar', 0.013), \n",
    "             ('Hormigón acabado', 0.012), \n",
    "             ('Hormigón en bruto', 0.015), \n",
    "             ('Hierro fundido', 0.016), \n",
    "             ('Ladrillo', 0.016), \n",
    "             ('Acero roblonado', 0.016), \n",
    "             ('Arena', 0.020), \n",
    "             ('Metal con arrugas', 0.022), \n",
    "             ('Grava fina (grosor 10/20/30)', 0.022), \n",
    "             ('Grava media', 0.025), \n",
    "             ('Grava (grosor 50/100/150)', 0.029), \n",
    "             ('Mampostería ', 0.026), \n",
    "             ('Tierra', 0.026),\n",
    "             ('Tierra con piedras o hierba', 0.035),\n",
    "             ('Piedras', 0.037),\n",
    "             ('Rocas medias', 0.042),\n",
    "             ('Rocas grandes', 0.060),\n",
    "             ('PVC', 0.009)],\n",
    "    description='Material del canal:',\n",
    "));\n",
    "display(n)"
   ]
  },
  {
   "cell_type": "markdown",
   "id": "6803b11a",
   "metadata": {},
   "source": [
    "<div style=\"background-color:#EAEAE9;padding:10px 40px;text-align:center; vertical-align: middle;font-family:didot;\" id=\"enunciado\">  \n",
    " <p style=\"font-size: 15px;text-align: justify;\">a) Caudal máximo total (l/s) que puede transportar el colector sin entrar en\n",
    "carga. </p>\n",
    "</div>"
   ]
  },
  {
   "cell_type": "code",
   "execution_count": 5,
   "id": "90b0a189",
   "metadata": {},
   "outputs": [
    {
     "data": {
      "text/html": [
       "\n",
       "<button onclick=\"ejecutar(7)\">Calcular</button>\n",
       "<script>function ejecutar(i){\n",
       "    Jupyter.notebook.execute_cells([i])\n",
       "}</script>"
      ],
      "text/plain": [
       "<IPython.core.display.HTML object>"
      ]
     },
     "execution_count": 5,
     "metadata": {},
     "output_type": "execute_result"
    }
   ],
   "source": [
    "from IPython.display import HTML\n",
    "HTML('''\n",
    "<button onclick=\"ejecutar(7)\">Calcular</button>\n",
    "<script>function ejecutar(i){\n",
    "    Jupyter.notebook.execute_cells([i])\n",
    "}</script>''')\n"
   ]
  },
  {
   "cell_type": "code",
   "execution_count": 11,
   "id": "b48d9f6d",
   "metadata": {},
   "outputs": [
    {
     "name": "stdout",
     "output_type": "stream",
     "text": [
      "Resultado:\n",
      "Q= 0.448 m3/s\n",
      "Q= 447.833 l/s\n"
     ]
    }
   ],
   "source": [
    "#Calculamos mediante la fórmula de Manning la altura del canal\n",
    "import math \n",
    "from math import pi, sqrt\n",
    "from sympy import Symbol, Eq, solve\n",
    "\n",
    "if x.result==0 and y.result==0 and z.result==0 and J.result==0 :\n",
    "    print(\"Inserte datos para calcular el resultado\")\n",
    "elif x.result==0 or y.result==0 or z.result==0 or J.result==0 :\n",
    "    print(\"¡¡Revise los datos insertados, puede que se haya dejado alguno sin insertar!!\")  \n",
    "    print(\"¡¡Recuerde que ningun dato puede ser igual a cero!!\")\n",
    "else:\n",
    "    # calculamos el area \n",
    "    A = (y.result*(x.result+z.result))+((pi*(z.result**2))/8)\n",
    "    #print ('A=',round(A,3),'m2')\n",
    "    \n",
    "    # calculamos el perimetro \n",
    "    P = (2*y.result)+(x.result)+((pi*z.result)/2)\n",
    "    #print ('P=',round(P,3),'m')\n",
    "    \n",
    "    # calculamos el radio hidraulico\n",
    "    Rh = A/P\n",
    "    #print ('Rh=',round(Rh,3),'m')\n",
    "    \n",
    "    print('Resultado:')\n",
    "    Q = (1/n.result)*(A)*((Rh)**(2/3))*((J.result)**(1/2))  \n",
    "    print ('Q=',round(Q,3),'m3/s')\n",
    "    print ('Q=',round(Q*1000,3),'l/s')"
   ]
  },
  {
   "cell_type": "markdown",
   "id": "0c18a8ca",
   "metadata": {},
   "source": [
    "<div style=\"background-color:#EAEAE9;padding:10px 40px;text-align:center; vertical-align: middle;font-family:didot;\" id=\"enunciado\">  \n",
    " <p style=\"font-size: 15px;text-align: justify;\">b) Caudal máximo (l/s) que puede transportar la sección semicircular.</p>\n",
    "</div>"
   ]
  },
  {
   "cell_type": "code",
   "execution_count": 7,
   "id": "2c16f9e9",
   "metadata": {},
   "outputs": [
    {
     "data": {
      "text/html": [
       "\n",
       "<button onclick=\"ejecutar(10)\">Calcular</button>\n",
       "<script>function ejecutar(i){\n",
       "    Jupyter.notebook.execute_cells([i])\n",
       "}</script>"
      ],
      "text/plain": [
       "<IPython.core.display.HTML object>"
      ]
     },
     "execution_count": 7,
     "metadata": {},
     "output_type": "execute_result"
    }
   ],
   "source": [
    "from IPython.display import HTML\n",
    "HTML('''\n",
    "<button onclick=\"ejecutar(10)\">Calcular</button>\n",
    "<script>function ejecutar(i){\n",
    "    Jupyter.notebook.execute_cells([i])\n",
    "}</script>''')"
   ]
  },
  {
   "cell_type": "code",
   "execution_count": 8,
   "id": "2a4cce7a",
   "metadata": {},
   "outputs": [
    {
     "name": "stdout",
     "output_type": "stream",
     "text": [
      "Inserte datos para calcular el resultado\n"
     ]
    }
   ],
   "source": [
    "import math \n",
    "from math import pi, sqrt\n",
    "from sympy import Symbol, Eq, solve\n",
    "\n",
    "if x.result==0 and y.result==0 and z.result==0 and J.result==0 :\n",
    "    print(\"Inserte datos para calcular el resultado\")\n",
    "elif x.result==0 or y.result==0 or z.result==0 or J.result==0 :\n",
    "    print(\"¡¡Revise los datos insertados, puede que se haya dejado alguno sin insertar!!\")  \n",
    "    print(\"¡¡Recuerde que ningun dato puede ser igual a cero!!\")\n",
    "else:   \n",
    "    # calculamos el area \n",
    "    A = (pi*(z.result**2))/8\n",
    "    #print ('A=',round(A,3),'m2')\n",
    "\n",
    "    # calculamos el perimetro \n",
    "    P = (pi*z.result)/2\n",
    "    #print ('P=',round(P,3),'m')\n",
    "\n",
    "    # calculamos el radio hidraulico\n",
    "    Rh = A/P\n",
    "    #print ('Rh=',round(Rh,3),'m')\n",
    "\n",
    "    print('Resultado:')\n",
    "    Q = (1/n.result)*(A)*((Rh)**(2/3))*((J.result)**(1/2))  \n",
    "    print ('Q=',round(Q,5),'m3/s')\n",
    "    print ('Q=',round(Q*1000,3),'l/s')"
   ]
  },
  {
   "cell_type": "markdown",
   "id": "dff5148e",
   "metadata": {},
   "source": [
    "<div style=\"background-color:#EAEAE9;padding:10px 40px;text-align:center; vertical-align: middle;font-family:didot;\" id=\"enunciado\">  \n",
    " <p style=\"font-size: 15px;text-align: justify;\">c) En hora punta (14 horas), en un momento en que no llueve, se sabe\n",
    "  que el colector transporta $8 \\frac{l}{s}$ de aguas negras (residuales). Calcular el calado $hc$ y la velocidad del flujo $V$. </p>\n",
    "</div>"
   ]
  },
  {
   "cell_type": "code",
   "execution_count": 9,
   "id": "85a05197",
   "metadata": {},
   "outputs": [
    {
     "data": {
      "text/html": [
       "\n",
       "<button onclick=\"ejecutar(13)\">Calcular</button>\n",
       "<script>function ejecutar(i){\n",
       "    Jupyter.notebook.execute_cells([i])\n",
       "}</script>"
      ],
      "text/plain": [
       "<IPython.core.display.HTML object>"
      ]
     },
     "execution_count": 9,
     "metadata": {},
     "output_type": "execute_result"
    }
   ],
   "source": [
    "from IPython.display import HTML\n",
    "HTML('''\n",
    "<button onclick=\"ejecutar(13)\">Calcular</button>\n",
    "<script>function ejecutar(i){\n",
    "    Jupyter.notebook.execute_cells([i])\n",
    "}</script>''')"
   ]
  },
  {
   "cell_type": "code",
   "execution_count": 10,
   "id": "b0d5c4d1",
   "metadata": {},
   "outputs": [
    {
     "name": "stdout",
     "output_type": "stream",
     "text": [
      "Inserte datos para calcular el resultado\n"
     ]
    }
   ],
   "source": [
    "import numpy as np\n",
    "import math \n",
    "from math import pi, sqrt\n",
    "from sympy import Symbol, Eq, solve\n",
    "\n",
    "if x.result==0 and y.result==0 and z.result==0 and J.result==0 :\n",
    "    print(\"Inserte datos para calcular el resultado\")\n",
    "elif x.result==0 or y.result==0 or z.result==0 or J.result==0 :\n",
    "    print(\"¡¡Revise los datos insertados, puede que se haya dejado alguno sin insertar!!\")  \n",
    "    print(\"¡¡Recuerde que ningun dato puede ser igual a cero!!\")\n",
    "else: \n",
    "    \n",
    "    Qc = 0.008 # m3/s\n",
    "    \n",
    "    #Se calcula Qll\n",
    "    Qll = ( 1/n.result )*( (pi*(z.result**2))/4 )*( (z.result/4)**(2/3) )* (J.result**(1/2))\n",
    "    \n",
    "    #Se calcula Qc/Qll\n",
    "    caudal = round(Qc/Qll,2)\n",
    "        \n",
    "    #Se calcula Vll\n",
    "    Vll = ( 1/n.result )*( (z.result/4)**(2/3) )* (J.result**(1/2))\n",
    "     \n",
    "        \n",
    "#------------------------------------------ CONSEGUIR DATOS DE LAS TABLAS --------------------------------------------------------------        \n",
    "    #EXTRAER DATOS DE EXCEL \n",
    "    \n",
    "    import openpyxl\n",
    "\n",
    "    #leer el archivo\n",
    "    book = openpyxl.load_workbook('tabla27.xlsx', data_only=True)\n",
    "\n",
    "    #fijar la hoja\n",
    "    hoja = book.active\n",
    "\n",
    "    celdas = hoja['A2':'C141']\n",
    "    filas_caudal = hoja['A2':'A141']\n",
    "\n",
    "    contador = -1 \n",
    "    for i in filas_caudal:\n",
    "        contador= contador+1\n",
    "        if(i[0].value == str(caudal)):\n",
    "#----------------------------------------------------------------------------------------------------------------------------                   \n",
    "            print('Resultado:')\n",
    "            #Se calcula Vc\n",
    "            Vc = Vll*(float(str(celdas[contador][1].value)))\n",
    "            print('Vc=', round(Vc,3) ,'m/s')\n",
    "            \n",
    "        \n",
    "            #Se calcula hc\n",
    "            hc = z.result*(float(str(celdas[contador][2].value)))\n",
    "            print('hc=', round(hc,3) ,'m')\n",
    "            \n",
    "            "
   ]
  }
 ],
 "metadata": {
  "kernelspec": {
   "display_name": "Python 3 (ipykernel)",
   "language": "python",
   "name": "python3"
  },
  "language_info": {
   "codemirror_mode": {
    "name": "ipython",
    "version": 3
   },
   "file_extension": ".py",
   "mimetype": "text/x-python",
   "name": "python",
   "nbconvert_exporter": "python",
   "pygments_lexer": "ipython3",
   "version": "3.9.7"
  }
 },
 "nbformat": 4,
 "nbformat_minor": 5
}
