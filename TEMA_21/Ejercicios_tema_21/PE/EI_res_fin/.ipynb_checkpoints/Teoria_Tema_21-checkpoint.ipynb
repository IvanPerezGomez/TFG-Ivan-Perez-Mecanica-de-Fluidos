{
 "cells": [
  {
   "cell_type": "markdown",
   "id": "2e4e302f",
   "metadata": {},
   "source": [
    "<div style=\"background-color:white;border-style:solid;padding:0px\">\n",
    "    <div style=\"background-color:white;border-style:solid\">\n",
    "        <div style=\"padding:0px;\">\n",
    "                        <div><h1><center><strong>TEMA 21</strong></center></h1></div>\n",
    "                        <div><h1><center><strong>FLUJO EN CONDUCTOS ABIERTOS.- CANALES.</strong></center></h1></div>\n",
    "        </div>\n",
    "    </div>   \n",
    "</div>"
   ]
  },
  {
   "cell_type": "markdown",
   "id": "4d42cc3b",
   "metadata": {},
   "source": [
    "<p></p>"
   ]
  },
  {
   "cell_type": "markdown",
   "id": "5ec55b4c",
   "metadata": {},
   "source": [
    "<h3>ÍNDICE</h3>"
   ]
  },
  {
   "cell_type": "markdown",
   "id": "b8812005",
   "metadata": {},
   "source": [
    "1.- [INTRODUCCIÓN](#Introduccion)"
   ]
  },
  {
   "cell_type": "markdown",
   "id": "85bef8b1",
   "metadata": {},
   "source": [
    "2.- [RESISTENCIA AL FLUJO PERMANENTE Y UNIFORME](#Resistencia)"
   ]
  },
  {
   "cell_type": "markdown",
   "id": "7a336ce1",
   "metadata": {},
   "source": [
    "3.- [COEFICIENTE DE CHEZY](#Coeficiente)"
   ]
  },
  {
   "cell_type": "markdown",
   "id": "89c14dc5",
   "metadata": {},
   "source": [
    "4.- [DISTRIBUCIÓN DE VELOCIDADES Y PRESIONES EN UNA SECCIÓN TRANSVERSAL](#Distribucion)"
   ]
  },
  {
   "cell_type": "markdown",
   "id": "6be7bd14",
   "metadata": {},
   "source": [
    "5.- [SECCIONES HIDRÁULICAMENTE ÓPTIMAS](#Secciones)"
   ]
  },
  {
   "cell_type": "markdown",
   "id": "a00c7d7f",
   "metadata": {},
   "source": [
    "6.- [CÁLCULO PRÁCTICO DE CANALES DE SECCIÓN CIRCULAR](#Circular)"
   ]
  },
  {
   "cell_type": "markdown",
   "id": "c6eb0475",
   "metadata": {},
   "source": [
    "<p></p>"
   ]
  },
  {
   "cell_type": "markdown",
   "id": "b13e7f0c",
   "metadata": {},
   "source": [
    "<div id=\"Introduccion\"><h2>1.- INTRODUCCIÓN</h2></div>"
   ]
  },
  {
   "cell_type": "markdown",
   "id": "6ddc5a4b",
   "metadata": {},
   "source": [
    "<div class=\"texto\">\n",
    "<p>Este capítulo estudia el régimen normal en un canal, es decir el régimen\n",
    "permanente y uniforme, comenzando por la demostración de la <b>fórmula de Chezy</b>.</p>\n",
    "<p>Mediante la <b>fórmula de Manning</b> para el <b>coeficiente de Chezy</b>, se explica el\n",
    "cálculo de canales, en régimen normal, con sección transversal <b>rectangular</b>, \n",
    "<b>trapecial</b>, <b>semicircular</b> y <b>triangular</b>.\n",
    "</p>\n",
    "  <h3>¿Qué es un canal?</h3>\n",
    "  <p>Un canal de agua es un cauce artificial de agua que se conduce para darle salida o para otros usos.</p> \n",
    "   <p> </p>  \n",
    "  <div><img src=\"./Imagenes/Canal_trapezoidal.jpg\" width=\"400\" height=\"400\"></div>\n",
    "    <h8><center>Figura 1: (Fuente: https://www.ingecivil.net/2018/01/16/elementos-geometricos-de-la-seccion-transversal-de-un-canal/ , 06/04/2022)</center></h8>\n",
    "   <p></p> \n",
    "  <h3>Ejemplo</h3>\n",
    "    <p></p>  \n",
    "   <p>Un ejemplo donde se aplican los canales sería en las centrales hidroeléctricas.</p> \n",
    "     <p> </p>  \n",
    "    <div><img src=\"./Imagenes/CENTRAL_ELECTRICA.jpg\" width=\"500\" height=\"500\"></div>\n",
    "    <h8><center>Figura 2: (Fuente: https://energiahoy.com/2020/06/01/turbinas-hidroelectricas-y-sus-aplicaciones-ii-de-viii-2/ , 06/04/2022)</center></h8>\n",
    "    <p> </p>\n",
    "    <div class=\"texto\">\n",
    "      <p>Como se puede observar en la imagen los canales se utilizan para reconducir parte del caudal del rio hacia la central \n",
    "          hidroelectrica.</p>\n",
    "        <p>Existen diferentes tipos de canales de derivación que se utilizan para las centrales hidroelectricas:</p>\n",
    "    </div>\n",
    "     <p> </p>  \n",
    "    <div><img src=\"./Imagenes/CENTRALES_HIDROELÉCTRICAS_CANAL_DE_DERIVACIÓN.jpg\" width=\"500\" height=\"500\"></div>\n",
    "    <h8><center>Figura 3: (Fuente: https://slideplayer.es/slide/11838168/, 06/04/2022)</center></h8>\n",
    "</div>"
   ]
  },
  {
   "cell_type": "markdown",
   "id": "3d1a9569",
   "metadata": {},
   "source": [
    "<p></p>"
   ]
  },
  {
   "cell_type": "markdown",
   "id": "9e6ff23f",
   "metadata": {},
   "source": [
    "<div id=\"Resistencia\"><h2>2.- RESISTENCIA AL FLUJO PERMANENTE Y UNIFORME</h2></div>"
   ]
  },
  {
   "cell_type": "markdown",
   "id": "6ea1259f",
   "metadata": {},
   "source": [
    "<div class=\"texto\">\n",
    "<p>Sí el flujo en lámina libre a través de un canal es <b>uniforme</b> y <b>permanente</b> se\n",
    "denomina <font color=\"FF0000\">flujo normal</font>. El flujo, a través del canal, pierde cota.</p>\n",
    "<p>A continuación, se obtendrá la expresion de Chezy de la siguiente matera:</p>    \n",
    "</div>"
   ]
  },
  {
   "cell_type": "markdown",
   "id": "41d7e6d5",
   "metadata": {},
   "source": [
    "<div class=\"split\">\n",
    "    <div class=\"izq\"><img src=\"./Imagenes/ExpresionChezy.png\" width=\"700\" height=\"600\"></div>\n",
    "      <div class=\"dcha\">\n",
    "        <div class=\"texto\">   \n",
    "         <p>Tomando Bernoulli entre dos secciones transversales 1 y 2, y teniendo en\n",
    "             cuenta que presiones y velocidades son iguales en ambas secciones, se tiene:</p>\n",
    "         <p></p>\n",
    "        </div>\n",
    "          <div class=\"formulas\"> \n",
    "            $$\n",
    "            z_{_1}=z_{_2}+hf_{_1-2}\n",
    "            $$\n",
    "          </div> \n",
    "          <div class=\"texto\">   \n",
    "          <p>Es deccir:</p>\n",
    "          <p></p>\n",
    "          <div class=\"formulas\"> \n",
    "           $$\n",
    "            hf_{_1-2}=z_{_1}-z_{_2}=\\Delta z\n",
    "           $$\n",
    "             <p></p>\n",
    "           $$\n",
    "            \\frac{hf_{_1-2}}{L}=\\frac{\\Delta z}{L}=J\n",
    "           $$\n",
    "           </div>  \n",
    "        </div>   \n",
    "    </div>\n",
    "</div>"
   ]
  },
  {
   "cell_type": "markdown",
   "id": "fb23aa52",
   "metadata": {},
   "source": [
    "<div class=\"texto\">\n",
    "    <p>Las fuerzas que actúan sobre este elemento son las siguientes:</p>\n",
    "    <ul>\n",
    "    <li>Fuerza debida a la presión aguas arriba:$p_{_1} A$.</li>\n",
    "    <li>Fuerza debida a la presión aguas abajo:$p_{_2} A$.</li>\n",
    "    <li>Fuerza debida al esfuerzo cortante:$\\tau_{_0} LP$.</li>\n",
    "    <li>Fuerza debida a la presión aguas abajo:$\\gamma AL$.</li>     \n",
    "    </ul>\n",
    "</div>"
   ]
  },
  {
   "cell_type": "markdown",
   "id": "54efab4e",
   "metadata": {},
   "source": [
    "   <div class=\"texto\">   \n",
    "    <p>Debido a que se considera <b>régimen permanente y uniforme</b>, en el que la velocidad media es la misma para todas las        secciones y todos los instantes, por el teorema de la continuidad la altura alcanzada por la lámina de agua es la               misma entodas las secciones, y por tanto las presiones son equivalentes en todas ellas, es decir:</p>\n",
    "         <p></p>\n",
    "   </div>\n",
    "   <div class=\"formulas\"> \n",
    "    $$\n",
    "     p_{_1}=p_{_2}\n",
    "    $$\n",
    "   </div>\n",
    "   <div class=\"texto\">   \n",
    "         <p>La ecuación de equilibrio resulta ser:</p>\n",
    "         <p></p>      \n",
    "   </div>\n",
    "   <div class=\"formulas\"> \n",
    "    $$\n",
    "     \\gamma AL sen\\alpha=\\tau_{_0} LP\n",
    "    $$\n",
    "   </div>\n",
    "    <div class=\"texto\">   \n",
    "         <p>Teniendo en cuenta que: $sen\\alpha = \\frac{\\Delta z}{L}$, siendo $\\Delta z$ la diferencia de cotas entre la sección           1 y 2, resulta:</p>      \n",
    "   </div>\n",
    "   <p></p>\n",
    "   <div class=\"formulas\"> \n",
    "    $$\n",
    "     \\gamma A\\Delta z=\\tau_{_0} LP\n",
    "    $$\n",
    "   </div>\n",
    "   <div class=\"texto\">   \n",
    "         <p>dividiendo por el volumen $A \\cdot L$, se tiene:</p>  \n",
    "   </div>\n",
    "    <p></p>    \n",
    "   <div class=\"formulas\"> \n",
    "    $$\n",
    "     \\gamma A\\frac{\\Delta z}{L}=\\frac{\\tau_{_0} P}{A}=\\frac{\\tau_{_0}}{R_{h}}\n",
    "    $$\n",
    "   </div>\n",
    "   <div class=\"texto\">   \n",
    "         <p>Siendo $R_{h}$ el cociente entre el área y el perímetro mojado de la sección transversal, denominado radio \n",
    "             hidráulico.</p>\n",
    "         <p>Sustituyendo $\\tau_{_0}$ por el valor ya utilizado en la deducción de la ecuación de <b>Darcy-Weisbach</b> para \n",
    "             flujo turbulento, resulta:</p> \n",
    "         <p></p> \n",
    "   </div>\n",
    "   <div class=\"formulas\"> \n",
    "    $$\n",
    "     \\gamma A\\frac{\\Delta z}{L}=\\frac{\\lambda \\rho V^{^{2}}}{2R_{h}}\n",
    "    $$\n",
    "   </div>\n",
    "   <div class=\"texto\">   \n",
    "         <p>Despejando la velocidad:</p>\n",
    "         <p></p>      \n",
    "   </div>\n",
    "   <div class=\"formulas\"> \n",
    "    $$\n",
    "     V=\\sqrt{\\frac{2g}{\\lambda}} \\cdot \\sqrt{R_{h} \\cdot \\frac{\\Delta z}{L}}\n",
    "    $$\n",
    "   </div>\n",
    "   </div>\n",
    "   <div class=\"texto\">   \n",
    "         <p>El valor de $\\Delta z/ L$ representa tanto la pendiente de la lámina superior como de la solera del canal, al \n",
    "             ser éstas paralelas, y se designa por $J$, resultando:</p>\n",
    "         <p></p>      \n",
    "   </div>\n",
    "   <div class=\"formulas\"> \n",
    "    $$\n",
    "     V=\\sqrt{\\frac{2g}{\\lambda}} \\cdot \\sqrt{R_{h} \\cdot J}\n",
    "    $$\n",
    "   </div>\n",
    "   <div class=\"texto\">   \n",
    "         <p>En definitiva:</p>\n",
    "         <p></p>      \n",
    "   </div>\n",
    "   <div class=\"texto\">\n",
    "    <table width=\"250\" cellspacing=\"1\" cellpadding=\"3\" border=\"0\" bgcolor=\"#1E679A\">\n",
    "        <tr>\n",
    "          <td bgcolor=\"FFFFFF\">\n",
    "           <font color=\"FF0000\">$V= C \\cdot \\sqrt{R_{h} \\cdot J}$</font> <b>Expresión de CHEZY</b>\n",
    "          </td>\n",
    "        </tr>\n",
    "     </table>\n",
    "   </div>\n",
    "   "
   ]
  },
  {
   "cell_type": "markdown",
   "id": "be71939e",
   "metadata": {},
   "source": [
    "<p></p>"
   ]
  },
  {
   "cell_type": "markdown",
   "id": "164b9b1a",
   "metadata": {},
   "source": [
    "<div id=\"Coeficiente\"><h2>3.-COEFICIENTE DE CHEZY</h2></div>"
   ]
  },
  {
   "cell_type": "markdown",
   "id": "28a469cf",
   "metadata": {},
   "source": [
    "<div class=\"texto\">\n",
    "    <p>El investigador irlandés Robert Manning propuso el siguiente valor del coeficiente de Chezy:</p> \n",
    "</div>    "
   ]
  },
  {
   "cell_type": "markdown",
   "id": "04c3718d",
   "metadata": {},
   "source": [
    "<div class=\"texto\">\n",
    "     <p><center>$C= \\frac{1}{n}R_{_h}^{^{\\frac{1}{6}}}$ <b>Coeficiente de Manning</b></center></p>\n",
    "</div>   "
   ]
  },
  {
   "cell_type": "markdown",
   "id": "43554a58",
   "metadata": {},
   "source": [
    "<div class=\"texto\">\n",
    "    <p>Donde <b>$n$</b> es un coeficiente con dimensiones, denominado de Manning, que expresa la rugosidad de las paredes del \n",
    "        canal. Se advierte que este coeficiente no tiene nada que ver con el espesor de rugosidad <b>$\\varepsilon$</b> que\n",
    "        tiene dimensiones de longitud, ni con el coeficiente de frotamiento <b>f</b>, adimensional, de la fórmula de \n",
    "        <b>Darcy-Weisbach</b>.</p> \n",
    "</div>   "
   ]
  },
  {
   "cell_type": "markdown",
   "id": "9dd4b486",
   "metadata": {},
   "source": [
    "<div class=\"texto\">\n",
    "     <p><center>$V= \\frac{1}{n}R_{_h}^{^{\\frac{2}{3}}}J^{^{\\frac{1}{2}}}$ <b>Expresión de Chezy-Manning</b></center></p>\n",
    "</div>"
   ]
  },
  {
   "cell_type": "markdown",
   "id": "81ba927b",
   "metadata": {},
   "source": [
    "<div class=\"texto\">\n",
    "    <p>Teniendo en cuenta la ecuación de la continuidad: $Q=V \\cdot A$ </p> \n",
    "</div> "
   ]
  },
  {
   "cell_type": "markdown",
   "id": "78fee2aa",
   "metadata": {},
   "source": [
    "<div class=\"texto\">\n",
    "    <table width=\"250\" cellspacing=\"1\" cellpadding=\"3\" border=\"0\" bgcolor=\"#1E679A\">\n",
    "        <tr>\n",
    "          <td bgcolor=\"FFFF00\">\n",
    "           <font color=\"FF0000\">$Q=\\frac{1}{n}AR_{_h}^{^{\\frac{2}{3}}}J^{^{\\frac{1}{2}}}$</font><b>Expresión del caudal</b>\n",
    "          </td>\n",
    "        </tr>\n",
    "     </table>\n",
    "   </div>"
   ]
  },
  {
   "cell_type": "markdown",
   "id": "536726f7",
   "metadata": {},
   "source": [
    "<div class=\"texto\">\n",
    "    <p>$Q$: Caudal en $\\frac{m^{^3}}{s}$.</p>\n",
    "    <p>$n$: Es función de la rugosidad del material del canal. Los valores están tabulados en el libro de Cuadros y Ábacos \n",
    "        (tabla  26).</p>\n",
    "    <p>$A$: Sección transversal del flujo en el canal, en $m^{^2}$.</p>\n",
    "    <p>$R_{_h}$: Radio hidráulico, es decir $R_{_h}=\\frac{A}{P}$, siendo $P$ el perímetro mojado por el flujo, en $m$.</p>\n",
    "    <p>$Q$: Pendiente de la solera del canal, en $\\frac{m}{m}$.</p>\n",
    "</div>"
   ]
  },
  {
   "cell_type": "markdown",
   "id": "468e622c",
   "metadata": {},
   "source": [
    "<p></p>"
   ]
  },
  {
   "cell_type": "markdown",
   "id": "a95d3b8b",
   "metadata": {},
   "source": [
    "<div><center><img src=\"./Imagenes/Abaco_26.png\" width=\"600\" height=\"400\"></center></div>"
   ]
  },
  {
   "cell_type": "markdown",
   "id": "7111fafa",
   "metadata": {},
   "source": [
    "<p></p>"
   ]
  },
  {
   "cell_type": "markdown",
   "id": "5d3faab1",
   "metadata": {},
   "source": [
    "<div id=\"Distribucion\"><h2>4.-DISTRIBUCIÓN DE VELOCIDADES Y PRESIONES EN UNA SECCIÓN TRANSVERSAL</h2></div>"
   ]
  },
  {
   "cell_type": "markdown",
   "id": "cb50379b",
   "metadata": {},
   "source": [
    "<div><center><img src=\"./Imagenes/Distribucion_de_vel_pre.png\" width=\"600\" height=\"400\"></center></div>"
   ]
  },
  {
   "cell_type": "markdown",
   "id": "948bbde6",
   "metadata": {},
   "source": [
    "<div class=\"texto\">   \n",
    "   <p>La velocidad del flujo en las paredes del canal es nula. La velocidad máxima del agua no se da en la superficie libre \n",
    "      debido a la resistencia del aire. La velocidad máxima se da a la profundidad $0,05 ÷ 0,25⋅h$, siendo $h$ el calado.</p>\n",
    "   <p>La velocidad media se puede determinar midiendo la velocidad existente en el eje transversal a $0,6$ de la profundidad, \n",
    "      a partir de la lámina superior, siendo más recomendable considerar la media de velocidades de los puntos situados en el\n",
    "      eje a $0,2$ y $0,8$ de la profundidad.</p>\n",
    "</div>    "
   ]
  },
  {
   "cell_type": "markdown",
   "id": "f4094eba",
   "metadata": {},
   "source": [
    "<h3>Distribución de presiones</h3>"
   ]
  },
  {
   "cell_type": "markdown",
   "id": "2b7eff20",
   "metadata": {},
   "source": [
    "<div class=\"texto\"> \n",
    "    <p>Al ser pequeñas las velocidades, la distribución de presiones es hidrostática y la línea piezométrica coincide con la \n",
    "       superficie libre. Por tanto la energía de presión más la energía de posición (presión estrellada) es constante para\n",
    "       todos los puntos de la sección.</p>\n",
    "</div>\n"
   ]
  },
  {
   "cell_type": "markdown",
   "id": "a4f24f1f",
   "metadata": {},
   "source": [
    "<div><center><img src=\"./Imagenes/Distribucion_presiones.png\" width=\"600\" height=\"400\"></center></div>"
   ]
  },
  {
   "cell_type": "markdown",
   "id": "d962bc69",
   "metadata": {},
   "source": [
    "<p></p>"
   ]
  },
  {
   "cell_type": "markdown",
   "id": "6629fe09",
   "metadata": {},
   "source": [
    "<div id=\"Secciones\"><h2>5.-SECCIONES HIDRÁULICAMENTE ÓPTIMAS</h2></div>"
   ]
  },
  {
   "cell_type": "markdown",
   "id": "ebbc2692",
   "metadata": {},
   "source": [
    "<div class=\"texto\">\n",
    "    <p>Para un caudal, una pendiente y un coeficiente de rugosidad dados, algunas formas de secciones son hidráulicamente y\n",
    "       económicamente más convenientes que otras.</p>\n",
    "    <p>Basándonos en la fórmula de Manning se demuestra que cuando el área $A$ dela sección recta es mínima, el perímetro \n",
    "       mojado $P$ también es mínimo, permaneciendo constantes caudal, pendiente y rugosidad. En efecto, según Manning:</p>\n",
    "</div>"
   ]
  },
  {
   "cell_type": "markdown",
   "id": "a5d0295a",
   "metadata": {},
   "source": [
    "<div class=\"formulas\"> \n",
    "    $$\n",
    "     Q=\\frac{1}{n}AR_{_H}^{^{\\frac{2}{3}}}J^{^{\\frac{1}{2}}}=\\frac{1}{n}A\\frac{A^{^{\\frac{2}{3}}}}{P^{^{\\frac{2}\n",
    "     {3}}}}J^{^{\\frac{1}{2}}}\n",
    "    $$\n",
    "</div>"
   ]
  },
  {
   "cell_type": "markdown",
   "id": "264eec9e",
   "metadata": {},
   "source": [
    "<div class=\"texto\">\n",
    "    <p>Es decir, para $Q$, $n$ y $J$ dados, de la expresión anterior resulta:</p>\n",
    "</div>\n"
   ]
  },
  {
   "cell_type": "markdown",
   "id": "6caaa7e3",
   "metadata": {},
   "source": [
    " <div class=\"formulas\"> \n",
    "    $$\n",
    "     A=kP^{^{\\frac{2}{5}}}\n",
    "    $$\n",
    "</div>"
   ]
  },
  {
   "cell_type": "markdown",
   "id": "b05403de",
   "metadata": {},
   "source": [
    "<div class=\"texto\">\n",
    "    <p>Siendo $k$ un valor conocido constante. Esta expresión demuestra que $P$ esmínimo cuando $A$ es mínima.</p>\n",
    "    <p>Considerando una determinada figura geométrica como sección del canal, se llama sección hidráulicamente óptima a aquella\n",
    "       que tiene menos perímetro mojado y por tanto menos área.</p>\n",
    "</div>"
   ]
  },
  {
   "cell_type": "markdown",
   "id": "2e980335",
   "metadata": {},
   "source": [
    "<h3>Sección rectangular</h3>"
   ]
  },
  {
   "cell_type": "markdown",
   "id": "98294d7c",
   "metadata": {},
   "source": [
    "<div><center><img src=\"./Imagenes/Seccion_rectangular.png\" width=\"300\" height=\"300\" ></center></div>"
   ]
  },
  {
   "cell_type": "markdown",
   "id": "80981458",
   "metadata": {},
   "source": [
    "<div class=\"formulas\"> \n",
    "    $$\n",
    "     A=b \\cdot h \\to b=\\frac{A}{h}\n",
    "    $$\n",
    "    $$\n",
    "    $$\n",
    "    $$\n",
    "     P=b + 2h =\\frac{A}{h}+ 2h\n",
    "    $$\n",
    "</div>"
   ]
  },
  {
   "cell_type": "markdown",
   "id": "658c2394",
   "metadata": {},
   "source": [
    "<div class=\"texto\">\n",
    "    <p>Sección hidraulicamente óptima $\\to$ Perimetro mojado mínimo $\\to$ $\\frac{dP}{dh}$ Por lo tanto, A tambien mínimo \n",
    "       $\\frac{dA}{dh}$</p>\n",
    "</div>    "
   ]
  },
  {
   "cell_type": "markdown",
   "id": "363289d1",
   "metadata": {},
   "source": [
    "<div class=\"formulas\"> \n",
    "    $$\n",
    "     \\frac{dP}{dh}=\\frac{dA}{dh} \\cdot \\frac{1}{h} + A \\lgroup \\frac{-1}{h^{^{2}}}\\rgroup + 2 = 0 \\to \\frac{A}{h^{^{2}}} = 2 \n",
    "     \\to\n",
    "    $$\n",
    "    $$\n",
    "    $$\n",
    "    $$\n",
    "     A=2{h^{^{2}}}\n",
    "    $$\n",
    "    $$\n",
    "    $$\n",
    "    $$\n",
    "     A=b \\cdot h \\to\n",
    "    $$\n",
    "    $$\n",
    "    $$\n",
    "    $$\n",
    "     b \\cdot h = 2{h^{^{2}}} \\to b=2h\n",
    "    $$\n",
    "</div>"
   ]
  },
  {
   "cell_type": "markdown",
   "id": "6c6d1c5f",
   "metadata": {},
   "source": [
    " <div class=\"texto\">\n",
    "    <table width=\"214\" cellspacing=\"1\" cellpadding=\"3\" border=\"0\" bgcolor=\"#1E679A\">\n",
    "        <tr>\n",
    "          <td bgcolor=\"\tAFEEEE\">\n",
    "           <font color=\"000000\">$b=2h$  </font><b>Sección rectangular óptima</b>\n",
    "          </td>\n",
    "        </tr>\n",
    "     </table>\n",
    "   </div>"
   ]
  },
  {
   "cell_type": "markdown",
   "id": "d42220fe",
   "metadata": {},
   "source": [
    "<h3>Sección trapezoidal</h3>"
   ]
  },
  {
   "cell_type": "markdown",
   "id": "77cd9975",
   "metadata": {},
   "source": [
    "<div><img src=\"./Imagenes/Seccion_trapezoidal.png\" width=\"200\" height=\"200\" align=\"center\"></div>"
   ]
  },
  {
   "cell_type": "markdown",
   "id": "78a23b6f",
   "metadata": {},
   "source": [
    "<div class=\"texto\">\n",
    "    <table width=\"230\" cellspacing=\"1\" cellpadding=\"3\" border=\"0\" bgcolor=\"#1E679A\">\n",
    "        <tr>\n",
    "          <td bgcolor=\"F0FFF0\">\n",
    "           <font color=\"000000\">$b ; \\alpha= 60^{\\circ}$</font><b>Sección trapezoidal óptima</b>\n",
    "          </td>\n",
    "        </tr>\n",
    "     </table>\n",
    "   </div>\n"
   ]
  },
  {
   "cell_type": "markdown",
   "id": "bf9fd9c9",
   "metadata": {},
   "source": [
    "<h3>Sección triangular</h3>"
   ]
  },
  {
   "cell_type": "markdown",
   "id": "1496e6b0",
   "metadata": {},
   "source": [
    "<div><center><img src=\"./Imagenes/Seccion_en_V.png\" width=\"200\" height=\"100\"></center></div>"
   ]
  },
  {
   "cell_type": "markdown",
   "id": "e26fd3bf",
   "metadata": {},
   "source": [
    "<div class=\"texto\">\n",
    "    <table width=\"225\" cellspacing=\"1\" cellpadding=\"3\" border=\"0\" bgcolor=\"#1E679A\">\n",
    "        <tr>\n",
    "          <td bgcolor=\"FFDEAD\">\n",
    "           <font color=\"000000\">$b ; \\alpha= 90^{\\circ}$</font><b>Sección triangular óptima</b>\n",
    "          </td>\n",
    "        </tr>\n",
    "     </table>\n",
    "   </div>"
   ]
  },
  {
   "cell_type": "markdown",
   "id": "c354cd3a",
   "metadata": {},
   "source": [
    "<h3>Sección semicircular</h3>"
   ]
  },
  {
   "cell_type": "markdown",
   "id": "c39121a2",
   "metadata": {},
   "source": [
    "<div><center><img src=\"./Imagenes/Seccion_semicircular.png\" width=\"200\" height=\"200\"></center></div>"
   ]
  },
  {
   "cell_type": "markdown",
   "id": "fb0ee0d8",
   "metadata": {},
   "source": [
    " <div class=\"texto\">\n",
    "    <table width=\"220\" cellspacing=\"1\" cellpadding=\"3\" border=\"0\" bgcolor=\"#1E679A\">\n",
    "        <tr>\n",
    "          <td bgcolor=\"FFFF00\">\n",
    "           <font color=\"000000\">$b=h$ </font><b>Sección semicircular óptima</b>\n",
    "          </td>\n",
    "        </tr>\n",
    "     </table>\n",
    "   </div>"
   ]
  },
  {
   "cell_type": "markdown",
   "id": "4879c699",
   "metadata": {},
   "source": [
    "<p></p>"
   ]
  },
  {
   "cell_type": "markdown",
   "id": "f26ce178",
   "metadata": {},
   "source": [
    "<h3>EJERCICIOS: SECCIONES HIDRÁULICAMENTE ÓPTIMAS</h3>"
   ]
  },
  {
   "cell_type": "markdown",
   "id": "c879138e",
   "metadata": {},
   "source": [
    "<h3>Sección rectangular</h3>\n"
   ]
  },
  {
   "cell_type": "markdown",
   "id": "8f5e2d58",
   "metadata": {},
   "source": [
    "<div><center><img src=\"./Imagenes/Seccion_rectangular.png\" width=\"300\" height=\"300\" ></center></div>"
   ]
  },
  {
   "cell_type": "markdown",
   "id": "0483a32b",
   "metadata": {},
   "source": [
    "<div class=\"texto\"> \n",
    "   <p>Datos:</p>\n",
    "   <p>$Q=12 \\frac{m^{^3}}{s}$</p>\n",
    "   <p>$J=0,0005 (0,5 \\text { milesimas})$</p>\n",
    "   <p>$n=0,015$</p>  \n",
    "</div>\n",
    "<p></p>\n",
    "<div class=\"texto\"> \n",
    "   <p>Primeramente, se calcula el área y el perimetro de la figura:</p>\n",
    "</div>\n",
    "<div class=\"formulas\"> \n",
    "   $$\n",
    "    A = b \\cdot h\n",
    "   $$\n",
    "   $$\n",
    "    P = b + 2h\n",
    "   $$\n",
    "   $$\n",
    "   $$\n",
    "</div>\n",
    "<div class=\"texto\"> \n",
    "   <p>Como $b=2h$, se sustituye en las dos ecuaciones anteriores:</p>\n",
    "</div>\n",
    "<div class=\"formulas\"> \n",
    "   $$\n",
    "    A = 2h^{^2}\n",
    "   $$\n",
    "   $$\n",
    "    P = 4h\n",
    "   $$\n",
    "   $$\n",
    "   $$\n",
    "</div>\n",
    "<div class=\"texto\"> \n",
    "   <p>Ahora se calculará el radio hidráulico, es decir $R_{_h}=\\frac{A}{P}$ para que de esa manera se sustituya posteriormente \n",
    "       en la fórmula de Manning del caudal Q:</p>\n",
    "</div>\n",
    "<p></p>\n",
    "<div class=\"formulas\"> \n",
    "   $$\n",
    "    R_{_h}=\\frac{A}{P} = \\frac{h}{2}\n",
    "   $$\n",
    "   $$\n",
    "   $$\n",
    "</div>\n",
    "<div class=\"texto\"> \n",
    "   <p>Finalmente sustituimos los datos en la fórmula de Manning: $Q=\\frac{1}{n}AR_{_H}^{^{\\frac{2}{3}}}J^{^{\\frac{1}{2}}}$</p>\n",
    "</div>\n",
    "<p></p>\n",
    "<div class=\"formulas\"> \n",
    "   $$\n",
    "    12=\\frac{1}{0,015} \\cdot 2h^{^2} \\cdot \\left(\\frac{h}{2}\\right)^{^{\\frac{2}{3}}} \\cdot 0,0005^{^{\\frac{1}{2}}} \\to h=2m\n",
    "   $$\n",
    "   $$\n",
    "   $$\n",
    "</div>\n",
    "<div class=\"texto\"> \n",
    "   <p>Como $h=2m$, es posible calcular el valor de $b$ y por consiguiente, se obtendra el valor del área ($A$) y el del \n",
    "       perímetro ($P$):</p>\n",
    "</div>\n",
    "<p></p>\n",
    "<div class=\"formulas\"> \n",
    "   $$\n",
    "    b = 2h = 4m\n",
    "   $$\n",
    "   $$\n",
    "   $$\n",
    "   $$\n",
    "    A = 2h^{^2} = 8m^{^2}\n",
    "   $$\n",
    "   $$\n",
    "   $$\n",
    "   $$\n",
    "    P = 4h = 8m\n",
    "   $$\n",
    "</div>\n",
    "<p></p>\n",
    "<div class=\"texto\"> \n",
    "   <p>Al obtener tanto el caudal ($Q$) como el área ($A$) se puede hayar la velocidad por la que circulará el agua por la \n",
    "       sección:</p>\n",
    "</div>\n",
    "<p></p>\n",
    "<div class=\"formulas\"> \n",
    "   $$\n",
    "    Q = v \\cdot A \\to v = \\frac{Q}{A} = \\frac{12}{8}= 1,5\\frac{m}{s}\n",
    "   $$\n",
    "</div>    "
   ]
  },
  {
   "cell_type": "markdown",
   "id": "dbdb053a",
   "metadata": {},
   "source": [
    "<p></p>"
   ]
  },
  {
   "cell_type": "markdown",
   "id": "0d7f1ae4",
   "metadata": {},
   "source": [
    "<h3>Sección triangular</h3>"
   ]
  },
  {
   "cell_type": "markdown",
   "id": "31422f1c",
   "metadata": {},
   "source": [
    "<div><center><img src=\"./Imagenes/Seccion_en_V.png\" width=\"200\" height=\"100\"></center></div>"
   ]
  },
  {
   "cell_type": "markdown",
   "id": "f9e0ea83",
   "metadata": {},
   "source": [
    "<div class=\"texto\"> \n",
    "   <p>Datos:</p>\n",
    "   <p>$Q=12 \\frac{m^{^3}}{s}$</p>\n",
    "   <p>$J=0,0005 (0,5 \\text { milesimas})$</p>\n",
    "   <p>$n=0,015$</p>  \n",
    "</div>\n",
    "<p></p>\n",
    "<div><center><img src=\"./Imagenes/Seccion_en_V_2.png\" width=\"100\" height=\"100\"></center></div>\n",
    "<p></p>\n",
    "<div class=\"formulas\"> \n",
    "   $$\n",
    "    \\cos45^{\\circ} = \\frac {x}{b}\n",
    "   $$\n",
    "   $$\n",
    "    x = b \\cdot \\cos45^{\\circ} = b \\cdot \\frac{\\sqrt2}{2}\n",
    "   $$\n",
    "   $$\n",
    "   $$\n",
    "</div>\n",
    "<div class=\"texto\"> \n",
    "   <p>Primeramente, se calcula el área ($A$) y el perimetro ($P$) de la figura:</p>\n",
    "</div>\n",
    "<div class=\"formulas\"> \n",
    "   $$\n",
    "    A = \\frac{2x \\cdot x}{2} = x^{2} = \\left(b \\cdot \\frac{\\sqrt2}{2}\\right)^{2} = \\frac {b^{^2}}{2}\n",
    "   $$\n",
    "   $$\n",
    "   $$\n",
    "   $$\n",
    "    P = 2b\n",
    "   $$\n",
    "   $$\n",
    "   $$\n",
    "</div>\n",
    "<div class=\"texto\"> \n",
    "   <p>Ahora se calculará el radio hidráulico, es decir $R_{_h}=\\frac{A}{P}$ para que de esa manera se sustituya posteriormente \n",
    "       en la fórmula de Manning del caudal Q:</p>\n",
    "</div>\n",
    "<p></p>\n",
    "<div class=\"formulas\"> \n",
    "   $$\n",
    "    R_{_h}=\\frac{A}{P} = \\frac{b}{4}\n",
    "   $$\n",
    "   $$\n",
    "   $$\n",
    "</div>\n",
    "<div class=\"texto\"> \n",
    "   <p>Finalmente sustituimos los datos en la fórmula de Manning: $Q=\\frac{1}{n}AR_{_H}^{^{\\frac{2}{3}}}J^{^{\\frac{1}{2}}}$</p>\n",
    "</div>\n",
    "<p></p>\n",
    "<div class=\"formulas\"> \n",
    "   $$\n",
    "    12=\\frac{1}{0,015} \\cdot \\frac {b^{^2}}{2} \\cdot \\left(\\frac{b}{4}\\right)^{^{\\frac{2}{3}}} \\cdot 0,0005^{^{\\frac{1}{2}}} \\to b=4m\n",
    "   $$\n",
    "   $$\n",
    "   $$\n",
    "</div>\n",
    "<div class=\"texto\"> \n",
    "   <p>Como $b=4m$, es posible calcular el valor del área ($A$) y el del perímetro ($P$):</p>\n",
    "</div>\n",
    "<p></p>\n",
    "<div class=\"formulas\"> \n",
    "   $$\n",
    "    A = \\frac {b^{^2}}{2} = 8m^{^2}\n",
    "   $$\n",
    "   $$\n",
    "   $$\n",
    "   $$\n",
    "    P = 2b = 8m\n",
    "   $$\n",
    "</div>\n",
    "<p></p>\n",
    "<div class=\"texto\"> \n",
    "   <p>Al obtener tanto el caudal ($Q$) como el área ($A$) se puede hayar la velocidad por la que circulará el agua por la \n",
    "       sección:</p>\n",
    "</div>\n",
    "<p></p>\n",
    "<div class=\"formulas\"> \n",
    "   $$\n",
    "    Q = v \\cdot A \\to v = \\frac{Q}{A} = \\frac{12}{8}= 1,5\\frac{m}{s}\n",
    "   $$\n",
    "</div> "
   ]
  },
  {
   "cell_type": "markdown",
   "id": "dbf1567a",
   "metadata": {},
   "source": [
    "<h3>Sección trapezoidal</h3>"
   ]
  },
  {
   "cell_type": "markdown",
   "id": "f17d8a6a",
   "metadata": {},
   "source": [
    "<div><img src=\"./Imagenes/Seccion_trapezoidal.png\" width=\"200\" height=\"200\" align=\"center\"></div>"
   ]
  },
  {
   "cell_type": "markdown",
   "id": "b6b2be59",
   "metadata": {},
   "source": [
    "<div class=\"texto\"> \n",
    "   <p>Datos:</p>\n",
    "   <p>$Q=12 \\frac{m^{^3}}{s}$</p>\n",
    "   <p>$J=0,0005 (0,5 \\text { milesimas})$</p>\n",
    "   <p>$n=0,015$</p>  \n",
    "</div>\n",
    "<p></p>\n",
    "<div><center><img src=\"./Imagenes/Seccion_trapezoidal_2.png\" width=\"100\" height=\"100\"></center></div>\n",
    "<p></p>\n",
    "<div class=\"formulas\"> \n",
    "   $$\n",
    "    x = b \\cdot \\cos60^{\\circ}\n",
    "   $$\n",
    "   $$\n",
    "    y = b \\cdot \\sin60^{\\circ}\n",
    "   $$\n",
    "   $$\n",
    "   $$\n",
    "</div>\n",
    "<div class=\"texto\"> \n",
    "   <p>Primeramente, se calcula el área ($A$) y el perimetro ($P$) de la figura:</p>\n",
    "</div>\n",
    "<p></p>\n",
    "<div class=\"formulas\"> \n",
    "   $$\n",
    "    A = \\frac{b + (b + 2x)}{2}  \\cdot y = \\frac{2b + 2(b \\cdot \\cos60^{\\circ})}{2}  \\cdot b \\cdot \\sin60^{\\circ} = 1,3 \\cdot\n",
    "    b^{^2}\n",
    "   $$\n",
    "   $$\n",
    "   $$\n",
    "   $$\n",
    "    P = 3b\n",
    "   $$\n",
    "   $$\n",
    "   $$\n",
    "</div>\n",
    "<div class=\"texto\"> \n",
    "   <p>Ahora se calculará el radio hidráulico, es decir $R_{_h}=\\frac{A}{P}$ para que de esa manera se sustituya posteriormente \n",
    "       en la fórmula de Manning del caudal Q:</p>\n",
    "</div>\n",
    "<p></p>\n",
    "<div class=\"formulas\"> \n",
    "   $$\n",
    "    R_{_h}=\\frac{A}{P} = 0,43 \\cdot b\n",
    "   $$\n",
    "   $$\n",
    "   $$\n",
    "</div>\n",
    "<div class=\"texto\"> \n",
    "   <p>Finalmente sustituimos los datos en la fórmula de Manning: $Q=\\frac{1}{n}AR_{_H}^{^{\\frac{2}{3}}}J^{^{\\frac{1}{2}}}$</p>\n",
    "</div>\n",
    "<p></p>\n",
    "<div class=\"formulas\"> \n",
    "   $$\n",
    "    12=\\frac{1}{0,015} \\cdot (1,3 \\cdot b^{^2}) \\cdot (0,43 \\cdot b)^{^{\\frac{2}{3}}} \\cdot 0,0005^{^{\\frac{1}{2}}}\\to b=2,44m\n",
    "   $$\n",
    "   $$\n",
    "   $$\n",
    "</div>\n",
    "<div class=\"texto\"> \n",
    "   <p>Como $b=2,44m$, es posible calcular el valor del área ($A$) y el del perímetro ($P$):</p>\n",
    "</div>\n",
    "<p></p>\n",
    "<div class=\"formulas\"> \n",
    "   $$\n",
    "    A = 1,3 \\cdot b^{^2} = 7,75m^{^2}\n",
    "   $$\n",
    "   $$\n",
    "   $$\n",
    "   $$\n",
    "    P = 0,43 \\cdot b = 7,32m\n",
    "   $$\n",
    "</div>\n",
    "<p></p>\n",
    "<div class=\"texto\"> \n",
    "   <p>Al obtener tanto el caudal ($Q$) como el área ($A$) se puede hayar la velocidad por la que circulará el agua por la \n",
    "       sección:</p>\n",
    "</div>\n",
    "<p></p>\n",
    "<div class=\"formulas\"> \n",
    "   $$\n",
    "    Q = v \\cdot A \\to v = \\frac{Q}{A} = \\frac{12}{7,75}= 1,55\\frac{m}{s}\n",
    "   $$\n",
    "</div> "
   ]
  },
  {
   "cell_type": "markdown",
   "id": "c77a7c53",
   "metadata": {},
   "source": [
    "<h3>Sección semicircular</h3>"
   ]
  },
  {
   "cell_type": "markdown",
   "id": "7c45b278",
   "metadata": {},
   "source": [
    "<div><center><img src=\"./Imagenes/Seccion_semicircular.png\" width=\"200\" height=\"200\"></center></div>"
   ]
  },
  {
   "cell_type": "markdown",
   "id": "69cb7aea",
   "metadata": {},
   "source": [
    "<div class=\"texto\"> \n",
    "   <p>Datos:</p>\n",
    "   <p>$Q=12 \\frac{m^{^3}}{s}$</p>\n",
    "   <p>$J=0,0005 (0,5 \\text { milesimas})$</p>\n",
    "   <p>$n=0,015$</p>  \n",
    "</div>\n",
    "<p></p>\n",
    "<div class=\"texto\"> \n",
    "   <p>Primeramente, se calcula el área ($A$) y el perimetro ($P$) de la figura:</p>\n",
    "</div>\n",
    "<p></p>\n",
    "<div class=\"formulas\"> \n",
    "   $$\n",
    "    A = \\frac{\\pi \\cdot R^{2}}{2}  \n",
    "   $$\n",
    "   $$\n",
    "   $$\n",
    "   $$\n",
    "    P = \\pi \\cdot R\n",
    "   $$\n",
    "   $$\n",
    "   $$\n",
    "</div>\n",
    "<div class=\"texto\"> \n",
    "   <p>Ahora se calculará el radio hidráulico, es decir $R_{_h}=\\frac{A}{P}$ para que de esa manera se sustituya posteriormente \n",
    "       en la fórmula de Manning del caudal Q:</p>\n",
    "</div>\n",
    "<p></p>\n",
    "<div class=\"formulas\"> \n",
    "   $$\n",
    "    R_{_h}=\\frac{A}{P} = \\frac{R}{2}\n",
    "   $$\n",
    "   $$\n",
    "   $$\n",
    "</div>\n",
    "<div class=\"texto\"> \n",
    "   <p>Finalmente sustituimos los datos en la fórmula de Manning: $Q=\\frac{1}{n}AR_{_H}^{^{\\frac{2}{3}}}J^{^{\\frac{1}{2}}}$</p>\n",
    "</div>\n",
    "<p></p>\n",
    "<div class=\"formulas\"> \n",
    "   $$\n",
    "    12=\\frac{1}{0,015} \\cdot (\\frac{\\pi \\cdot R^{2}}{2}) \\cdot (\\pi \\cdot R)^{^{\\frac{2}{3}}} \\cdot 0,0005^{^{\\frac{1}{2}}}\\to b=2,19 \\text{ m}\n",
    "   $$\n",
    "   $$\n",
    "   $$\n",
    "</div>\n",
    "<div class=\"texto\"> \n",
    "   <p>Como $R=2,19m$, es posible calcular el valor del área ($A$) y el del perímetro ($P$):</p>\n",
    "</div>\n",
    "<p></p>\n",
    "<div class=\"formulas\"> \n",
    "   $$\n",
    "    A = \\frac{\\pi \\cdot R^{2}}{2} = 7,57 m^2\n",
    "   $$\n",
    "   $$\n",
    "   $$\n",
    "   $$\n",
    "    P = \\pi \\cdot R = 6,89 \\text{ m}\n",
    "   $$\n",
    "</div>\n",
    "<p></p>\n",
    "<div class=\"texto\"> \n",
    "   <p>Al obtener tanto el caudal ($Q$) como el área ($A$) se puede hayar la velocidad por la que circulará el agua por la \n",
    "       sección:</p>\n",
    "</div>\n",
    "<p></p>\n",
    "<div class=\"formulas\"> \n",
    "   $$\n",
    "    Q = v \\cdot A \\to v = \\frac{Q}{A} = \\frac{12}{7,57}= 1,58\\frac{m}{s}\n",
    "   $$\n",
    "</div> "
   ]
  },
  {
   "cell_type": "markdown",
   "id": "afc59b39",
   "metadata": {},
   "source": [
    "<p></p>"
   ]
  },
  {
   "cell_type": "markdown",
   "id": "3c042c4b",
   "metadata": {},
   "source": [
    "<div id=\"SeccionHidraulicamenteOptima\"><h3>Comparación entre familias o secciones diferentes:</h3></div>"
   ]
  },
  {
   "cell_type": "markdown",
   "id": "7097e609",
   "metadata": {},
   "source": [
    "<table class=\"default\">\n",
    "  <tr>\n",
    "    <th scope=\"row\"></th>\n",
    "    <th>A($m^{2}$)</th>\n",
    "    <th>P($m$)</th>\n",
    "    <th>$R_{_h}$($m^{2}$)</th>\n",
    "    <th>v($\\frac{m}{s}$)</th>\n",
    "  </tr>\n",
    "  <tr>\n",
    "    <th>Rectasngular</th>\n",
    "    <td>8</td>\n",
    "    <td>8</td>\n",
    "    <td>1</td>\n",
    "    <td>1,5</td>\n",
    "  </tr>\n",
    "  <tr>\n",
    "    <th>Triangular</th>\n",
    "    <td>8</td>\n",
    "    <td>8</td>\n",
    "    <td>1</td>\n",
    "    <td>1,5</td>\n",
    "  </tr>\n",
    "  <tr>\n",
    "    <th>Trapezoidal</th>\n",
    "    <td>7,75</td>\n",
    "    <td>7,32</td>\n",
    "    <td>1,06</td>\n",
    "    <td>1,55</td>  \n",
    "  </tr>\n",
    "  <tr>\n",
    "    <th>Semicircular</th>\n",
    "    <td><strong>7,57</strong></td>\n",
    "    <td><strong>6,89</strong></td>\n",
    "    <td><strong>1,1</strong></td>\n",
    "    <td><strong>1,58</strong></td>  \n",
    "  </tr>\n",
    "</table>"
   ]
  },
  {
   "cell_type": "markdown",
   "id": "dd560ff8",
   "metadata": {},
   "source": [
    "<div class=\"texto\">\n",
    "    <p>$P_{{min}}$ $\\to$ <strong>sección semicircular</strong> $\\to$ <strong>sección hidráulicamente óptima</strong> entre \n",
    "        otras geometrías.</p>\n",
    "</div>    "
   ]
  },
  {
   "cell_type": "markdown",
   "id": "5ec4d9e5",
   "metadata": {},
   "source": [
    "<div class=\"texto\">\n",
    "    <p>Si $P_{{min}}$:</p>\n",
    "</div>   \n",
    "<p></p>\n",
    "<div class=\"formulas\"> \n",
    "    $$\n",
    "     A=k'P^{^{\\frac{2}{5}}} \\to A_{min}\n",
    "    $$\n",
    "    $$\n",
    "    $$\n",
    "    $$\n",
    "     Q = v \\cdot A \\to v_{max}\n",
    "    $$\n",
    "    $$\n",
    "    $$\n",
    "    $$\n",
    "     V= \\frac{1}{n}R_{h}^{^{\\frac{2}{3}}}J^{^{\\frac{1}{2}}} \\to R_{h max}\n",
    "    $$\n",
    "</div>"
   ]
  },
  {
   "cell_type": "markdown",
   "id": "7bb5aca9",
   "metadata": {},
   "source": [
    "<p></p>"
   ]
  },
  {
   "cell_type": "markdown",
   "id": "6b18828c",
   "metadata": {},
   "source": [
    "<div id=\"Circular\"><h2>6.-CÁLCULO PRÁCTICO DE CANALES DE SECCIÓN CIRCULAR </h2></div>"
   ]
  },
  {
   "cell_type": "markdown",
   "id": "8afb5b7b",
   "metadata": {},
   "source": [
    "<div class=\"texto\">\n",
    "  <p>El cálculo de canales de sección circular, como es el caso de acequias, canalones o simplemente tuberías funcionando con \n",
    "      sección parcialmente llena, resulta extraordinariamente engorroso, requiriendo mucho tiempo para su resolución.</p>\n",
    "  <p>Por esta razón, para resolver este tipo de problemas se acude a ábacos, cuadros, tablas o programas de ordenador que    \n",
    "       faciliten su resolución.</p>\n",
    "  <p>El primer problema que se presenta es el cálculo de la velocidad y el calado, o altura de la lámina de agua, con que\n",
    "        circula un líquido por una tubería de diámetro, pendiente y rugosidad conocidos.</p>\n",
    "    <p><strong>La fórmula a emplear es la de Manning.</strong></p>\n",
    "  <p>En una tubería parcialmente llena, la sección y el perímetro mojado, y por lo tanto el caudal, tienen unas expresiones muy \n",
    "      engorrosas, tomando los siguientes valores, en función del diámetro $D$ y del calado $h$ </p>\n",
    "</div>    "
   ]
  },
  {
   "cell_type": "markdown",
   "id": "1f66c0c7",
   "metadata": {},
   "source": [
    "<div><center><img src=\"./Imagenes/Seccion_circular.png\" width=\"400\" height=\"400\"></center></div>"
   ]
  },
  {
   "cell_type": "markdown",
   "id": "e79dce2f",
   "metadata": {},
   "source": [
    "<p></p>\n",
    "<div class=\"formulas\"> \n",
    "   $$\n",
    "    A = \\frac{\\alpha \\cdot D^{^2}}{8} - \\left(\\frac{D}{2}-h \\right) \\sqrt{h \\cdot (D-h)}\n",
    "   $$\n",
    "   $$\n",
    "   $$\n",
    "   $$\n",
    "    P = \\frac{\\alpha}{2} \\cdot D\n",
    "   $$\n",
    "   $$\n",
    "   $$\n",
    "</div>\n",
    "<p></p>\n",
    "<div class=\"texto\"> \n",
    "   <p>Siendo $\\alpha$ el ángulo subtendido por la lámina de agua</p>\n",
    "</div>\n",
    "<p></p>\n",
    "<div class=\"formulas\"> \n",
    "   $$\n",
    "    \\frac{\\alpha}{2} = \\arccos \\frac{\\frac{D}{2} - h}{\\frac{D}{2}} \n",
    "   $$\n",
    "</div>\n",
    "<p></p>\n",
    "<div class=\"texto\"> \n",
    "    <p>Sustituyendo en la <b>fórmula de Manning</b> $A$ y $R_{h}$, se tiene la siguiente macro expresión. Se recuerda que \n",
    "        $R_{h}$ es el <b>radio hidráulico</b>: área partida por el perímetro mojado.</p>\n",
    "</div>\n",
    "<p></p>\n",
    "<div class=\"formulas\"> \n",
    "   $$\n",
    "    Q = \\frac{1}{n} \\left(\\frac{D^{^2}}{4} \\cdot \\arccos \\frac{\\frac{D}{2} - h}{\\frac{D}{2}} - \\left (\\frac{D}{2}-h \\right) \n",
    "    \\cdot \\sqrt{h \\cdot (D-h)} \\right)^{\\frac{5}{3}} \\cdot \\left(\\frac{1}{D^{\\frac{2}{3}} \\cdot \n",
    "    \\arccos \\left(\\frac{\\frac{D}{2} - h}{\\frac{D}{2}} \\right)^{\\frac{2}{3}} }  \\right) \\cdot J^{\\frac{1}{2}}\n",
    "   $$\n",
    "</div>\n",
    "<p></p>\n",
    "<div class=\"texto\"> \n",
    "    <p>El problema es extraordinariamente laborioso, dada la complejidad de las fórmulas, por lo que es imprescindible acudir a\n",
    "        ábacos, cuadros o software que resuelvan más rápida y fácilmente el problema.</p>\n",
    "    <p>A continuación, se resolverán unos ejercicios que servirán de aprendizaje como método práctico de cálculo, al mismo\n",
    "        tiempo que rápido y preciso.</p>\n",
    "    <p>Para ello se utilizrán las tablas <b>27</b> y <b>28</b>:</p>\n",
    "</div>\n",
    "<p></p>"
   ]
  },
  {
   "cell_type": "markdown",
   "id": "878c99b2",
   "metadata": {},
   "source": [
    "<div><center><img src=\"./Imagenes/Abaco_27.png\" width=\"600\" height=\"400\"></center></div>"
   ]
  },
  {
   "cell_type": "markdown",
   "id": "543ce10a",
   "metadata": {},
   "source": [
    "<div><center><img src=\"./Imagenes/Abaco_28.png\" width=\"600\" height=\"400\"></center></div>"
   ]
  },
  {
   "cell_type": "markdown",
   "id": "94b1c8e5",
   "metadata": {},
   "source": [
    "<p></p>"
   ]
  },
  {
   "cell_type": "markdown",
   "id": "cf39eca9",
   "metadata": {},
   "source": [
    "<h3>EJEMPLOS PRÁCTICOS</h3>"
   ]
  },
  {
   "cell_type": "markdown",
   "id": "f75b4233",
   "metadata": {},
   "source": [
    "<div class=\"texto\"> \n",
    "   <p>Se presentan a continuación varios tipos de problemas resueltos por el método práctico que acaba de explicarse. En todos \n",
    "       ellos el material del canal será hormigón en bruto  $n=0,015$.</p>\n",
    "</div>\n",
    "<p></p>\n",
    "\n"
   ]
  },
  {
   "cell_type": "markdown",
   "id": "46f4d21a",
   "metadata": {},
   "source": [
    "<h5>Tipo 1<h/5>"
   ]
  },
  {
   "cell_type": "markdown",
   "id": "183e055a",
   "metadata": {},
   "source": [
    "<div class=\"texto\"> \n",
    "   <p>Se tiene una tubería de $30 cm$ de diámetro interior, con una pendiente de $5 \\text{ milésimas}$, por la que circula un \n",
    "       caudal de $40 \\,l/s$. Se desea conocer la velocidad del flujo y el calado.</p>\n",
    "</div>\n",
    "<p></p>\n",
    "<div class=\"texto\"> \n",
    "    <p><i>Resolución:</i></p>\n",
    "</div>\n",
    "<p></p>\n",
    "<div class=\"texto\"> \n",
    "   <p>Se empieza por calcular el caudal a sección llena que conduce la tubería. Sustituyendo en la ecuación de Manning se \n",
    "       tiene:</p>\n",
    "</div>\n",
    "<p></p>\n",
    "<div class=\"formulas\"> \n",
    "   $$\n",
    "    Q_{ll} = 59,26 \\frac {l}{s}\n",
    "   $$\n",
    "</div>\n",
    "<p></p>\n",
    "<div class=\"texto\"> \n",
    "   <p>La relación entre el caudal de cálculo y el de sección llena vale:</p>\n",
    "</div>\n",
    "<p></p>\n",
    "<div class=\"formulas\"> \n",
    "   $$\n",
    "    \\frac {Q_{c}}{Q_{ll}} =  \\frac {40}{59,26} = 0,67\n",
    "   $$\n",
    "</div>\n",
    "<p></p>\n",
    "<div class=\"texto\"> \n",
    "   <p>Del cuadro nº 27 se obtiene:</p>\n",
    "</div>\n",
    "<p></p>\n",
    "<div class=\"formulas\"> \n",
    "   $$\n",
    "    \\frac {V_{c}}{V_{ll}} =  1,072\n",
    "   $$\n",
    "   $$\n",
    "   $$\n",
    "   $$\n",
    "    \\frac {h_{c}}{h_{ll}} = \\frac {h_{c}}{D} = 0,599\n",
    "   $$\n",
    "</div>\n",
    "<p></p>\n",
    "<div class=\"texto\"> \n",
    "   <p>Con lo cual se obtiene:</p>\n",
    "</div>\n",
    "<p></p>\n",
    "<div class=\"formulas\"> \n",
    "   $$\n",
    "    V_{c} = 0,84 \\cdot 1,072 = 0,9 \\frac {m}{s}\n",
    "   $$\n",
    "   $$\n",
    "   $$\n",
    "   $$\n",
    "    h_{c} = 0,599 \\cdot 30 = 17,97 cm\n",
    "   $$\n",
    "</div>\n",
    "<p></p>"
   ]
  },
  {
   "cell_type": "markdown",
   "id": "68157deb",
   "metadata": {},
   "source": [
    "<h5>Tipo 2<h/5>"
   ]
  },
  {
   "cell_type": "markdown",
   "id": "9f7f5fd5",
   "metadata": {},
   "source": [
    "<div class=\"texto\"> \n",
    "   <p>Se ha de conducir un caudal de $200 \\, l/s$ con una pendiente de $6 \\text{ milésimas}$. Se desea saber el diámetro de la \n",
    "       tubería a utilizar, así como la velocidad de cálculo y el calado.\n",
    "   </p>\n",
    "</div>\n",
    "<p></p>\n",
    "<div class=\"texto\"> \n",
    "    <p><i>Resolución:</i></p>\n",
    "</div>\n",
    "<p></p>\n",
    "<div class=\"texto\"> \n",
    "   <p>Se empieza por calcular el diámetro de la tubería que a sección llena conduce el caudal de cálculo, es decir, se supone\n",
    "       que $Q_{c}=Q_{ll}$. Sustituyendo en la ecuación de Manning se tiene:</p>\n",
    "</div>\n",
    "<p></p>\n",
    "<div class=\"formulas\"> \n",
    "   $$\n",
    "    Q_{ll} = \\frac{1}{0,015} \\cdot \\frac{\\pi \\cdot D^{2}}{4} \\cdot \\left(\\frac{D}{4}\\right)^{^{\\frac{2}{3}}} \\cdot   \n",
    "     J^{^{\\frac{1}{2}}} = 20,78D^{\\frac{8}{3}} \\cdot 0,006^{\\frac{1}{2}}\n",
    "   $$\n",
    "   $$\n",
    "   $$\n",
    "   $$\n",
    "    D = 45,75 cm\n",
    "   $$\n",
    "</div>\n",
    "<p></p>\n",
    "<div class=\"texto\"> \n",
    "   <p>Si se tienen a disposición diámetros comerciales cada $5 cm$, se deduce que no existe comercialmente la tubería que tiene\n",
    "       el caudal a sección llena calculado. Debido a que el valor estimado se encuentra entre las tuberías de $45$ y $50 cm$,\n",
    "       se adopta, en principio, esta última. Por lo tanto, se trabaja con $D=50 cm$ .</p>\n",
    "</div>\n",
    "<p></p>\n",
    "<div class=\"formulas\"> \n",
    "   $$\n",
    "    {Q_{ll}} =  253,49 \\frac{l}{s} \n",
    "   $$\n",
    "</div>\n",
    "<p></p>\n",
    "<div class=\"texto\"> \n",
    "   <p>Del cuadro nº 28 se obtiene:</p>\n",
    "</div>\n",
    "<p></p>\n",
    "<div class=\"formulas\"> \n",
    "   $$\n",
    "    \\frac {Q_{c}}{Q_{ll}} =  0,79 \\to \\frac {V_{c}}{V_{ll}} =  1,108 y \\frac {h_{c}}{D} = 0,67\n",
    "   $$\n",
    "</div>\n",
    "<p></p>\n",
    "<div class=\"texto\"> \n",
    "   <p>Con lo cual se obtiene:</p>\n",
    "</div>\n",
    "<p></p>\n",
    "<div class=\"formulas\"> \n",
    "   $$\n",
    "    V_{c} = 1,108 \\cdot 1,29 = 1,43 \\frac {m}{s}\n",
    "   $$\n",
    "   $$\n",
    "   $$\n",
    "   $$\n",
    "    h_{c} = 0,67 \\cdot 50 = 33,5 cm\n",
    "   $$\n",
    "</div>\n",
    "<p></p>"
   ]
  },
  {
   "cell_type": "markdown",
   "id": "5dfd0e9b",
   "metadata": {},
   "source": [
    "<h5>Tipo 3<h/5>"
   ]
  },
  {
   "cell_type": "markdown",
   "id": "0ae1caa0",
   "metadata": {},
   "source": [
    "<div class=\"texto\"> \n",
    "   <p>Se tiene una tubería de $50 cm$ de diámetro que ha de transportar un caudal de $360 \\, l/s$. Se desea conocer que \n",
    "       pendiente deberá tener la tubería, así como la velocidad de cálculo y el calado correspondientes.\n",
    "   </p>\n",
    "</div>\n",
    "<p></p>\n",
    "<div class=\"texto\"> \n",
    "    <p><i>Resolución:</i></p>\n",
    "</div>\n",
    "<p></p>\n",
    "<div class=\"texto\"> \n",
    "   <p>Al igual que en los ejercicios del <i>tipo 2</i>, se supone, en principio, que el caudal a sección llena es igual al de\n",
    "       cálculo; con ello se calcula la pendiente:</p>\n",
    "</div>\n",
    "<p></p>\n",
    "<div class=\"formulas\"> \n",
    "   $$\n",
    "    0,36 = \\frac{1}{0,015} \\cdot \\frac{\\pi \\cdot 0,5^{2}}{4} \\cdot \\left(\\frac{0,5}{4}\\right)^{^{\\frac{2}{3}}} \\cdot   \n",
    "     J^{^{\\frac{1}{2}}} \n",
    "   $$\n",
    "   $$\n",
    "   $$\n",
    "   $$\n",
    "    J = 0,0121 \\to J= 13\\text{ milésimas}\n",
    "   $$\n",
    "</div>\n",
    "<p></p>\n",
    "<div class=\"texto\"> \n",
    "   <p>Esta será la pendiente con que circularían los $360 \\,l/s$ en la tubería de $50 cm$ a sección llena. Si la pendiente se \n",
    "       hiciese mayor el caudal a sección llena de la tubería aumentaría, la relación entre el $Q_{c} (360\\,l/s)$ y $Q_{ll}$\n",
    "       disminuiría, y lo mismo sucedería con el calado. La velocidad de cálculo podría ser mayor o menor. El problema \n",
    "       resultante correspondería al del <i>tipo 1</i>.</p>\n",
    "   <p>Si la pendiente se hiciese algo menor, el caudal a sección llena disminuiría, incrementándose la relación \n",
    "       $\\frac{Q_{c}}{Q_{ll}}$, con lo que podría en determinados casos, disminuir el calado. Es preciso estudiar cada caso en  \n",
    "       particular para cerciorarse de lo que ocurre, dado el estrecho entorno de calado en que ocurre este fenómeno.</p> \n",
    "   <p>De todas formas, como ya se ha indicado, no es aconsejable que las tuberías funcionen como canal con calados demasiado\n",
    "       altos, pues puede llegar a producirse oscilaciones de la capacidad hidráulica de la tubería, siendo conveniente \n",
    "       proyectarlas con una cierta berma de seguridad.</p>\n",
    "</div>\n",
    "<p></p>"
   ]
  },
  {
   "cell_type": "markdown",
   "id": "53bbcf8d",
   "metadata": {},
   "source": [
    "<h5>Tipo 4<h/5>"
   ]
  },
  {
   "cell_type": "markdown",
   "id": "fe1f6b09",
   "metadata": {},
   "source": [
    "<div class=\"texto\"> \n",
    "   <p>Otro tipo de problemas es aquél en el que las tuberías no puedan sobrepasar un determinado calado, como por ejemplo el \n",
    "       caso de canalones o acequias.</p>\n",
    "</div>\n",
    "<div class=\"texto\"> \n",
    "   <p>Este caso se puede resolver partiendo de la relación entre el calado y el diámetro. A continuación se expone un ejemplo.\n",
    "      Se quiere calcular una acequia semicircular que transporte un caudal de $600 \\frac{l}{s}$, con una pendiente de \n",
    "      $9 \\text{ milésimas}$, deseando tenga una berma mínima del $10$% del diámetro.</p>\n",
    "</div>\n",
    "<p></p>\n",
    "<div class=\"texto\"> \n",
    "    <p><i>Resolución:</i></p>\n",
    "</div>\n",
    "<p></p>\n",
    "<div class=\"formulas\"> \n",
    "   $$\n",
    "    \\frac{h_{c}}{D} = \\frac {{0,5D} - {0,1D}}{D} = 0,4 \\to Tabla\\,28\n",
    "   $$\n",
    "   $$\n",
    "   $$\n",
    "   $$\n",
    "    \\to \\frac {Q_{c}}{Q_{ll}} = 0,34 \\to Q_{ll} = \\frac {600}{0,34} = 1.764,7 \\frac {l}{s}\n",
    "   $$\n",
    "   $$\n",
    "   $$\n",
    "   $$\n",
    "    \\to D = 95,93 cm \\to D = 100 cm\n",
    "   $$\n",
    "</div>\n",
    "<p></p>\n",
    "<div class=\"texto\"> \n",
    "   <p>Valor correspondiente a una tubería no comercial, comprendida entre $90$ y $100 cm$ de diámetro. Se adopta la de diámetro \n",
    "       superior.</p>\n",
    "</div>\n",
    "<p></p>\n",
    "<div class=\"formulas\"> \n",
    "   $$\n",
    "    {Q_{ll}} =  1.971,3 \\frac{l}{s} \n",
    "   $$\n",
    "</div>\n",
    "<p></p>\n",
    "<div class=\"texto\"> \n",
    "   <p>Del cuadro nº 28 se obtiene:</p>\n",
    "</div>\n",
    "<p></p>\n",
    "<div class=\"formulas\"> \n",
    "   $$\n",
    "    \\frac {Q_{c}}{Q_{ll}} = \\frac {600}{1.971,3} = 0,3 \\to \\frac {V_{c}}{V_{ll}} =  0,875 y \\frac {h_{c}}{D} = 0,376\n",
    "   $$\n",
    "</div>\n",
    "<p></p>\n",
    "<div class=\"texto\"> \n",
    "   <p>Con lo cual se obtiene:</p>\n",
    "</div>\n",
    "<p></p>\n",
    "<div class=\"formulas\"> \n",
    "   $$\n",
    "    V_{c} = 2,2 \\frac {m}{s}\n",
    "   $$\n",
    "   $$\n",
    "   $$\n",
    "   $$\n",
    "    h_{c} = 37,6 cm\n",
    "   $$\n",
    "</div>\n",
    "<p></p>"
   ]
  }
 ],
 "metadata": {
  "kernelspec": {
   "display_name": "Python 3 (ipykernel)",
   "language": "python",
   "name": "python3"
  },
  "language_info": {
   "codemirror_mode": {
    "name": "ipython",
    "version": 3
   },
   "file_extension": ".py",
   "mimetype": "text/x-python",
   "name": "python",
   "nbconvert_exporter": "python",
   "pygments_lexer": "ipython3",
   "version": "3.9.7"
  }
 },
 "nbformat": 4,
 "nbformat_minor": 5
}
