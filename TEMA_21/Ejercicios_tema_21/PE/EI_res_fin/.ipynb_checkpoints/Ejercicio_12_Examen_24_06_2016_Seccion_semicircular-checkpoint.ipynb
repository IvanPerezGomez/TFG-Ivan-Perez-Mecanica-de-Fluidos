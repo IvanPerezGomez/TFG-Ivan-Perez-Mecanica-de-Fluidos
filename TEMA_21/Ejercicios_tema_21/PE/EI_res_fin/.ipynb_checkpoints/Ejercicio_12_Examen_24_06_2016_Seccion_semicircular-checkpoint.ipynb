{
 "cells": [
  {
   "cell_type": "markdown",
   "id": "6fc0e7e7",
   "metadata": {},
   "source": [
    "<div style=\"background-color:#EAEAE9;padding:10px 40px;text-align:center; vertical-align: middle;font-family:didot;\" id=\"enunciado\">  \n",
    " <p style=\"font-size: 15px;text-align: justify;\">Mediante un canal semicircular de madera cepillada, cuya\n",
    "pendiente es $5$ milésimas, se desea suministrar un caudal de $6 \\frac{m^3}{s}$ de agua al foso\n",
    "que rodea un castillo. Calcular el diámetro exacto del canal para que el calado sea\n",
    "como máximo el $70$% del radio.</p>\n",
    "    <br>\n",
    "    <div><center><img src=\"Imagenes/Ejercicio12_examen.png\" width=\"600\" height=\"600\" ></center></div>\n",
    "</div>"
   ]
  },
  {
   "cell_type": "code",
   "execution_count": 1,
   "id": "6d187a86",
   "metadata": {},
   "outputs": [
    {
     "data": {
      "text/html": [
       "\n",
       "<script>\n",
       "code_show=true; \n",
       "function code_toggle() {\n",
       " if (code_show){\n",
       " $('div.input').hide();\n",
       " } else {\n",
       " $('div.input').show();\n",
       " }\n",
       " code_show = !code_show\n",
       "} \n",
       "$( document ).ready(code_toggle);\n",
       "</script>\n",
       "<a href=\"javascript:code_toggle()\">Mostrar/ocultar celdas de código</a>."
      ],
      "text/plain": [
       "<IPython.core.display.HTML object>"
      ]
     },
     "execution_count": 1,
     "metadata": {},
     "output_type": "execute_result"
    }
   ],
   "source": [
    "from IPython.display import HTML\n",
    "HTML('''\n",
    "<script>\n",
    "code_show=true; \n",
    "function code_toggle() {\n",
    " if (code_show){\n",
    " $('div.input').hide();\n",
    " } else {\n",
    " $('div.input').show();\n",
    " }\n",
    " code_show = !code_show\n",
    "} \n",
    "$( document ).ready(code_toggle);\n",
    "</script>\n",
    "<a href=\"javascript:code_toggle()\">Mostrar/ocultar celdas de código</a>.''')"
   ]
  },
  {
   "cell_type": "code",
   "execution_count": 2,
   "id": "e6896f80",
   "metadata": {
    "scrolled": true
   },
   "outputs": [
    {
     "data": {
      "text/html": [
       "\n",
       "<button onclick=\"ejecutar(2,20)\">Empezar ejercicio/Reiniciar datos(dos clicks )</button>\n",
       "<script>function ejecutar(desde, hasta){\n",
       "    for(i = desde; i < hasta; i++)\n",
       "Jupyter.notebook.execute_cells([i])\n",
       "}</script>"
      ],
      "text/plain": [
       "<IPython.core.display.HTML object>"
      ]
     },
     "execution_count": 2,
     "metadata": {},
     "output_type": "execute_result"
    }
   ],
   "source": [
    "from IPython.display import HTML\n",
    "HTML('''\n",
    "<button onclick=\"ejecutar(2,20)\">Empezar ejercicio/Reiniciar datos(dos clicks )</button>\n",
    "<script>function ejecutar(desde, hasta){\n",
    "    for(i = desde; i < hasta; i++)\n",
    "Jupyter.notebook.execute_cells([i])\n",
    "}</script>''')"
   ]
  },
  {
   "cell_type": "code",
   "execution_count": 3,
   "id": "5f1e457d",
   "metadata": {},
   "outputs": [],
   "source": [
    "#Antes que nada, se deben importar los módulos necesarios para usarlos al resolver los problemas. \n",
    "#Son unos ficheros que guardan definiciones y declaraciones de Python.\n",
    "from sympy import Symbol, Eq, solve\n",
    "from math import pi, sqrt\n",
    "from ipywidgets import widgets, interactive\n",
    "from ipynb.fs.full.Funciones_variables import J, Q, b, h, D, A, P, Rh, n, x, y ,z, Qll, Vll, Vc, verma, d, a, b \n",
    "#Crea una lista de los módulos instalados --> help(\"modules\")\n",
    "#Esta función crea una lista de las funciones o variables del módulo --> dir(math)"
   ]
  },
  {
   "cell_type": "code",
   "execution_count": 4,
   "id": "b2f43ca0",
   "metadata": {
    "scrolled": false
   },
   "outputs": [
    {
     "name": "stdout",
     "output_type": "stream",
     "text": [
      "Ingrese el valor del caudal en m3/s\n"
     ]
    },
    {
     "data": {
      "application/vnd.jupyter.widget-view+json": {
       "model_id": "fccda446db124d1d87d3b751aaf1660b",
       "version_major": 2,
       "version_minor": 0
      },
      "text/plain": [
       "interactive(children=(FloatText(value=0.0, description='Q', step=0.01), Output()), _dom_classes=('widget-inter…"
      ]
     },
     "metadata": {},
     "output_type": "display_data"
    },
    {
     "name": "stdout",
     "output_type": "stream",
     "text": [
      "Ingrese el valor de la pendiente en m\n"
     ]
    },
    {
     "data": {
      "application/vnd.jupyter.widget-view+json": {
       "model_id": "02eb4a75071c4f78985772c3bf8cebc1",
       "version_major": 2,
       "version_minor": 0
      },
      "text/plain": [
       "interactive(children=(FloatText(value=0.0, description='J', step=0.0001), Output()), _dom_classes=('widget-int…"
      ]
     },
     "metadata": {},
     "output_type": "display_data"
    },
    {
     "name": "stdout",
     "output_type": "stream",
     "text": [
      "Escoja el coeficiente de rugosidad medido según Manning de la siguiente lista: \n"
     ]
    },
    {
     "data": {
      "application/vnd.jupyter.widget-view+json": {
       "model_id": "98d8ffd03f6d4c3298e849149e8a065a",
       "version_major": 2,
       "version_minor": 0
      },
      "text/plain": [
       "interactive(children=(Dropdown(description='Material del canal:', options=(('---', 1e-10), ('Madera cepillada'…"
      ]
     },
     "metadata": {},
     "output_type": "display_data"
    }
   ],
   "source": [
    "#Pedimos al usuario que ingrese los datos del problema\n",
    "\n",
    "print(\"Ingrese el valor del caudal en m3/s\")\n",
    "Q= interactive(Q, Q=widgets.FloatText(min=0, max=100, step=0.01, value=0));\n",
    "display(Q)\n",
    "\n",
    "print(\"Ingrese el valor de la pendiente en m\")\n",
    "J= interactive(J, J=widgets.FloatText(min=0, max=1000, step=0.0001, value=0));\n",
    "display(J)\n",
    "\n",
    "print(\"Escoja el coeficiente de rugosidad medido según Manning de la siguiente lista: \")\n",
    "\n",
    "n= interactive(n, n=widgets.Dropdown(\n",
    "    options=[('---', 0.0000000001),\n",
    "             ('Madera cepillada', 0.012), \n",
    "             ('Madera sin cepillar', 0.013), \n",
    "             ('Hormigón acabado', 0.012), \n",
    "             ('Hormigón en bruto', 0.015), \n",
    "             ('Hierro fundido', 0.016), \n",
    "             ('Ladrillo', 0.016), \n",
    "             ('Acero roblonado', 0.016), \n",
    "             ('Arena', 0.020), \n",
    "             ('Metal con arrugas', 0.022), \n",
    "             ('Grava fina (grosor 10/20/30)', 0.022), \n",
    "             ('Grava media', 0.025), \n",
    "             ('Grava (grosor 50/100/150)', 0.029), \n",
    "             ('Mampostería ', 0.026), \n",
    "             ('Tierra', 0.026),\n",
    "             ('Tierra con piedras o hierba', 0.035),\n",
    "             ('Piedras', 0.037),\n",
    "             ('Rocas medias', 0.042),\n",
    "             ('Rocas grandes', 0.060),\n",
    "             ('PVC', 0.009)],\n",
    "    description='Material del canal:',\n",
    "));\n",
    "display(n)"
   ]
  },
  {
   "cell_type": "code",
   "execution_count": 5,
   "id": "90b0a189",
   "metadata": {},
   "outputs": [
    {
     "data": {
      "text/html": [
       "\n",
       "<button onclick=\"ejecutar(6)\">Calcular</button>\n",
       "<script>function ejecutar(i){\n",
       "    Jupyter.notebook.execute_cells([i])\n",
       "}</script>"
      ],
      "text/plain": [
       "<IPython.core.display.HTML object>"
      ]
     },
     "execution_count": 5,
     "metadata": {},
     "output_type": "execute_result"
    }
   ],
   "source": [
    "from IPython.display import HTML\n",
    "HTML('''\n",
    "<button onclick=\"ejecutar(6)\">Calcular</button>\n",
    "<script>function ejecutar(i){\n",
    "    Jupyter.notebook.execute_cells([i])\n",
    "}</script>''')"
   ]
  },
  {
   "cell_type": "code",
   "execution_count": 10,
   "id": "b0d5c4d1",
   "metadata": {},
   "outputs": [
    {
     "name": "stdout",
     "output_type": "stream",
     "text": [
      "Resultado:\n",
      "Qc/Qll= 0.27 m3/s\n",
      "D= 2.5471 m\n"
     ]
    }
   ],
   "source": [
    "import numpy as np\n",
    "import math \n",
    "from math import pi, sqrt\n",
    "from sympy import Symbol, Eq, solve\n",
    "\n",
    "if Q.result==0 and J.result==0 :\n",
    "    print(\"Inserte datos para calcular el resultado\")\n",
    "elif Q.result==0  or J.result==0 :\n",
    "    print(\"¡¡Revise los datos insertados, puede que se haya dejado alguno sin insertar!!\")  \n",
    "    print(\"¡¡Recuerde que ningun dato puede ser igual a cero!!\")\n",
    "else: \n",
    "    \n",
    "        \n",
    "     \n",
    "        \n",
    "#------------------------------------------ CONSEGUIR DATOS DE LAS TABLAS --------------------------------------------------------------        \n",
    "    #EXTRAER DATOS DE EXCEL \n",
    "    \n",
    "    import openpyxl\n",
    "\n",
    "    #leer el archivo\n",
    "    book = openpyxl.load_workbook('tabla27.xlsx', data_only=True)\n",
    "\n",
    "    #fijar la hoja\n",
    "    hoja = book.active\n",
    "\n",
    "    celdas = hoja['A2':'C141']\n",
    "    filas_altura = hoja['C2':'C141']\n",
    "    h = 0.35\n",
    "    contador = -1 \n",
    "    for i in filas_altura:\n",
    "        contador= contador+1\n",
    "        if( h-0.001< float(i[0].value) < h+0.006 ):\n",
    "#----------------------------------------------------------------------------------------------------------------------------                   \n",
    "            print('Resultado:')\n",
    "            \n",
    "            #Se calcula Qc/Qll\n",
    "            y = (float(str(celdas[contador][0].value)))\n",
    "            print('Qc/Qll=', round(y,3) ,'m3/s')\n",
    "            \n",
    "            #Se calcula Qll\n",
    "            Qll = Q.result/y\n",
    "            \n",
    "            D = Symbol('D')\n",
    "            \n",
    "            #Se calcula D\n",
    "            D = solve( -Qll +( 1/n.result )*( (pi*(D**2))/4 )*( (D/4)**(2/3) )* (J.result**(1/2)) )\n",
    "            print('D=', round(D[0],4),'m')\n",
    "    \n",
    "         "
   ]
  }
 ],
 "metadata": {
  "kernelspec": {
   "display_name": "Python 3 (ipykernel)",
   "language": "python",
   "name": "python3"
  },
  "language_info": {
   "codemirror_mode": {
    "name": "ipython",
    "version": 3
   },
   "file_extension": ".py",
   "mimetype": "text/x-python",
   "name": "python",
   "nbconvert_exporter": "python",
   "pygments_lexer": "ipython3",
   "version": "3.9.7"
  }
 },
 "nbformat": 4,
 "nbformat_minor": 5
}
