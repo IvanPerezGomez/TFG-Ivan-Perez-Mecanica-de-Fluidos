{
 "cells": [
  {
   "cell_type": "markdown",
   "id": "6fc0e7e7",
   "metadata": {},
   "source": [
    "<div style=\"background-color:#EAEAE9;padding:10px 40px;text-align:center; vertical-align: middle;font-family:didot;\" id=\"enunciado\">  \n",
    " <p style=\"font-size: 15px;text-align: justify;\">Diseñar una acequia semicircular de PVC, que con una pendiente de\n",
    "     $16 \\text{ milésimas}$ tenga una capacidad hidráulica de $230 \\frac{l}{s}$. Es necesaria una berma mínima del $15$% del diámetro. La velocidad de circulación no puede ser superior a $3,5 \\frac{m}{s}$. Diámetros comertciales: $25, 30, 35, 40, 45, 50, 60, 70,80 \\text{ cm}$.\n",
    "</p>\n",
    "    <br>\n",
    "    <div><center><img src=\"Imagenes/Ejercicio3_examen.png\" width=\"600\" height=\"600\" ></center></div>\n",
    "</div>"
   ]
  },
  {
   "cell_type": "code",
   "execution_count": 1,
   "id": "6d187a86",
   "metadata": {},
   "outputs": [
    {
     "data": {
      "text/html": [
       "\n",
       "<script>\n",
       "code_show=true; \n",
       "function code_toggle() {\n",
       " if (code_show){\n",
       " $('div.input').hide();\n",
       " } else {\n",
       " $('div.input').show();\n",
       " }\n",
       " code_show = !code_show\n",
       "} \n",
       "$( document ).ready(code_toggle);\n",
       "</script>\n",
       "<a href=\"javascript:code_toggle()\">Mostrar/ocultar celdas de código</a>."
      ],
      "text/plain": [
       "<IPython.core.display.HTML object>"
      ]
     },
     "execution_count": 1,
     "metadata": {},
     "output_type": "execute_result"
    }
   ],
   "source": [
    "from IPython.display import HTML\n",
    "HTML('''\n",
    "<script>\n",
    "code_show=true; \n",
    "function code_toggle() {\n",
    " if (code_show){\n",
    " $('div.input').hide();\n",
    " } else {\n",
    " $('div.input').show();\n",
    " }\n",
    " code_show = !code_show\n",
    "} \n",
    "$( document ).ready(code_toggle);\n",
    "</script>\n",
    "<a href=\"javascript:code_toggle()\">Mostrar/ocultar celdas de código</a>.''')"
   ]
  },
  {
   "cell_type": "code",
   "execution_count": 2,
   "id": "e6896f80",
   "metadata": {
    "scrolled": true
   },
   "outputs": [
    {
     "data": {
      "text/html": [
       "\n",
       "<button onclick=\"ejecutar(2,20)\">Empezar ejercicio/Reiniciar datos(dos clicks )</button>\n",
       "<script>function ejecutar(desde, hasta){\n",
       "    for(i = desde; i < hasta; i++)\n",
       "Jupyter.notebook.execute_cells([i])\n",
       "}</script>"
      ],
      "text/plain": [
       "<IPython.core.display.HTML object>"
      ]
     },
     "execution_count": 2,
     "metadata": {},
     "output_type": "execute_result"
    }
   ],
   "source": [
    "from IPython.display import HTML\n",
    "HTML('''\n",
    "<button onclick=\"ejecutar(2,20)\">Empezar ejercicio/Reiniciar datos(dos clicks )</button>\n",
    "<script>function ejecutar(desde, hasta){\n",
    "    for(i = desde; i < hasta; i++)\n",
    "Jupyter.notebook.execute_cells([i])\n",
    "}</script>''')"
   ]
  },
  {
   "cell_type": "code",
   "execution_count": 3,
   "id": "5f1e457d",
   "metadata": {},
   "outputs": [],
   "source": [
    "#Antes que nada, se deben importar los módulos necesarios para usarlos al resolver los problemas. \n",
    "#Son unos ficheros que guardan definiciones y declaraciones de Python.\n",
    "from sympy import Symbol, Eq, solve\n",
    "from math import pi, sqrt\n",
    "from ipywidgets import widgets, interactive\n",
    "from ipynb.fs.full.Funciones_variables import J, Q, b, h, D, A, P, Rh, n, x, y ,z, Qll, Vll, Vc, verma, d, a, b \n",
    "#Crea una lista de los módulos instalados --> help(\"modules\")\n",
    "#Esta función crea una lista de las funciones o variables del módulo --> dir(math)"
   ]
  },
  {
   "cell_type": "code",
   "execution_count": 4,
   "id": "b2f43ca0",
   "metadata": {
    "scrolled": false
   },
   "outputs": [
    {
     "name": "stdout",
     "output_type": "stream",
     "text": [
      "Ingrese el valor del caudal en m3/s\n"
     ]
    },
    {
     "data": {
      "application/vnd.jupyter.widget-view+json": {
       "model_id": "1765b71a58be4c708bca4939a284c8c1",
       "version_major": 2,
       "version_minor": 0
      },
      "text/plain": [
       "interactive(children=(FloatText(value=0.0, description='Q', step=0.01), Output()), _dom_classes=('widget-inter…"
      ]
     },
     "metadata": {},
     "output_type": "display_data"
    },
    {
     "name": "stdout",
     "output_type": "stream",
     "text": [
      "Ingrese el valor de la pendiente en m\n"
     ]
    },
    {
     "data": {
      "application/vnd.jupyter.widget-view+json": {
       "model_id": "49b42b3e2dc94f8493e6d9595bba900b",
       "version_major": 2,
       "version_minor": 0
      },
      "text/plain": [
       "interactive(children=(FloatText(value=0.0, description='J', step=0.0001), Output()), _dom_classes=('widget-int…"
      ]
     },
     "metadata": {},
     "output_type": "display_data"
    },
    {
     "name": "stdout",
     "output_type": "stream",
     "text": [
      "Escoja el coeficiente de rugosidad medido según Manning de la siguiente lista: \n"
     ]
    },
    {
     "data": {
      "application/vnd.jupyter.widget-view+json": {
       "model_id": "65581455759c4a038f49353d26dd45d6",
       "version_major": 2,
       "version_minor": 0
      },
      "text/plain": [
       "interactive(children=(Dropdown(description='Material del canal:', options=(('---', 1e-10), ('Madera cepillada'…"
      ]
     },
     "metadata": {},
     "output_type": "display_data"
    }
   ],
   "source": [
    "#Pedimos al usuario que ingrese los datos del problema\n",
    "\n",
    "print(\"Ingrese el valor del caudal en m3/s\")\n",
    "Q= interactive(Q, Q=widgets.FloatText(min=0, max=100, step=0.01, value=0));\n",
    "display(Q)\n",
    "\n",
    "print(\"Ingrese el valor de la pendiente en m\")\n",
    "J= interactive(J, J=widgets.FloatText(min=0, max=1000, step=0.0001, value=0));\n",
    "display(J)\n",
    "\n",
    "print(\"Escoja el coeficiente de rugosidad medido según Manning de la siguiente lista: \")\n",
    "\n",
    "n= interactive(n, n=widgets.Dropdown(\n",
    "    options=[('---', 0.0000000001),\n",
    "             ('Madera cepillada', 0.012), \n",
    "             ('Madera sin cepillar', 0.013), \n",
    "             ('Hormigón acabado', 0.012), \n",
    "             ('Hormigón en bruto', 0.015), \n",
    "             ('Hierro fundido', 0.016), \n",
    "             ('Ladrillo', 0.016), \n",
    "             ('Acero roblonado', 0.016), \n",
    "             ('Arena', 0.020), \n",
    "             ('Metal con arrugas', 0.022), \n",
    "             ('Grava fina (grosor 10/20/30)', 0.022), \n",
    "             ('Grava media', 0.025), \n",
    "             ('Grava (grosor 50/100/150)', 0.029), \n",
    "             ('Mampostería ', 0.026), \n",
    "             ('Tierra', 0.026),\n",
    "             ('Tierra con piedras o hierba', 0.035),\n",
    "             ('Piedras', 0.037),\n",
    "             ('Rocas medias', 0.042),\n",
    "             ('Rocas grandes', 0.060),\n",
    "             ('PVC', 0.009)],\n",
    "    description='Material del canal:',\n",
    "));\n",
    "display(n)"
   ]
  },
  {
   "cell_type": "code",
   "execution_count": 5,
   "id": "90b0a189",
   "metadata": {},
   "outputs": [
    {
     "data": {
      "text/html": [
       "\n",
       "<button onclick=\"ejecutar(6)\">Calcular</button>\n",
       "<script>function ejecutar(i){\n",
       "    Jupyter.notebook.execute_cells([i])\n",
       "}</script>"
      ],
      "text/plain": [
       "<IPython.core.display.HTML object>"
      ]
     },
     "execution_count": 5,
     "metadata": {},
     "output_type": "execute_result"
    }
   ],
   "source": [
    "from IPython.display import HTML\n",
    "HTML('''\n",
    "<button onclick=\"ejecutar(6)\">Calcular</button>\n",
    "<script>function ejecutar(i){\n",
    "    Jupyter.notebook.execute_cells([i])\n",
    "}</script>''')"
   ]
  },
  {
   "cell_type": "code",
   "execution_count": 6,
   "id": "b0d5c4d1",
   "metadata": {},
   "outputs": [
    {
     "name": "stdout",
     "output_type": "stream",
     "text": [
      "Inserte datos para calcular el resultado\n"
     ]
    }
   ],
   "source": [
    "import numpy as np\n",
    "import math \n",
    "from math import pi, sqrt\n",
    "from sympy import Symbol, Eq, solve\n",
    "\n",
    "if Q.result==0 and J.result==0 :\n",
    "    print(\"Inserte datos para calcular el resultado\")\n",
    "elif Q.result==0  or J.result==0 :\n",
    "    print(\"¡¡Revise los datos insertados, puede que se haya dejado alguno sin insertar!!\")  \n",
    "    print(\"¡¡Recuerde que ningun dato puede ser igual a cero!!\")\n",
    "else: \n",
    "    \n",
    "        \n",
    "     \n",
    "        \n",
    "#------------------------------------------ CONSEGUIR DATOS DE LAS TABLAS --------------------------------------------------------------        \n",
    "    #EXTRAER DATOS DE EXCEL \n",
    "    \n",
    "    import openpyxl\n",
    "\n",
    "    #leer el archivo\n",
    "    book = openpyxl.load_workbook('tabla27.xlsx', data_only=True)\n",
    "\n",
    "    #fijar la hoja\n",
    "    hoja = book.active\n",
    "\n",
    "    celdas = hoja['A2':'C141']\n",
    "    filas_altura = hoja['C2':'C141']\n",
    "    h = 0.35\n",
    "    contador = -1 \n",
    "    for i in filas_altura:\n",
    "        contador= contador+1\n",
    "        if( h-0.001< float(i[0].value) < h+0.006 ):\n",
    "#----------------------------------------------------------------------------------------------------------------------------                   \n",
    "            print('Resultado:')\n",
    "            #Se calcula Vc/Vll\n",
    "            x = (float(str(celdas[contador][1].value)))\n",
    "            print('Vc/Vll=', round(x,3) ,'m/s')\n",
    "            \n",
    "        \n",
    "            #Se calcula Qc/Qll\n",
    "            y = (float(str(celdas[contador][0].value)))\n",
    "            print('Qc/Qll=', round(y,3) ,'m3/s')\n",
    "            \n",
    "            #Se calcula Qll\n",
    "            Qll = Q.result/y\n",
    "            \n",
    "            D = Symbol('D')\n",
    "            \n",
    "            #Se calcula D\n",
    "            D = solve( -Qll +( 1/n.result )*( (pi*(D**2))/4 )*( (D/4)**(2/3) )* (J.result**(1/2)) )\n",
    "            print('D=', round(D[0],4),'m')\n",
    "    \n",
    "         "
   ]
  },
  {
   "cell_type": "code",
   "execution_count": 7,
   "id": "d6404380",
   "metadata": {
    "scrolled": false
   },
   "outputs": [
    {
     "name": "stdout",
     "output_type": "stream",
     "text": [
      "Escoja el  diametro comercial adecuado según el resultado de la siguiente lista: \n",
      "Recuerde que si elige un diametro inferior obtendrá mayores pérdidas de carga \n"
     ]
    },
    {
     "data": {
      "application/vnd.jupyter.widget-view+json": {
       "model_id": "ea0aa8b7332d43f2bfb0a8da5f535b9a",
       "version_major": 2,
       "version_minor": 0
      },
      "text/plain": [
       "interactive(children=(Dropdown(description='D comercial:', options=(('---', 1e-10), ('25 cm', 0.25), ('30 cm',…"
      ]
     },
     "metadata": {},
     "output_type": "display_data"
    }
   ],
   "source": [
    "#Pedimos al usuario que ingrese los datos del problema\n",
    "\n",
    "print(\"Escoja el  diametro comercial adecuado según el resultado de la siguiente lista: \")\n",
    "print(\"Recuerde que si elige un diametro inferior obtendrá mayores pérdidas de carga \")\n",
    "\n",
    "d= interactive(d, d=widgets.Dropdown(\n",
    "    options=[('---', 0.0000000001),\n",
    "             ('25 cm', 0.25), \n",
    "             ('30 cm', 0.30),\n",
    "             ('35 cm', 0.35), \n",
    "             ('40 cm', 0.40),\n",
    "             ('45 cm', 0.45), \n",
    "             ('50 cm', 0.50),\n",
    "             ('60 cm', 0.60),\n",
    "             ('70 cm', 0.70), \n",
    "             ('80 cm', 0.80)],\n",
    "    description='D comercial:',\n",
    "));\n",
    "display(d)"
   ]
  },
  {
   "cell_type": "markdown",
   "id": "d6de6ab4",
   "metadata": {},
   "source": [
    "<div style=\"background-color:#EAEAE9;padding:10px 40px;text-align:center; vertical-align: middle;font-family:didot;\" id=\"enunciado\">  \n",
    " <p style=\"font-size: 15px;text-align: justify;\">Se procederá a seguir el ejercicio con el diametro comercial escogido, a continuación, pulse 'Continuar'   </p>\n",
    "</div>"
   ]
  },
  {
   "cell_type": "code",
   "execution_count": 8,
   "id": "0ed0c268",
   "metadata": {},
   "outputs": [
    {
     "data": {
      "text/html": [
       "\n",
       "<button onclick=\"ejecutar(10)\">Continuar</button>\n",
       "<script>function ejecutar(i){\n",
       "    Jupyter.notebook.execute_cells([i])\n",
       "}</script>"
      ],
      "text/plain": [
       "<IPython.core.display.HTML object>"
      ]
     },
     "execution_count": 8,
     "metadata": {},
     "output_type": "execute_result"
    }
   ],
   "source": [
    "from IPython.display import HTML\n",
    "HTML('''\n",
    "<button onclick=\"ejecutar(10)\">Continuar</button>\n",
    "<script>function ejecutar(i){\n",
    "    Jupyter.notebook.execute_cells([i])\n",
    "}</script>''')"
   ]
  },
  {
   "cell_type": "code",
   "execution_count": 9,
   "id": "1bc4c65d",
   "metadata": {},
   "outputs": [
    {
     "name": "stdout",
     "output_type": "stream",
     "text": [
      "Inserte datos para calcular el resultado\n"
     ]
    }
   ],
   "source": [
    "#Se calcula la nueva Qll con la tuberia seleccionada\n",
    "\n",
    "if Q.result==0 and J.result==0 :\n",
    "    print(\"Inserte datos para calcular el resultado\")\n",
    "elif Q.result==0  or J.result==0 :\n",
    "    print(\"¡¡Revise los datos insertados, puede que se haya dejado alguno sin insertar!!\")  \n",
    "    print(\"¡¡Recuerde que ningun dato puede ser igual a cero!!\")\n",
    "elif d.result==0.0000000001:\n",
    "    print(\"Elija un valor para el diametro comercial\")  \n",
    "else: \n",
    "    \n",
    "    #Se calcula Qll\n",
    "    Qll = ( 1/n.result )*( (pi*(d.result**2))/4 )*( (d.result/4)**(2/3) )* (J.result**(1/2))\n",
    "    \n",
    "    #Se calcula Vll\n",
    "    Vll = ( 1/n.result )*( (d.result/4)**(2/3) )* (J.result**(1/2))\n",
    "    \n",
    "    #Se calcula Qc/Qll\n",
    "    caudal = round(Q.result/Qll,2)\n",
    "    \n",
    "#------------------------------------------ CONSEGUIR DATOS DE LAS TABLAS --------------------------------------------------------------        \n",
    "    #EXTRAER DATOS DE EXCEL \n",
    "    \n",
    "    import openpyxl\n",
    "\n",
    "    #leer el archivo\n",
    "    book = openpyxl.load_workbook('tabla27.xlsx', data_only=True)\n",
    "\n",
    "    #fijar la hoja\n",
    "    hoja = book.active\n",
    "\n",
    "    celdas = hoja['A2':'C141']\n",
    "    filas_caudal = hoja['A2':'A141']\n",
    "\n",
    "    contador = -1 \n",
    "    for i in filas_caudal:\n",
    "        contador= contador+1\n",
    "        if( caudal-0.01 < float(i[0].value) < caudal+0.01):\n",
    " #----------------------------------------------------------------------------------------------------------------------------                   \n",
    "            print('Resultado:')\n",
    "            #Se calcula Vc/Vll\n",
    "            a = (float(str(celdas[contador][1].value)))\n",
    "            #print('Vc/Vll=', round(a,3) ,'m/s')\n",
    "            print('Vc=', round(a*Vll,3) ,'m/s')\n",
    "        \n",
    "            #Se calcula Hc/Hll\n",
    "            b = (float(str(celdas[contador][2].value)))\n",
    "            print('Hc/Hll=', round(b,3) ,'m')\n",
    "            \n",
    "    \n"
   ]
  }
 ],
 "metadata": {
  "kernelspec": {
   "display_name": "Python 3 (ipykernel)",
   "language": "python",
   "name": "python3"
  },
  "language_info": {
   "codemirror_mode": {
    "name": "ipython",
    "version": 3
   },
   "file_extension": ".py",
   "mimetype": "text/x-python",
   "name": "python",
   "nbconvert_exporter": "python",
   "pygments_lexer": "ipython3",
   "version": "3.9.7"
  }
 },
 "nbformat": 4,
 "nbformat_minor": 5
}
