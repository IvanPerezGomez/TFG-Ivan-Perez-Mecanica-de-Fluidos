{
 "cells": [
  {
   "cell_type": "markdown",
   "id": "6fc0e7e7",
   "metadata": {},
   "source": [
    "<div style=\"background-color:#EAEAE9;padding:10px 40px;text-align:center; vertical-align: middle;font-family:didot;\" id=\"enunciado\">  \n",
    " <p style=\"font-size: 15px;text-align: justify;\">Se quiere canalizar un río desde la cota $120$ hasta la cota $114$, con una\n",
    "longitud de $4$ km, siendo el caudal en máximas avenidas de $23 \\frac{m^3}{s}$. Diseñar dicho\n",
    "canal supuesto de hormigón en bruto y de sección rectangular.\n",
    "\n",
    "</p>\n",
    "    <br>\n",
    "    <div><center><img src=\"Imagenes/Seccion_rectangular.png\" width=\"300\" height=\"300\" ></center></div>\n",
    "</div>"
   ]
  },
  {
   "cell_type": "code",
   "execution_count": 1,
   "id": "6d187a86",
   "metadata": {},
   "outputs": [
    {
     "data": {
      "text/html": [
       "\n",
       "<script>\n",
       "code_show=true; \n",
       "function code_toggle() {\n",
       " if (code_show){\n",
       " $('div.input').hide();\n",
       " } else {\n",
       " $('div.input').show();\n",
       " }\n",
       " code_show = !code_show\n",
       "} \n",
       "$( document ).ready(code_toggle);\n",
       "</script>\n",
       "<a href=\"javascript:code_toggle()\">Mostrar/ocultar celdas de código</a>."
      ],
      "text/plain": [
       "<IPython.core.display.HTML object>"
      ]
     },
     "execution_count": 1,
     "metadata": {},
     "output_type": "execute_result"
    }
   ],
   "source": [
    "from IPython.display import HTML\n",
    "HTML('''\n",
    "<script>\n",
    "code_show=true; \n",
    "function code_toggle() {\n",
    " if (code_show){\n",
    " $('div.input').hide();\n",
    " } else {\n",
    " $('div.input').show();\n",
    " }\n",
    " code_show = !code_show\n",
    "} \n",
    "$( document ).ready(code_toggle);\n",
    "</script>\n",
    "<a href=\"javascript:code_toggle()\">Mostrar/ocultar celdas de código</a>.''')"
   ]
  },
  {
   "cell_type": "code",
   "execution_count": 2,
   "id": "e6896f80",
   "metadata": {},
   "outputs": [
    {
     "data": {
      "text/html": [
       "\n",
       "<button onclick=\"ejecutar(2,7)\">Empezar ejercicio/Reiniciar datos(dos clicks )</button>\n",
       "<script>function ejecutar(desde, hasta){\n",
       "    for(i = desde; i < hasta; i++)\n",
       "Jupyter.notebook.execute_cells([i])\n",
       "}</script>"
      ],
      "text/plain": [
       "<IPython.core.display.HTML object>"
      ]
     },
     "execution_count": 2,
     "metadata": {},
     "output_type": "execute_result"
    }
   ],
   "source": [
    "from IPython.display import HTML\n",
    "HTML('''\n",
    "<button onclick=\"ejecutar(2,7)\">Empezar ejercicio/Reiniciar datos(dos clicks )</button>\n",
    "<script>function ejecutar(desde, hasta){\n",
    "    for(i = desde; i < hasta; i++)\n",
    "Jupyter.notebook.execute_cells([i])\n",
    "}</script>''')"
   ]
  },
  {
   "cell_type": "code",
   "execution_count": 3,
   "id": "5f1e457d",
   "metadata": {},
   "outputs": [],
   "source": [
    "#Antes que nada, se deben importar los módulos necesarios para usarlos al resolver los problemas. \n",
    "#Son unos ficheros que guardan definiciones y declaraciones de Python.\n",
    "from sympy import Symbol, Eq, solve\n",
    "from math import pi, sqrt\n",
    "from ipywidgets import widgets, interactive\n",
    "from ipynb.fs.full.Funciones_variables import J, Q, b, h, D, A, P, Rh, n, x, y ,z\n",
    "#Crea una lista de los módulos instalados --> help(\"modules\")\n",
    "#Esta función crea una lista de las funciones o variables del módulo --> dir(math)"
   ]
  },
  {
   "cell_type": "code",
   "execution_count": 4,
   "id": "b2f43ca0",
   "metadata": {
    "scrolled": true
   },
   "outputs": [
    {
     "name": "stdout",
     "output_type": "stream",
     "text": [
      "Ingrese el valor del caudal en m3/s\n"
     ]
    },
    {
     "data": {
      "application/vnd.jupyter.widget-view+json": {
       "model_id": "3b2128ac2b8745e0a1743e1370199d5c",
       "version_major": 2,
       "version_minor": 0
      },
      "text/plain": [
       "interactive(children=(FloatText(value=0.0, description='Q', step=0.01), Output()), _dom_classes=('widget-inter…"
      ]
     },
     "metadata": {},
     "output_type": "display_data"
    },
    {
     "name": "stdout",
     "output_type": "stream",
     "text": [
      "Ingrese el valor de la cota superior en metros\n"
     ]
    },
    {
     "data": {
      "application/vnd.jupyter.widget-view+json": {
       "model_id": "97e9cf5f63664313b9bc4b5f99afbfa5",
       "version_major": 2,
       "version_minor": 0
      },
      "text/plain": [
       "interactive(children=(FloatText(value=0.0, description='y', step=1.0), Output()), _dom_classes=('widget-intera…"
      ]
     },
     "metadata": {},
     "output_type": "display_data"
    },
    {
     "name": "stdout",
     "output_type": "stream",
     "text": [
      "Ingrese el valor de la cota inferior en metros\n"
     ]
    },
    {
     "data": {
      "application/vnd.jupyter.widget-view+json": {
       "model_id": "240c3d3275b24591863c40da5676a9f2",
       "version_major": 2,
       "version_minor": 0
      },
      "text/plain": [
       "interactive(children=(FloatText(value=0.0, description='z', step=1.0), Output()), _dom_classes=('widget-intera…"
      ]
     },
     "metadata": {},
     "output_type": "display_data"
    },
    {
     "name": "stdout",
     "output_type": "stream",
     "text": [
      "Ingrese el valor de la longitud en metros\n"
     ]
    },
    {
     "data": {
      "application/vnd.jupyter.widget-view+json": {
       "model_id": "8eacc58cce8f48f5b0bd6ac3e1ab81fe",
       "version_major": 2,
       "version_minor": 0
      },
      "text/plain": [
       "interactive(children=(FloatText(value=0.0, description='x', step=1.0), Output()), _dom_classes=('widget-intera…"
      ]
     },
     "metadata": {},
     "output_type": "display_data"
    },
    {
     "name": "stdout",
     "output_type": "stream",
     "text": [
      "Escoja el coeficiente de rugosidad medido según Manning de la siguiente lista: \n"
     ]
    },
    {
     "data": {
      "application/vnd.jupyter.widget-view+json": {
       "model_id": "b05f6972c5a24a50857b4e06a459c79f",
       "version_major": 2,
       "version_minor": 0
      },
      "text/plain": [
       "interactive(children=(Dropdown(description='Material del canal:', options=(('---', 1e-10), ('Madera cepillada'…"
      ]
     },
     "metadata": {},
     "output_type": "display_data"
    }
   ],
   "source": [
    "#Pedimos al usuario que ingrese los datos del problema\n",
    "\n",
    "print(\"Ingrese el valor del caudal en m3/s\")\n",
    "Q= interactive(Q, Q=widgets.FloatText(min=0, max=20, step=0.01, value=0));\n",
    "display(Q)\n",
    "\n",
    "\n",
    "print(\"Ingrese el valor de la cota superior en metros\")\n",
    "y= interactive(y, y=widgets.FloatText(min=0, max=1000, step=1, value=0));\n",
    "display(y)\n",
    "\n",
    "print(\"Ingrese el valor de la cota inferior en metros\")\n",
    "z= interactive(z, z=widgets.FloatText(min=0, max=1000, step=1, value=0));\n",
    "display(z)\n",
    "\n",
    "print(\"Ingrese el valor de la longitud en metros\")\n",
    "x= interactive(x, x=widgets.FloatText(min=0, max=1000, step=1, value=0));\n",
    "display(x)\n",
    "\n",
    "print(\"Escoja el coeficiente de rugosidad medido según Manning de la siguiente lista: \")\n",
    "\n",
    "n= interactive(n, n=widgets.Dropdown(\n",
    "    options=[('---', 0.0000000001),\n",
    "             ('Madera cepillada', 0.012), \n",
    "             ('Madera sin cepillar', 0.013), \n",
    "             ('Hormigón acabado', 0.012), \n",
    "             ('Hormigón en bruto', 0.015), \n",
    "             ('Hierro fundido', 0.016), \n",
    "             ('Ladrillo', 0.016), \n",
    "             ('Acero roblonado', 0.016), \n",
    "             ('Arena', 0.020), \n",
    "             ('Metal con arrugas', 0.022), \n",
    "             ('Grava fina (grosor 10/20/30)', 0.022), \n",
    "             ('Grava media', 0.025), \n",
    "             ('Grava (grosor 50/100/150)', 0.029), \n",
    "             ('Mampostería ', 0.026), \n",
    "             ('Tierra', 0.026),\n",
    "             ('Tierra con piedras o hierba', 0.035),\n",
    "             ('Piedras', 0.037),\n",
    "             ('Rocas medias', 0.042),\n",
    "             ('Rocas grandes', 0.060),\n",
    "             ('PVC', 0.009)],\n",
    "    description='Material del canal:',\n",
    "));\n",
    "display(n)"
   ]
  },
  {
   "cell_type": "code",
   "execution_count": 5,
   "id": "90b0a189",
   "metadata": {},
   "outputs": [
    {
     "data": {
      "text/html": [
       "\n",
       "<button onclick=\"ejecutar(6)\">Calcular</button>\n",
       "<script>function ejecutar(i){\n",
       "    Jupyter.notebook.execute_cells([i])\n",
       "}</script>"
      ],
      "text/plain": [
       "<IPython.core.display.HTML object>"
      ]
     },
     "execution_count": 5,
     "metadata": {},
     "output_type": "execute_result"
    }
   ],
   "source": [
    "from IPython.display import HTML\n",
    "HTML('''\n",
    "<button onclick=\"ejecutar(6)\">Calcular</button>\n",
    "<script>function ejecutar(i){\n",
    "    Jupyter.notebook.execute_cells([i])\n",
    "}</script>''')"
   ]
  },
  {
   "cell_type": "code",
   "execution_count": 6,
   "id": "b48d9f6d",
   "metadata": {},
   "outputs": [
    {
     "name": "stdout",
     "output_type": "stream",
     "text": [
      "Inserte datos para calcular el resultado\n"
     ]
    }
   ],
   "source": [
    "#Calculamos mediante la fórmula de Manning la altura del canal\n",
    "\n",
    "from sympy import Symbol, Eq, solve\n",
    "from math import pi, sqrt\n",
    "\n",
    "if Q.result==0 and x.result==0 and y.result==0 and z.result==0 :\n",
    "    print(\"Inserte datos para calcular el resultado\")\n",
    "elif Q.result==0 or x.result==0 or y.result==0 :\n",
    "    print(\"¡¡Revise los datos insertados, puede que se haya dejado alguno sin insertar!!\")  \n",
    "    print(\"¡¡Recuerde que ningun dato excepto la cota inferior(z) puede ser igual a cero!!\")  \n",
    "else:    \n",
    "    h = Symbol('h')\n",
    "    \n",
    "    J = (y.result-z.result)/x.result\n",
    "    \n",
    "    print('Resultado:')\n",
    "    \n",
    "    #Haciendo los calculos correspondientes a parte se ha llegado a la siguiente formula\n",
    "    h = solve( -h**(8/3) + ( (((n.result*Q.result)/(sqrt(J)))*(2**(2/3)))/2) )\n",
    "\n",
    "    \n",
    "    print ('h=',round(h[0], 2),'m')\n",
    "    print ('b=',round(2*h[0],2),'m')"
   ]
  }
 ],
 "metadata": {
  "kernelspec": {
   "display_name": "Python 3 (ipykernel)",
   "language": "python",
   "name": "python3"
  },
  "language_info": {
   "codemirror_mode": {
    "name": "ipython",
    "version": 3
   },
   "file_extension": ".py",
   "mimetype": "text/x-python",
   "name": "python",
   "nbconvert_exporter": "python",
   "pygments_lexer": "ipython3",
   "version": "3.9.7"
  }
 },
 "nbformat": 4,
 "nbformat_minor": 5
}
