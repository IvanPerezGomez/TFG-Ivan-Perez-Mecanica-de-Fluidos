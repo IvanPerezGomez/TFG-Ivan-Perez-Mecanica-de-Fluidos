{
 "cells": [
  {
   "cell_type": "code",
   "execution_count": 11,
   "id": "6575d8ba",
   "metadata": {},
   "outputs": [],
   "source": [
    "def Q(Q):\n",
    "    return Q\n",
    "def b(b):\n",
    "    return b\n",
    "def h(h):\n",
    "    return h\n",
    "def D(D):\n",
    "    return D\n",
    "def A(A):\n",
    "    return A\n",
    "def P(P):\n",
    "    return P\n",
    "def Rh(Rh):\n",
    "    return Rh\n",
    "def n(n):\n",
    "    return n\n",
    "def J(J):\n",
    "    return J\n",
    "def var(var):\n",
    "    return var\n",
    "def angulo (angulo):\n",
    "    return angulo\n",
    "def x(x):\n",
    "    return x\n",
    "def y(y):\n",
    "    return y\n",
    "def z(z):\n",
    "    return z\n",
    "def a(a):\n",
    "    return a\n",
    "def b(b):\n",
    "    return b\n",
    "def c(c):\n",
    "    return c\n",
    "def d(d):\n",
    "    return d\n",
    "def MS(MS):\n",
    "    return MS\n",
    "def ND(ND):\n",
    "    return ND\n",
    "\n",
    "def Qll(Qll):\n",
    "    return Qll\n",
    "\n",
    "def Vll(Vll):\n",
    "    return Vll\n",
    "\n",
    "def Vc(Vc):\n",
    "    return Vc\n",
    "def verma(verma):\n",
    "    return verma"
   ]
  },
  {
   "cell_type": "code",
   "execution_count": null,
   "id": "fc535488",
   "metadata": {},
   "outputs": [],
   "source": []
  }
 ],
 "metadata": {
  "kernelspec": {
   "display_name": "Python 3 (ipykernel)",
   "language": "python",
   "name": "python3"
  },
  "language_info": {
   "codemirror_mode": {
    "name": "ipython",
    "version": 3
   },
   "file_extension": ".py",
   "mimetype": "text/x-python",
   "name": "python",
   "nbconvert_exporter": "python",
   "pygments_lexer": "ipython3",
   "version": "3.9.7"
  }
 },
 "nbformat": 4,
 "nbformat_minor": 5
}
