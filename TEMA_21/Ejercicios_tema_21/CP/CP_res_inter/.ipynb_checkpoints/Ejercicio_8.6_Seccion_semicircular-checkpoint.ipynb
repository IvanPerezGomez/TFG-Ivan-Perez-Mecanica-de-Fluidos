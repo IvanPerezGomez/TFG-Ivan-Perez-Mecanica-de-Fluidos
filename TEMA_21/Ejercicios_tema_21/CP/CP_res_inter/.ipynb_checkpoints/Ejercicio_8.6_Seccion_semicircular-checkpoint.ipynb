{
 "cells": [
  {
   "cell_type": "markdown",
   "id": "6fc0e7e7",
   "metadata": {},
   "source": [
    "<div style=\"background-color:#EAEAE9;padding:10px 40px;text-align:center; vertical-align: middle;font-family:didot;\" id=\"enunciado\">  \n",
    " <p style=\"font-size: 15px;text-align: justify;\">¿Con qué pendiente habrá de proyectarse un tubería de hormigón\n",
    "en brutode $40$ cm de diámetro, que parte de un sumidero al que van a parar las\n",
    "aguas de lluvia caídas en $2$ hectáreas, si el calado se desea sea menor del $70$ %?\n",
    "Calcúlese también la velocidad real y el calado.</p>\n",
    "    <p><b>Dato</b>: Caudal específico en sumidero: $150 \\frac{l}{s}$ por hectárea.</p>\n",
    "    <br>\n",
    "    <div><center><img src=\"Imagenes/Ejercicio8.6.png\" width=\"600\" height=\"600\" ></center></div>\n",
    "</div>"
   ]
  },
  {
   "cell_type": "code",
   "execution_count": 1,
   "id": "6d187a86",
   "metadata": {},
   "outputs": [
    {
     "data": {
      "text/html": [
       "\n",
       "<script>\n",
       "code_show=true; \n",
       "function code_toggle() {\n",
       " if (code_show){\n",
       " $('div.input').hide();\n",
       " } else {\n",
       " $('div.input').show();\n",
       " }\n",
       " code_show = !code_show\n",
       "} \n",
       "$( document ).ready(code_toggle);\n",
       "</script>\n",
       "<a href=\"javascript:code_toggle()\">Mostrar/ocultar celdas de código</a>."
      ],
      "text/plain": [
       "<IPython.core.display.HTML object>"
      ]
     },
     "execution_count": 1,
     "metadata": {},
     "output_type": "execute_result"
    }
   ],
   "source": [
    "from IPython.display import HTML\n",
    "HTML('''\n",
    "<script>\n",
    "code_show=true; \n",
    "function code_toggle() {\n",
    " if (code_show){\n",
    " $('div.input').hide();\n",
    " } else {\n",
    " $('div.input').show();\n",
    " }\n",
    " code_show = !code_show\n",
    "} \n",
    "$( document ).ready(code_toggle);\n",
    "</script>\n",
    "<a href=\"javascript:code_toggle()\">Mostrar/ocultar celdas de código</a>.''')"
   ]
  },
  {
   "cell_type": "code",
   "execution_count": 109,
   "id": "e6896f80",
   "metadata": {
    "scrolled": true
   },
   "outputs": [
    {
     "data": {
      "text/html": [
       "\n",
       "<button onclick=\"ejecutar(2,20)\">Empezar ejercicio/Reiniciar datos(dos clicks )</button>\n",
       "<script>function ejecutar(desde, hasta){\n",
       "    for(i = desde; i < hasta; i++)\n",
       "Jupyter.notebook.execute_cells([i])\n",
       "}</script>"
      ],
      "text/plain": [
       "<IPython.core.display.HTML object>"
      ]
     },
     "execution_count": 109,
     "metadata": {},
     "output_type": "execute_result"
    }
   ],
   "source": [
    "from IPython.display import HTML\n",
    "HTML('''\n",
    "<button onclick=\"ejecutar(2,20)\">Empezar ejercicio/Reiniciar datos(dos clicks )</button>\n",
    "<script>function ejecutar(desde, hasta){\n",
    "    for(i = desde; i < hasta; i++)\n",
    "Jupyter.notebook.execute_cells([i])\n",
    "}</script>''')"
   ]
  },
  {
   "cell_type": "code",
   "execution_count": 110,
   "id": "5f1e457d",
   "metadata": {},
   "outputs": [],
   "source": [
    "#Antes que nada, se deben importar los módulos necesarios para usarlos al resolver los problemas. \n",
    "#Son unos ficheros que guardan definiciones y declaraciones de Python.\n",
    "from sympy import Symbol, Eq, solve\n",
    "from math import pi, sqrt\n",
    "from ipywidgets import widgets, interactive\n",
    "from ipynb.fs.full.Funciones_variables import J, Q, b, h, D, A, P, Rh, n, x, y ,z\n",
    "#Crea una lista de los módulos instalados --> help(\"modules\")\n",
    "#Esta función crea una lista de las funciones o variables del módulo --> dir(math)"
   ]
  },
  {
   "cell_type": "code",
   "execution_count": 111,
   "id": "b2f43ca0",
   "metadata": {
    "scrolled": false
   },
   "outputs": [
    {
     "name": "stdout",
     "output_type": "stream",
     "text": [
      "Ingrese el valor del caudal en m3/s\n"
     ]
    },
    {
     "data": {
      "application/vnd.jupyter.widget-view+json": {
       "model_id": "532ad8bfbe954fcba9ac2908cf95fa35",
       "version_major": 2,
       "version_minor": 0
      },
      "text/plain": [
       "interactive(children=(FloatText(value=0.0, description='Q', step=0.01), Output()), _dom_classes=('widget-inter…"
      ]
     },
     "metadata": {},
     "output_type": "display_data"
    },
    {
     "name": "stdout",
     "output_type": "stream",
     "text": [
      "Ingrese el valor del diámetro en m\n"
     ]
    },
    {
     "data": {
      "application/vnd.jupyter.widget-view+json": {
       "model_id": "a3d5f3b938784766afe6160a50a11ca4",
       "version_major": 2,
       "version_minor": 0
      },
      "text/plain": [
       "interactive(children=(FloatText(value=0.0, description='D', step=0.0001), Output()), _dom_classes=('widget-int…"
      ]
     },
     "metadata": {},
     "output_type": "display_data"
    },
    {
     "name": "stdout",
     "output_type": "stream",
     "text": [
      "Escoja el coeficiente de rugosidad medido según Manning de la siguiente lista: \n"
     ]
    },
    {
     "data": {
      "application/vnd.jupyter.widget-view+json": {
       "model_id": "1ffbf361bcfe4c5280d46c0c917bd711",
       "version_major": 2,
       "version_minor": 0
      },
      "text/plain": [
       "interactive(children=(Dropdown(description='Material del canal:', options=(('---', 1e-10), ('Madera cepillada'…"
      ]
     },
     "metadata": {},
     "output_type": "display_data"
    }
   ],
   "source": [
    "#Pedimos al usuario que ingrese los datos del problema\n",
    "\n",
    "print(\"Ingrese el valor del caudal en m3/s\")\n",
    "Q= interactive(Q, Q=widgets.FloatText(min=0, max=100, step=0.01, value=0));\n",
    "display(Q)\n",
    "\n",
    "print(\"Ingrese el valor del diámetro en m\")\n",
    "D= interactive(D, D=widgets.FloatText(min=0, max=1000, step=0.0001, value=0));\n",
    "display(D)\n",
    "\n",
    "print(\"Escoja el coeficiente de rugosidad medido según Manning de la siguiente lista: \")\n",
    "\n",
    "n= interactive(n, n=widgets.Dropdown(\n",
    "    options=[('---', 0.0000000001),\n",
    "             ('Madera cepillada', 0.012), \n",
    "             ('Madera sin cepillar', 0.013), \n",
    "             ('Hormigón acabado', 0.012), \n",
    "             ('Hormigón en bruto', 0.015), \n",
    "             ('Hierro fundido', 0.016), \n",
    "             ('Ladrillo', 0.016), \n",
    "             ('Acero roblonado', 0.016), \n",
    "             ('Arena', 0.020), \n",
    "             ('Metal con arrugas', 0.022), \n",
    "             ('Grava fina (grosor 10/20/30)', 0.022), \n",
    "             ('Grava media', 0.025), \n",
    "             ('Grava (grosor 50/100/150)', 0.029), \n",
    "             ('Mampostería ', 0.026), \n",
    "             ('Tierra', 0.026),\n",
    "             ('Tierra con piedras o hierba', 0.035),\n",
    "             ('Piedras', 0.037),\n",
    "             ('Rocas medias', 0.042),\n",
    "             ('Rocas grandes', 0.060),\n",
    "             ('PVC', 0.009)],\n",
    "    description='Material del canal:',\n",
    "));\n",
    "display(n)"
   ]
  },
  {
   "cell_type": "code",
   "execution_count": 112,
   "id": "90b0a189",
   "metadata": {},
   "outputs": [
    {
     "data": {
      "text/html": [
       "\n",
       "<button onclick=\"ejecutar(6)\">Calcular</button>\n",
       "<script>function ejecutar(i){\n",
       "    Jupyter.notebook.execute_cells([i])\n",
       "}</script>"
      ],
      "text/plain": [
       "<IPython.core.display.HTML object>"
      ]
     },
     "execution_count": 112,
     "metadata": {},
     "output_type": "execute_result"
    }
   ],
   "source": [
    "from IPython.display import HTML\n",
    "HTML('''\n",
    "<button onclick=\"ejecutar(6)\">Calcular</button>\n",
    "<script>function ejecutar(i){\n",
    "    Jupyter.notebook.execute_cells([i])\n",
    "}</script>''')"
   ]
  },
  {
   "cell_type": "code",
   "execution_count": 113,
   "id": "b0d5c4d1",
   "metadata": {},
   "outputs": [
    {
     "name": "stdout",
     "output_type": "stream",
     "text": [
      "Inserte datos para calcular el resultado\n"
     ]
    }
   ],
   "source": [
    "import numpy as np\n",
    "import math \n",
    "from math import pi, sqrt\n",
    "from sympy import Symbol, Eq, solve\n",
    "\n",
    "if Q.result==0 and D.result==0 :\n",
    "    print(\"Inserte datos para calcular el resultado\")\n",
    "elif Q.result==0  or D.result==0 :\n",
    "    print(\"¡¡Revise los datos insertados, puede que se haya dejado alguno sin insertar!!\")  \n",
    "    print(\"¡¡Recuerde que ningun dato puede ser igual a cero!!\")\n",
    "else: \n",
    "    \n",
    "        \n",
    "     \n",
    "        \n",
    "#------------------------------------------ CONSEGUIR DATOS DE LAS TABLAS --------------------------------------------------------------        \n",
    "    #EXTRAER DATOS DE EXCEL \n",
    "    \n",
    "    import openpyxl\n",
    "\n",
    "    #leer el archivo\n",
    "    book = openpyxl.load_workbook('tabla27.xlsx', data_only=True)\n",
    "\n",
    "    #fijar la hoja\n",
    "    hoja = book.active\n",
    "\n",
    "    celdas = hoja['A2':'C141']\n",
    "    filas_altura = hoja['C2':'C141']\n",
    "    h = 0.7\n",
    "    \n",
    "    \n",
    "    contador = -1 \n",
    "    for i in filas_altura:\n",
    "        contador= contador+1\n",
    "        if( h-0.001< float(i[0].value) < h+0.006 ):\n",
    "#----------------------------------------------------------------------------------------------------------------------------                   \n",
    "            print('Resultado:')\n",
    "            \n",
    "            #Se calcula Qc/Qll\n",
    "            y = (float(str(celdas[contador][0].value)))\n",
    "            #print('Qc/Qll=', round(y,3) ,'m3/s')\n",
    "            \n",
    "            #Se calcula Qll\n",
    "            Qll = Q.result/y\n",
    "            \n",
    "            J = Symbol('J')\n",
    "            \n",
    "            #Se calcula J\n",
    "            J = solve( -Qll +( 1/n.result )*( (pi*(D.result**2))/4 )*( (D.result/4)**(2/3) )* (J**(1/2)) )\n",
    "            print('J=', round(J[0]*1000,2),'milesimas')\n",
    "            \n",
    "            #Se calcula Vll\n",
    "            b = ( 1/n.result )*( (D.result/4)**(2/3) )* (J[0]**(1/2))\n",
    "            \n",
    "            #Se calcula Vc/Vll\n",
    "            x = (float(str(celdas[contador][1].value)))\n",
    "            #print('Vc/Vll=', round(x,3) ,'m/s')\n",
    "            print('Vc=', round(x*b,2) ,'m/s')\n",
    "            \n",
    "            #Se calcula hc\n",
    "            z = h*D.result\n",
    "            print('hc=',round(z,2),'m')\n",
    "    \n",
    "           "
   ]
  },
  {
   "cell_type": "code",
   "execution_count": null,
   "id": "2f66bc38",
   "metadata": {},
   "outputs": [],
   "source": []
  }
 ],
 "metadata": {
  "kernelspec": {
   "display_name": "Python 3 (ipykernel)",
   "language": "python",
   "name": "python3"
  },
  "language_info": {
   "codemirror_mode": {
    "name": "ipython",
    "version": 3
   },
   "file_extension": ".py",
   "mimetype": "text/x-python",
   "name": "python",
   "nbconvert_exporter": "python",
   "pygments_lexer": "ipython3",
   "version": "3.9.7"
  }
 },
 "nbformat": 4,
 "nbformat_minor": 5
}
