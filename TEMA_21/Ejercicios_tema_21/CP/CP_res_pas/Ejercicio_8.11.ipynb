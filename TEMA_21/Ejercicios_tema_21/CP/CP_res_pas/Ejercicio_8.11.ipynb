{
 "cells": [
  {
   "cell_type": "markdown",
   "id": "6fc0e7e7",
   "metadata": {},
   "source": [
    "<div style=\"background-color:#EAEAE9;padding:10px 40px;text-align:center; vertical-align: middle;font-family:didot;\" id=\"enunciado\">  \n",
    " <p style=\"font-size: 15px;text-align: justify;\">Calcular la altura normal que alcanza un caudal de $8 \\frac{m3}{s}$ en un canal de sección trapecial con paredes inclinadas $45$ º, con una base menor de $2$ m y con una\n",
    "pendiente de una milésima. El canal está construído en hormigón en bruto.\n",
    "</p>\n",
    "     <br>\n",
    "    <div><center><img src=\"Imagenes/Seccion_trapezoidal2.png\" width=\"300\" height=\"300\" ></center></div>\n",
    "</div>"
   ]
  },
  {
   "cell_type": "markdown",
   "id": "50def486",
   "metadata": {},
   "source": [
    "   <p></p>"
   ]
  },
  {
   "cell_type": "markdown",
   "id": "3ea3ac64",
   "metadata": {},
   "source": [
    "<div><center><img src=\"Imagenes/Seccion_trapezoidal_3.png\" width=\"150\" height=\"150\" ></center></div>"
   ]
  },
  {
   "cell_type": "markdown",
   "id": "4f520d58",
   "metadata": {},
   "source": [
    "<div class=\"formulas\">\n",
    " $$    \n",
    "  x = b \\cdot cos(45)  \n",
    " $$\n",
    "</div>\n",
    "<p></p>\n",
    "<div class=\"formulas\">\n",
    " $$    \n",
    "  y = b \\cdot sen(45)  \n",
    " $$\n",
    "</div>"
   ]
  },
  {
   "cell_type": "markdown",
   "id": "66220e63",
   "metadata": {},
   "source": [
    "<div class=\"texto\">\n",
    "  <p>Primeramente, se hallará el área($A$), el perímetro($P$) y el radio hidráulico($R_h$) :</p>\n",
    "</div> "
   ]
  },
  {
   "cell_type": "markdown",
   "id": "295ec7d7",
   "metadata": {},
   "source": [
    "<div class=\"formulas\">\n",
    " <div class=\"formulas\"> \n",
    "   $$\n",
    "    A = \\frac{2 + (2 + 2x)}{2}  \\cdot y = \\frac{4 + 2b \\cdot \\cos(45)}{2}  \\cdot b \\cdot \\sin(45) = b\\sqrt{2} + 0,5b^{^2}\n",
    "   $$\n",
    "</div>\n",
    "<p></p>\n",
    "<div class=\"formulas\">\n",
    " $$    \n",
    "  P = 2b + 2\n",
    " $$\n",
    "</div>"
   ]
  },
  {
   "cell_type": "markdown",
   "id": "0c18a8ca",
   "metadata": {},
   "source": [
    "<div class=\"formulas\">\n",
    " $$    \n",
    "  R_h = \\frac{b\\sqrt{2} + 0,5b^{^2}}{2b + 2} \n",
    " $$\n",
    "</div>"
   ]
  },
  {
   "cell_type": "markdown",
   "id": "2df74a9d",
   "metadata": {},
   "source": [
    "<div class=\"texto\">\n",
    "  <p>Finalmente, se sustituirán los datos en la ecuación de Manning para hallar la altura:</p>\n",
    "</div>"
   ]
  },
  {
   "cell_type": "markdown",
   "id": "eb6f0b41",
   "metadata": {},
   "source": [
    "<div class=\"formulas\">\n",
    " $$    \n",
    "   8 = \\frac{1}{0,015} \\cdot (b\\sqrt{2} + 0,5b^{^2}) \\cdot \\left(\\frac{b\\sqrt{2} + 0,5b^{^2}}{2b + 2} \\right)^{\\frac{2}{3}} \\cdot \n",
    "   0,001^{\\frac{1}{2}} \\to b = 1,9 \\text{ m}\n",
    " $$\n",
    "</div>"
   ]
  },
  {
   "cell_type": "markdown",
   "id": "64609a9a",
   "metadata": {},
   "source": [
    "<div class=\"formulas\">\n",
    " $$    \n",
    "  H = y = b \\cdot sen(45) = 1,9 \\cdot sen(45) = 1,345\\text{ m} \n",
    " $$\n",
    "</div>"
   ]
  }
 ],
 "metadata": {
  "kernelspec": {
   "display_name": "Python 3 (ipykernel)",
   "language": "python",
   "name": "python3"
  },
  "language_info": {
   "codemirror_mode": {
    "name": "ipython",
    "version": 3
   },
   "file_extension": ".py",
   "mimetype": "text/x-python",
   "name": "python",
   "nbconvert_exporter": "python",
   "pygments_lexer": "ipython3",
   "version": "3.9.7"
  }
 },
 "nbformat": 4,
 "nbformat_minor": 5
}
