{
 "cells": [
  {
   "cell_type": "markdown",
   "id": "6fc0e7e7",
   "metadata": {},
   "source": [
    "<div style=\"background-color:#EAEAE9;padding:10px 40px;text-align:center; vertical-align: middle;font-family:didot;\" id=\"enunciado\">  \n",
    " <p style=\"font-size: 15px;text-align: justify;\">¿Cuál es el caudal de agua en una tubería de alcantarillado de $60$ cm de\n",
    "diámetro, estando la tubería semillena (al $50$ %) y teniendo una pendiente de $J=0,0025$\n",
    "unidades?.($n=0,015$)\n",
    "</p>\n",
    "</div>"
   ]
  },
  {
   "cell_type": "markdown",
   "id": "50def486",
   "metadata": {},
   "source": [
    "   <p></p>"
   ]
  },
  {
   "cell_type": "markdown",
   "id": "9b9074d8",
   "metadata": {},
   "source": [
    "<div class=\"texto\">\n",
    "  <p>Se calculará mediante la fórmula del caudal de Manning:</p>\n",
    "</div> "
   ]
  },
  {
   "cell_type": "markdown",
   "id": "66220e63",
   "metadata": {},
   "source": [
    "<div class=\"formulas\">\n",
    " $$    \n",
    "  Q=\\frac{1}{n}AR_{_h}^{^{\\frac{2}{3}}}J^{^{\\frac{1}{2}}}\n",
    " $$\n",
    "</div>"
   ]
  },
  {
   "cell_type": "markdown",
   "id": "0a379caa",
   "metadata": {},
   "source": [
    "<div class=\"texto\">\n",
    "  <p>Como la tuberia está semillena, se podrá realizar el problema como uno semicircular:</p>\n",
    "</div> "
   ]
  },
  {
   "cell_type": "markdown",
   "id": "295ec7d7",
   "metadata": {},
   "source": [
    "<div class=\"formulas\">\n",
    " $$    \n",
    "   Q = \\frac{1}{0,015} \\cdot \\frac{\\pi \\cdot 0,6^2}{8} \\cdot \\left(\\frac{0,6}{4} \\right)^{\\frac{2}{3}} \\cdot \n",
    "   0,0025^{\\frac{1}{2}} = 0,13303 \\frac{m^3}{s} = 133,035 \\frac{l}{s}\n",
    " $$\n",
    "</div>"
   ]
  }
 ],
 "metadata": {
  "kernelspec": {
   "display_name": "Python 3 (ipykernel)",
   "language": "python",
   "name": "python3"
  },
  "language_info": {
   "codemirror_mode": {
    "name": "ipython",
    "version": 3
   },
   "file_extension": ".py",
   "mimetype": "text/x-python",
   "name": "python",
   "nbconvert_exporter": "python",
   "pygments_lexer": "ipython3",
   "version": "3.9.7"
  }
 },
 "nbformat": 4,
 "nbformat_minor": 5
}
