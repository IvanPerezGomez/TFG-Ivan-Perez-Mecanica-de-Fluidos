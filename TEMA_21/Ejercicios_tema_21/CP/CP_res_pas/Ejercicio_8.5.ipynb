{
 "cells": [
  {
   "cell_type": "markdown",
   "id": "6fc0e7e7",
   "metadata": {},
   "source": [
    "<div style=\"background-color:#EAEAE9;padding:10px 40px;text-align:center; vertical-align: middle;font-family:didot;\" id=\"enunciado\">  \n",
    " <p style=\"font-size: 15px;text-align: justify;\">¿Qué velocidad real y calado alcanzará un caudal de $125 \\frac{l}{s}$ en una tubería\n",
    "de hormigón en bruto de $40$ cm de diámetro con $5$ milésimas de pendiente?\n",
    "</p>\n",
    "</div>"
   ]
  },
  {
   "cell_type": "markdown",
   "id": "50def486",
   "metadata": {},
   "source": [
    "   <p></p>"
   ]
  },
  {
   "cell_type": "markdown",
   "id": "9b9074d8",
   "metadata": {},
   "source": [
    "<div class=\"texto\">\n",
    "  <p>Primeramente, se calculará $Q_{ll}$ mediante la fórmula del caudal de Manning:</p>\n",
    "</div> "
   ]
  },
  {
   "cell_type": "markdown",
   "id": "66220e63",
   "metadata": {},
   "source": [
    "<div class=\"formulas\">\n",
    " $$    \n",
    "  Q=\\frac{1}{n}AR_{_h}^{^{\\frac{2}{3}}}J^{^{\\frac{1}{2}}}\n",
    " $$\n",
    "</div>"
   ]
  },
  {
   "cell_type": "markdown",
   "id": "295ec7d7",
   "metadata": {},
   "source": [
    "<div class=\"formulas\">\n",
    " $$    \n",
    "   Q_{ll} = \\frac{1}{0,012} \\cdot \\frac{\\pi \\cdot 0,4^2}{4} \\cdot \\left(\\frac{0,4}{4} \\right)^{\\frac{2}{3}} \\cdot \n",
    "   0,005^{\\frac{1}{2}} = 0,1276 \\frac{m^3}{s} = 127,6 \\frac{l}{s}\n",
    " $$\n",
    "</div>"
   ]
  },
  {
   "cell_type": "markdown",
   "id": "2df74a9d",
   "metadata": {},
   "source": [
    "<div class=\"formulas\">\n",
    " $$    \n",
    "   \\frac{Q_c}{Q_{ll}} = \\frac{125}{127,6} = 0,979 \n",
    " $$\n",
    "</div>"
   ]
  },
  {
   "cell_type": "markdown",
   "id": "f9b6201c",
   "metadata": {},
   "source": [
    "<div class=\"texto\">\n",
    "  <p>Ahora se podrá calcular la velocidad $V_{ll}$:</p>\n",
    "</div>"
   ]
  },
  {
   "cell_type": "markdown",
   "id": "29f7cc03",
   "metadata": {},
   "source": [
    "<div class=\"formulas\"> \n",
    "   $$\n",
    "    V_{ll} = \\frac{Q_{ll}}{A} = \\frac {0,1276}{\\frac{\\pi \\cdot 0,4^2}{4}} = 1,0154 \\frac{m}{s}\n",
    "   $$\n",
    "</div>"
   ]
  },
  {
   "cell_type": "markdown",
   "id": "eb6f0b41",
   "metadata": {},
   "source": [
    "<div class=\"texto\">\n",
    "  <p>Se deberá buscar $\\frac{Q_c}{Q_{ll}}=0,979$ en la tabla $Nº28$, donde se obtendrá:</p>\n",
    "</div>"
   ]
  },
  {
   "cell_type": "markdown",
   "id": "8ef26040",
   "metadata": {},
   "source": [
    "<div class=\"formulas\">\n",
    " $$    \n",
    "  \\frac{V_c}{V_{ll}} = 1,139 \n",
    " $$\n",
    "</div>\n",
    "<p></p>\n",
    "<div class=\"formulas\">\n",
    " $$    \n",
    "  \\frac{h_c}{D} = 0,81\n",
    " $$\n",
    "</div>"
   ]
  },
  {
   "cell_type": "markdown",
   "id": "72fc1634",
   "metadata": {},
   "source": [
    "<div class=\"texto\">\n",
    "  <p>Por último, se procederá a calcular $V_c$ y $h_c$:</p>\n",
    "</div>"
   ]
  },
  {
   "cell_type": "markdown",
   "id": "cd4072a2",
   "metadata": {},
   "source": [
    "<div class=\"formulas\">\n",
    " $$    \n",
    "  V_c = 1,139 \\cdot 1,0154 = 1,156 \\frac {m}{s} \n",
    " $$\n",
    "</div>\n",
    "<p></p>\n",
    "<div class=\"formulas\">\n",
    " $$    \n",
    "  h_c = 0,81 \\cdot 0,4 =32,4 \\text { cm} \n",
    " $$\n",
    "</div>"
   ]
  }
 ],
 "metadata": {
  "kernelspec": {
   "display_name": "Python 3 (ipykernel)",
   "language": "python",
   "name": "python3"
  },
  "language_info": {
   "codemirror_mode": {
    "name": "ipython",
    "version": 3
   },
   "file_extension": ".py",
   "mimetype": "text/x-python",
   "name": "python",
   "nbconvert_exporter": "python",
   "pygments_lexer": "ipython3",
   "version": "3.9.7"
  }
 },
 "nbformat": 4,
 "nbformat_minor": 5
}
