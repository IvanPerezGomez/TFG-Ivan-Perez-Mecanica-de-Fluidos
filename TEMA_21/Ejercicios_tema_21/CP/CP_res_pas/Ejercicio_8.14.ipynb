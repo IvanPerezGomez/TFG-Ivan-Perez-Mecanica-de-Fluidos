{
 "cells": [
  {
   "cell_type": "markdown",
   "id": "6fc0e7e7",
   "metadata": {},
   "source": [
    "<div style=\"background-color:#EAEAE9;padding:10px 40px;text-align:center; vertical-align: middle;font-family:didot;\" id=\"enunciado\">  \n",
    " <p style=\"font-size: 15px;text-align: justify;\">Calcular un canal de sección trapecial, con paredes inclinadas $60$ º (semi\n",
    "hexágono), que con una pendiente de $3$ milésimas sea capaz de conducir $30 \\frac{m3}{s}$. Se\n",
    "empleará hormigón en bruto en su construcción.\n",
    "</p>\n",
    "     <br>\n",
    "    <div><center><img src=\"Imagenes/Seccion_trapezoidal.png\" width=\"300\" height=\"300\" ></center></div>\n",
    "</div>"
   ]
  },
  {
   "cell_type": "markdown",
   "id": "50def486",
   "metadata": {},
   "source": [
    "   <p></p>"
   ]
  },
  {
   "cell_type": "markdown",
   "id": "3ea3ac64",
   "metadata": {},
   "source": [
    "<div><center><img src=\"Imagenes/Seccion_trapezoidal_2.png\" width=\"150\" height=\"150\" ></center></div>"
   ]
  },
  {
   "cell_type": "markdown",
   "id": "4f520d58",
   "metadata": {},
   "source": [
    "<div class=\"formulas\">\n",
    " $$    \n",
    "  x = b \\cdot cos(60)  \n",
    " $$\n",
    "</div>\n",
    "<p></p>\n",
    "<div class=\"formulas\">\n",
    " $$    \n",
    "  y = b \\cdot sen(60)  \n",
    " $$\n",
    "</div>"
   ]
  },
  {
   "cell_type": "markdown",
   "id": "66220e63",
   "metadata": {},
   "source": [
    "<div class=\"texto\"> \n",
    "   <p>Primeramente, se calcula el área ($A$) y el perimetro ($P$):</p>\n",
    "</div>"
   ]
  },
  {
   "cell_type": "markdown",
   "id": "295ec7d7",
   "metadata": {},
   "source": [
    "<div class=\"formulas\">\n",
    " <div class=\"formulas\"> \n",
    "    $$\n",
    "    A = \\frac{b + (b + 2x)}{2}  \\cdot y = \\frac{2b + 2(b \\cdot \\cos60^{\\circ})}{2}  \\cdot b \\cdot \\sin60^{\\circ} = 1,3 \\cdot\n",
    "    b^{^2}\n",
    "   $$\n",
    "</div>\n",
    "<p></p>\n",
    "<div class=\"formulas\">\n",
    " $$    \n",
    "  P = 3b\n",
    " $$\n",
    "</div>"
   ]
  },
  {
   "cell_type": "markdown",
   "id": "e58a89a8",
   "metadata": {},
   "source": [
    "<div class=\"texto\"> \n",
    "   <p>Ahora se calculará el radio hidráulico, es decir $R_{_h}=\\frac{A}{P}$ para que de esa manera se sustituya posteriormente \n",
    "       en la fórmula de Manning del caudal Q:</p>\n",
    "</div>"
   ]
  },
  {
   "cell_type": "markdown",
   "id": "0c18a8ca",
   "metadata": {},
   "source": [
    "<div class=\"formulas\">\n",
    " $$    \n",
    "   R_{_h}=\\frac{A}{P} = 0,43 \\cdot b\n",
    " $$\n",
    "</div>"
   ]
  },
  {
   "cell_type": "markdown",
   "id": "2df74a9d",
   "metadata": {},
   "source": [
    "<div class=\"texto\">\n",
    "  <p>Finalmente, se sustituirán los datos en la ecuación de Manning para hallar la altura:</p>\n",
    "</div>"
   ]
  },
  {
   "cell_type": "markdown",
   "id": "eb6f0b41",
   "metadata": {},
   "source": [
    "<div class=\"formulas\">\n",
    " $$    \n",
    "   30=\\frac{1}{0,015} \\cdot (1,3 \\cdot b^{^2}) \\cdot (0,43 \\cdot b)^{^{\\frac{2}{3}}} \\cdot 0,003^{^{\\frac{1}{2}}}\\to b=2,46m\n",
    " $$\n",
    "</div>"
   ]
  },
  {
   "cell_type": "markdown",
   "id": "64609a9a",
   "metadata": {},
   "source": [
    "<div class=\"formulas\">\n",
    " $$    \n",
    "  H = y = b \\cdot sen(60) = 2,46 \\cdot sen(60) = 2,13\\text{ m} \n",
    " $$\n",
    "</div>"
   ]
  }
 ],
 "metadata": {
  "kernelspec": {
   "display_name": "Python 3 (ipykernel)",
   "language": "python",
   "name": "python3"
  },
  "language_info": {
   "codemirror_mode": {
    "name": "ipython",
    "version": 3
   },
   "file_extension": ".py",
   "mimetype": "text/x-python",
   "name": "python",
   "nbconvert_exporter": "python",
   "pygments_lexer": "ipython3",
   "version": "3.9.7"
  }
 },
 "nbformat": 4,
 "nbformat_minor": 5
}
