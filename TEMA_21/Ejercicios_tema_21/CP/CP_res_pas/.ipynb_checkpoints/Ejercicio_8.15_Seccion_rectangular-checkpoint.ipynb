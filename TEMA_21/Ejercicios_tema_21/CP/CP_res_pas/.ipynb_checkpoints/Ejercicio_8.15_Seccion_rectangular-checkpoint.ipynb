{
 "cells": [
  {
   "cell_type": "markdown",
   "id": "6fc0e7e7",
   "metadata": {},
   "source": [
    "<div style=\"background-color:#EAEAE9;padding:10px 40px;text-align:center; vertical-align: middle;font-family:didot;\" id=\"enunciado\">  \n",
    " <p style=\"font-size: 15px;text-align: justify;\">\n",
    "     Se quiere canalizar un río desde la cota $120$ hasta la cota $114$, con una\n",
    "longitud de $4$ km, siendo el caudal en máximas avenidas de  $23 \\frac{m^3}{s}$. Diseñar dicho\n",
    "canal supuesto de hormigón en bruto y de sección rectangular.\n",
    "</p>\n",
    "     <br>\n",
    "    <div><center><img src=\"Imagenes/Seccion_rectangular.png\" width=\"300\" height=\"300\" ></center></div>\n",
    "</div>"
   ]
  },
  {
   "cell_type": "markdown",
   "id": "50def486",
   "metadata": {},
   "source": [
    "   <p></p>"
   ]
  },
  {
   "cell_type": "markdown",
   "id": "66220e63",
   "metadata": {},
   "source": [
    "<div class=\"texto\">\n",
    "  <p>Primeramente, se usará la expresión de Manning para el cálculo de canales:</p>\n",
    "</div> "
   ]
  },
  {
   "cell_type": "markdown",
   "id": "295ec7d7",
   "metadata": {},
   "source": [
    "<div class=\"formulas\">\n",
    " $$    \n",
    "  Q=\\frac{1}{n}AR_{_H}^{^{\\frac{2}{3}}}J^{^{\\frac{1}{2}}}\n",
    " $$\n",
    "</div>"
   ]
  },
  {
   "cell_type": "markdown",
   "id": "53d52c0a",
   "metadata": {},
   "source": [
    "<div class=\"texto\">\n",
    "  <p>A continuación, se calculara la pendiente J:</p>\n",
    "</div> "
   ]
  },
  {
   "cell_type": "markdown",
   "id": "606fd590",
   "metadata": {},
   "source": [
    "<div class=\"formulas\">\n",
    " $$    \n",
    "  J= \\frac{120-114}{4000}= 0,0015\n",
    " $$\n",
    "</div>"
   ]
  },
  {
   "cell_type": "markdown",
   "id": "0c18a8ca",
   "metadata": {},
   "source": [
    "<div class=\"texto\">\n",
    "  <p>Sustituyendo a los valores proporcionados:</p>\n",
    "</div> "
   ]
  },
  {
   "cell_type": "markdown",
   "id": "2df74a9d",
   "metadata": {},
   "source": [
    "<div class=\"formulas\">\n",
    " $$    \n",
    "  AR_{_H}^{^{\\frac{2}{3}}} = \\frac{n \\cdot Q}{J^{^{\\frac{1}{2}}}} =  \\frac{0,015 \\cdot 23}{0,0015^{^{\\frac{1}{2}}}} = 8,9\n",
    " $$\n",
    "</div>"
   ]
  },
  {
   "cell_type": "markdown",
   "id": "eb6f0b41",
   "metadata": {},
   "source": [
    "<div class=\"texto\">\n",
    "  <p>Cálculo de la sección y el perímetro óptimo: (b = 2.h). Por tanto:</p>\n",
    "</div> "
   ]
  },
  {
   "cell_type": "markdown",
   "id": "b0bb262e",
   "metadata": {},
   "source": [
    "<div class=\"formulas\">\n",
    " $$    \n",
    "  A = b \\cdot h = 2h^2\n",
    " $$\n",
    "</div>\n",
    "<p></p>\n",
    "<div class=\"formulas\">\n",
    " $$    \n",
    "  P = b + 2h = 4h\n",
    " $$\n",
    "</div>"
   ]
  },
  {
   "cell_type": "markdown",
   "id": "80f068da",
   "metadata": {},
   "source": [
    "<div class=\"texto\">\n",
    "  <p>Cálculo del radio hidráulico óptimo:</p>\n",
    "</div> "
   ]
  },
  {
   "cell_type": "markdown",
   "id": "dab5e520",
   "metadata": {},
   "source": [
    "<div class=\"formulas\">\n",
    " $$    \n",
    "  R_h = \\frac{2h^2}{4h} = \\frac{h}{2}\n",
    " $$\n",
    "</div>"
   ]
  },
  {
   "cell_type": "markdown",
   "id": "4ce7feed",
   "metadata": {},
   "source": [
    "<div class=\"texto\">\n",
    "  <p>Sustituyendo en la expresión anteriormente determinada:</p>\n",
    "</div> "
   ]
  },
  {
   "cell_type": "markdown",
   "id": "67ae1d09",
   "metadata": {},
   "source": [
    "<div class=\"formulas\">\n",
    " $$    \n",
    "  2h^2 \\cdot \\left(\\frac{h}{2} \\right)^{^{\\frac{2}{3}}} = 8,9\n",
    " $$\n",
    "</div>"
   ]
  },
  {
   "cell_type": "markdown",
   "id": "1f37fcb2",
   "metadata": {},
   "source": [
    "<div class=\"formulas\">\n",
    " $$    \n",
    "  h^{\\frac{8}{3}} = \\frac{8,9 \\cdot 2^{^{\\frac{2}{3}}}}{2} \\to h = 2\\text{ m}\n",
    " $$\n",
    "</div>"
   ]
  },
  {
   "cell_type": "markdown",
   "id": "6585c896",
   "metadata": {},
   "source": [
    "<div class=\"formulas\">\n",
    " $$    \n",
    "  b = 2 \\cdot h = 2 \\cdot 2 = 4\\text{ m}\n",
    " $$\n",
    "</div>"
   ]
  }
 ],
 "metadata": {
  "kernelspec": {
   "display_name": "Python 3 (ipykernel)",
   "language": "python",
   "name": "python3"
  },
  "language_info": {
   "codemirror_mode": {
    "name": "ipython",
    "version": 3
   },
   "file_extension": ".py",
   "mimetype": "text/x-python",
   "name": "python",
   "nbconvert_exporter": "python",
   "pygments_lexer": "ipython3",
   "version": "3.9.7"
  }
 },
 "nbformat": 4,
 "nbformat_minor": 5
}
