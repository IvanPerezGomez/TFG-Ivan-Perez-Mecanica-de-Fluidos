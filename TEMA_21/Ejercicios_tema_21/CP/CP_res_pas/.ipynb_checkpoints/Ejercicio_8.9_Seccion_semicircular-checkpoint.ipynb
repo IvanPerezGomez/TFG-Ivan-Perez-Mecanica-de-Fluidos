{
 "cells": [
  {
   "cell_type": "markdown",
   "id": "6fc0e7e7",
   "metadata": {},
   "source": [
    "<div style=\"background-color:#EAEAE9;padding:10px 40px;text-align:center; vertical-align: middle;font-family:didot;\" id=\"enunciado\">  \n",
    " <p style=\"font-size: 15px;text-align: justify;\">Se desea conducir un caudal de agua de $250 \\frac{l}{s}$ entre dos puntos situados a $30$ m de distancia y con un desnivel de $0,60$ m. Se pide calcular el diámetro de la tubería\n",
    "a instalar para que la velocidad no supere $3\\frac{m}{s}$. Calcúlese también el calado. \n",
    "</p>\n",
    "</div>"
   ]
  },
  {
   "cell_type": "markdown",
   "id": "50def486",
   "metadata": {},
   "source": [
    "   <p></p>"
   ]
  },
  {
   "cell_type": "markdown",
   "id": "9b9074d8",
   "metadata": {},
   "source": [
    "<div class=\"texto\">\n",
    "  <p>Primeramente, se calculará el diámetro mediante la fórmula del caudal de Manning:</p>\n",
    "</div> "
   ]
  },
  {
   "cell_type": "markdown",
   "id": "66220e63",
   "metadata": {},
   "source": [
    "<div class=\"formulas\">\n",
    " $$    \n",
    "  Q=\\frac{1}{n}AR_{_h}^{^{\\frac{2}{3}}}J^{^{\\frac{1}{2}}}\n",
    " $$\n",
    "</div>"
   ]
  },
  {
   "cell_type": "markdown",
   "id": "393c8128",
   "metadata": {},
   "source": [
    "<div class=\"formulas\">\n",
    " $$    \n",
    "   0,250 = \\frac{1}{0,015} \\cdot \\frac{\\pi \\cdot D^2}{4} \\cdot \\left(\\frac{D}{4} \\right)^{\\frac{2}{3}} \\cdot \n",
    "   \\left(\\frac{0,6}{30} \\right)^{\\frac{1}{2}} \\to D = 0,397\\text{ m} \\to D = 0,4\\text{ m} \n",
    " $$\n",
    "</div>"
   ]
  },
  {
   "cell_type": "markdown",
   "id": "295ec7d7",
   "metadata": {},
   "source": [
    "<div class=\"formulas\">\n",
    " $$    \n",
    "   Q_{ll} = \\frac{1}{0,015} \\cdot \\frac{\\pi \\cdot 0,4^2}{4} \\cdot \\left(\\frac{0,4}{4} \\right)^{\\frac{2}{3}} \\cdot \n",
    "   0,02^{\\frac{1}{2}} = 0,255 \\frac{m^3}{s}\n",
    " $$\n",
    "</div>"
   ]
  },
  {
   "cell_type": "markdown",
   "id": "2df74a9d",
   "metadata": {},
   "source": [
    "<div class=\"formulas\">\n",
    " $$    \n",
    "   \\frac{Q_c}{Q_{ll}} = \\frac{0,25}{0,255} = 0,979 \\to \\frac{Q_c}{Q_{ll}} = 0,99\n",
    " $$\n",
    "</div>"
   ]
  },
  {
   "cell_type": "markdown",
   "id": "f9b6201c",
   "metadata": {},
   "source": [
    "<div class=\"texto\">\n",
    "  <p>Ahora se podrá calcular la velocidad $V_{ll}$:</p>\n",
    "</div>"
   ]
  },
  {
   "cell_type": "markdown",
   "id": "29f7cc03",
   "metadata": {},
   "source": [
    "<div class=\"formulas\"> \n",
    "   $$\n",
    "    V_{ll} = \\frac{Q_{ll}}{A} = \\frac {0,255}{\\frac{\\pi \\cdot 0,4^2}{4}} = 2,03 \\frac{m}{s}\n",
    "   $$\n",
    "</div>"
   ]
  },
  {
   "cell_type": "markdown",
   "id": "eb6f0b41",
   "metadata": {},
   "source": [
    "<div class=\"texto\">\n",
    "  <p>Se deberá buscar $\\frac{Q_c}{Q_{ll}}=0,99$ en la tabla $Nº27$, donde se obtendrá:</p>\n",
    "</div>"
   ]
  },
  {
   "cell_type": "markdown",
   "id": "8ef26040",
   "metadata": {},
   "source": [
    "<div class=\"formulas\">\n",
    " $$    \n",
    "  \\frac{V_c}{V_{ll}} = 1,14 \n",
    " $$\n",
    "</div>\n",
    "<p></p>\n",
    "<div class=\"formulas\">\n",
    " $$    \n",
    "  \\frac{h_c}{h_{ll}} = 0,811 \n",
    " $$\n",
    "</div>"
   ]
  },
  {
   "cell_type": "markdown",
   "id": "72fc1634",
   "metadata": {},
   "source": [
    "<div class=\"texto\">\n",
    "  <p>Por último, se procederá a calcular $V_c$ y $h_c$:</p>\n",
    "</div>"
   ]
  },
  {
   "cell_type": "markdown",
   "id": "cd4072a2",
   "metadata": {},
   "source": [
    "<div class=\"formulas\">\n",
    " $$    \n",
    "  V_c = 1,14 \\cdot 2,03 = 2,3142 \\frac {m}{s} \n",
    " $$\n",
    "</div>\n",
    "<p></p>\n",
    "<div class=\"formulas\">\n",
    " $$    \n",
    "  h_c = 0,811 \\cdot 0,4 = 0,3244 \\text { m} \n",
    " $$\n",
    "</div>"
   ]
  }
 ],
 "metadata": {
  "kernelspec": {
   "display_name": "Python 3 (ipykernel)",
   "language": "python",
   "name": "python3"
  },
  "language_info": {
   "codemirror_mode": {
    "name": "ipython",
    "version": 3
   },
   "file_extension": ".py",
   "mimetype": "text/x-python",
   "name": "python",
   "nbconvert_exporter": "python",
   "pygments_lexer": "ipython3",
   "version": "3.9.7"
  }
 },
 "nbformat": 4,
 "nbformat_minor": 5
}
