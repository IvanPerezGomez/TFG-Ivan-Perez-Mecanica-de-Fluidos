{
 "cells": [
  {
   "cell_type": "markdown",
   "id": "6fc0e7e7",
   "metadata": {},
   "source": [
    "<div style=\"background-color:#EAEAE9;padding:10px 40px;text-align:center; vertical-align: middle;font-family:didot;\" id=\"enunciado\">  \n",
    " <p style=\"font-size: 15px;text-align: justify;\">¿Con qué pendiente habrá de proyectarse un tubería de hormigón\n",
    "en brutode $40$ cm de diámetro, que parte de un sumidero al que van a parar las\n",
    "aguas de lluvia caídas en $2$ hectáreas, si el calado se desea sea menor del $70$ %?\n",
    "Calcúlese también la velocidad real y el calado.</p>\n",
    "    <p><b>Dato</b>: Caudal específico en sumidero: $150 \\frac{l}{s}$ por hectárea.</p>\n",
    "    <br>\n",
    "    <div><center><img src=\"Imagenes/Ejercicio8.6.png\" width=\"600\" height=\"600\" ></center></div>\n",
    "</div>"
   ]
  },
  {
   "cell_type": "markdown",
   "id": "50def486",
   "metadata": {},
   "source": [
    "   <p></p>"
   ]
  },
  {
   "cell_type": "markdown",
   "id": "68e0f6d2",
   "metadata": {},
   "source": [
    "<div class=\"texto\">\n",
    "  <p>Primeramente, se hallará la relación $h_c/h_{ll}$:</p>\n",
    "</div> "
   ]
  },
  {
   "cell_type": "markdown",
   "id": "ceb20554",
   "metadata": {},
   "source": [
    "<div class=\"formulas\">\n",
    " $$    \n",
    "  0,7D = h_{ll} \n",
    " $$\n",
    "</div>\n",
    "<p></p>\n",
    "<div class=\"formulas\">\n",
    " $$    \n",
    "  \\frac{ h_c}{D} = 0,7\n",
    " $$\n",
    "</div>\n",
    "<p></p>\n",
    "<div class=\"formulas\">\n",
    " $$    \n",
    "  h_c = 0,7 \\cdot D = 0,7 \\cdot 0,4 = 0,28 \\text{ m}\n",
    " $$\n",
    "</div>"
   ]
  },
  {
   "cell_type": "markdown",
   "id": "6ed834a8",
   "metadata": {},
   "source": [
    "<div class=\"texto\">\n",
    "  <p>Se deberá buscar $\\frac{ h_c}{D} = 0,7$ en la tabla $Nº28$, donde se obtendrá:</p>\n",
    "</div>"
   ]
  },
  {
   "cell_type": "markdown",
   "id": "36a14270",
   "metadata": {},
   "source": [
    "<div class=\"formulas\">\n",
    " $$    \n",
    "  \\frac{V_c}{V_{ll}} = 1,12\n",
    " $$\n",
    "</div>\n",
    "<p></p>\n",
    "<div class=\"formulas\">\n",
    " $$    \n",
    "  \\frac{Q_c}{Q_{ll}} = 0,837\n",
    " $$\n",
    "</div>"
   ]
  },
  {
   "cell_type": "markdown",
   "id": "6b632c76",
   "metadata": {},
   "source": [
    "<div class=\"texto\">\n",
    "  <p>Por lo tanto:</p>\n",
    "</div>"
   ]
  },
  {
   "cell_type": "markdown",
   "id": "3b6ce7c0",
   "metadata": {},
   "source": [
    "<div class=\"formulas\">\n",
    " $$    \n",
    "  V_c = 1,12 \\cdot 2,85 = 3,19 \\frac {m}{s} \n",
    " $$\n",
    "</div>\n",
    "<p></p>\n",
    "<div class=\"formulas\">\n",
    " $$    \n",
    "  Q_{ll} = \\frac{300}{0,837} =358,42 \\frac {l}{s} \n",
    " $$\n",
    "</div>\n",
    "<p></p>\n",
    "<div class=\"formulas\"> \n",
    "   $$\n",
    "    V_{ll} = \\frac{Q_{ll}}{A} = \\frac {0,35842}{\\frac{\\pi \\cdot 0,4^2}{4}} = 2,85 \\frac{m}{s}\n",
    "   $$\n",
    "</div>"
   ]
  },
  {
   "cell_type": "markdown",
   "id": "fda3a70f",
   "metadata": {},
   "source": [
    "<div class=\"texto\">\n",
    "  <p>Finalmente, se utilizará formula de Manning para hallar la pendiente:</p>\n",
    "</div>"
   ]
  },
  {
   "cell_type": "markdown",
   "id": "5e8b40eb",
   "metadata": {},
   "source": [
    "<div class=\"formulas\">\n",
    " $$    \n",
    "   0,358 = \\frac{1}{0,015} \\cdot \\frac{\\pi \\cdot 0,4^2}{4} \\cdot \\left(\\frac{D}{4} \\right)^{\\frac{2}{3}} \\cdot \n",
    "   J^{\\frac{1}{2}} \\to J = 0,039\\to 39 \\text{ milésimas} \n",
    " $$\n",
    "</div>"
   ]
  }
 ],
 "metadata": {
  "kernelspec": {
   "display_name": "Python 3 (ipykernel)",
   "language": "python",
   "name": "python3"
  },
  "language_info": {
   "codemirror_mode": {
    "name": "ipython",
    "version": 3
   },
   "file_extension": ".py",
   "mimetype": "text/x-python",
   "name": "python",
   "nbconvert_exporter": "python",
   "pygments_lexer": "ipython3",
   "version": "3.9.7"
  }
 },
 "nbformat": 4,
 "nbformat_minor": 5
}
